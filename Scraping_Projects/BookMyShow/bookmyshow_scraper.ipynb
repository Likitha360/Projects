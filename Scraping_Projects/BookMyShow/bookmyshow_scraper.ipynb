{
 "cells": [
  {
   "cell_type": "code",
   "execution_count": null,
   "id": "89bc441d-d889-4cf5-a432-cbc76aa11ad1",
   "metadata": {},
   "outputs": [],
   "source": [
    "#!pip install selenium"
   ]
  },
  {
   "cell_type": "code",
   "execution_count": 1,
   "id": "81025cf4-a21f-4045-a283-1ae581127bdb",
   "metadata": {},
   "outputs": [],
   "source": [
    "from selenium import webdriver\n",
    "from bs4 import BeautifulSoup as bs\n",
    "from selenium.webdriver.chrome.options import Options"
   ]
  },
  {
   "cell_type": "code",
   "execution_count": 3,
   "id": "cc160178-56e6-4673-8e7d-6a7c39e80d4a",
   "metadata": {},
   "outputs": [],
   "source": [
    "options = Options()\n",
    "#options.add_argument(\"--headless\")  # Run without UI\n",
    "options.add_argument(\"--disable-gpu\")\n",
    "options.add_argument(\"user-agent=Mozilla/5.0 (Windows NT 10.0; Win64; x64) AppleWebKit/537.36 (KHTML, like Gecko) Chrome/133.0.0.0 Safari/537.36\")"
   ]
  },
  {
   "cell_type": "code",
   "execution_count": 27,
   "id": "7579bf0a-7967-4547-821e-9551ff8ccf54",
   "metadata": {},
   "outputs": [],
   "source": [
    "driver = webdriver.Chrome(options = options)"
   ]
  },
  {
   "cell_type": "code",
   "execution_count": 29,
   "id": "81d3d44a-c6c7-40c2-8235-619073e1d1b4",
   "metadata": {},
   "outputs": [
    {
     "name": "stdin",
     "output_type": "stream",
     "text": [
      "Which language do you prefer? Select 1.Telugu  2.Hindi 3.English  3\n"
     ]
    }
   ],
   "source": [
    "choice = int(input(\"\"\"Which language do you prefer? Select 1.Telugu  2.Hindi 3.English \"\"\"))\n",
    "if choice == 1:\n",
    "    choice = 'Telugu'\n",
    "elif choice == 2:\n",
    "    choice = 'Hindi'\n",
    "else:\n",
    "    choice = 'English'\n",
    "\n",
    "choice = choice.lower()\n",
    "url = f'https://in.bookmyshow.com/explore/movies-hyderabad?languages={choice}'"
   ]
  },
  {
   "cell_type": "code",
   "execution_count": 31,
   "id": "6911c883-cd6b-4e0f-a3ca-9f56973245cb",
   "metadata": {},
   "outputs": [],
   "source": [
    "driver.get(url)\n",
    "driver.implicitly_wait(30)"
   ]
  },
  {
   "cell_type": "code",
   "execution_count": 33,
   "id": "d91eb94c-e2bd-46b3-b5e8-16f9b385f614",
   "metadata": {},
   "outputs": [],
   "source": [
    "data = bs(driver.page_source , 'html.parser')"
   ]
  },
  {
   "cell_type": "code",
   "execution_count": 35,
   "id": "c0f91c90-b56f-4a12-a55d-64700e25ad3f",
   "metadata": {},
   "outputs": [
    {
     "name": "stdout",
     "output_type": "stream",
     "text": [
      "Found 15 movie links\n"
     ]
    }
   ],
   "source": [
    "anchors = data.find_all('a', class_=\"sc-133848s-11 sc-1ljcxl3-1 cxWSPX\")\n",
    "#anchors\n",
    "print(f\"Found {len(anchors)} movie links\")"
   ]
  },
  {
   "cell_type": "code",
   "execution_count": 39,
   "id": "6cac8c2e-e06e-4c71-9837-4cefb8da79d0",
   "metadata": {
    "scrolled": true
   },
   "outputs": [
    {
     "name": "stdout",
     "output_type": "stream",
     "text": [
      "Skipped a movie due to missing data: name 'movie_name' is not defined\n",
      "{'name': 'A Complete Unknown', 'image': 'https://assets-in.bmscdn.com/discovery-catalog/events/tr:w-400,h-600,bg-CCCCCC:w-400.0,h-660.0,cm-pad_resize,bg-000000,fo-top:l-image,i-discovery-catalog@@icons@@star-icon-202203010609.png,lx-24,ly-615,w-29,l-end:l-text,ie-OC44LzEwICAxODUgVm90ZXM%3D,fs-29,co-FFFFFF,ly-612,lx-70,pa-8_0_0_0,l-end/et00434215-vgxqrwwgty-portrait.jpg', 'url': 'https://in.bookmyshow.com/hyderabad/movies/a-complete-unknown/ET00434215'}\n",
      "{'name': 'The Brutalist', 'image': 'https://assets-in.bmscdn.com/discovery-catalog/events/tr:w-400,h-600,bg-CCCCCC:w-400.0,h-660.0,cm-pad_resize,bg-000000,fo-top:l-image,i-discovery-catalog@@icons@@star-icon-202203010609.png,lx-24,ly-615,w-29,l-end:l-text,ie-OC4yLzEwICAxOTQgVm90ZXM%3D,fs-29,co-FFFFFF,ly-612,lx-70,pa-8_0_0_0,l-end/et00422382-hcrcycymhx-portrait.jpg', 'url': 'https://in.bookmyshow.com/hyderabad/movies/the-brutalist/ET00422382'}\n",
      "{'name': 'Mickey 17', 'image': 'https://assets-in.bmscdn.com/discovery-catalog/events/tr:w-400,h-600,bg-CCCCCC:w-400.0,h-660.0,cm-pad_resize,bg-000000,fo-top:l-image,i-discovery-catalog@@icons@@like_202006280402.png,lx-24,ly-617,w-29,l-end:l-text,ie-MzMuNUsgTGlrZXM%3D,fs-29,co-FFFFFF,ly-612,lx-70,pa-8_0_0_0,l-end/et00412372-rcxcmhjntf-portrait.jpg', 'url': 'https://in.bookmyshow.com/hyderabad/movies/mickey-17/ET00412372'}\n",
      "{'name': 'Flow', 'image': 'https://assets-in.bmscdn.com/discovery-catalog/events/tr:w-400,h-600,bg-CCCCCC:w-400.0,h-660.0,cm-pad_resize,bg-000000,fo-top:l-image,i-discovery-catalog@@icons@@star-icon-202203010609.png,lx-24,ly-615,w-29,l-end:l-text,ie-OS4yLzEwICA3NSBWb3Rlcw%3D%3D,fs-29,co-FFFFFF,ly-612,lx-70,pa-8_0_0_0,l-end/et00434999-qfhyqzjrnd-portrait.jpg', 'url': 'https://in.bookmyshow.com/hyderabad/movies/flow/ET00434999'}\n",
      "{'name': 'The Monkey', 'image': 'https://assets-in.bmscdn.com/discovery-catalog/events/tr:w-400,h-600,bg-CCCCCC:w-400.0,h-660.0,cm-pad_resize,bg-000000,fo-top:l-image,i-discovery-catalog@@icons@@like_202006280402.png,lx-24,ly-617,w-29,l-end:l-text,ie-NS44SyBMaWtlcw%3D%3D,fs-29,co-FFFFFF,ly-612,lx-70,pa-8_0_0_0,l-end/et00430332-fxwdsequar-portrait.jpg', 'url': 'https://in.bookmyshow.com/hyderabad/movies/the-monkey/ET00430332'}\n",
      "{'name': 'The Wild Robot', 'image': 'https://assets-in.bmscdn.com/discovery-catalog/events/tr:w-400,h-600,bg-CCCCCC:w-400.0,h-660.0,cm-pad_resize,bg-000000,fo-top:l-image,i-discovery-catalog@@icons@@star-icon-202203010609.png,lx-24,ly-615,w-29,l-end:l-text,ie-OS40LzEwICAxNi45SyBWb3Rlcw%3D%3D,fs-29,co-FFFFFF,ly-612,lx-70,pa-8_0_0_0,l-end/et00398665-jsjzrcpnyw-portrait.jpg', 'url': 'https://in.bookmyshow.com/hyderabad/movies/the-wild-robot/ET00398665'}\n",
      "{'name': 'Moana 2', 'image': 'https://assets-in.bmscdn.com/discovery-catalog/events/tr:w-400,h-600,bg-CCCCCC:w-400.0,h-660.0,cm-pad_resize,bg-000000,fo-top:l-image,i-discovery-catalog@@icons@@star-icon-202203010609.png,lx-24,ly-615,w-29,l-end:l-text,ie-OC40LzEwICAyMi40SyBWb3Rlcw%3D%3D,fs-29,co-FFFFFF,ly-612,lx-70,pa-8_0_0_0,l-end/et00387901-dapdnkxxpt-portrait.jpg', 'url': 'https://in.bookmyshow.com/hyderabad/movies/moana-2/ET00387901'}\n",
      "{'name': 'Conclave', 'image': 'https://assets-in.bmscdn.com/discovery-catalog/events/tr:w-400,h-600,bg-CCCCCC:w-400.0,h-660.0,cm-pad_resize,bg-000000,fo-top:l-image,i-discovery-catalog@@icons@@star-icon-202203010609.png,lx-24,ly-615,w-29,l-end:l-text,ie-OC40LzEwICA4NzAgVm90ZXM%3D,fs-29,co-FFFFFF,ly-612,lx-70,pa-8_0_0_0,l-end/et00410886-kuwtgrgbkz-portrait.jpg', 'url': 'https://in.bookmyshow.com/hyderabad/movies/conclave/ET00410886'}\n",
      "{'name': 'A Real Pain', 'image': 'https://assets-in.bmscdn.com/discovery-catalog/events/tr:w-400,h-600,bg-CCCCCC:w-400.0,h-660.0,cm-pad_resize,bg-000000,fo-top:l-image,i-discovery-catalog@@icons@@star-icon-202203010609.png,lx-24,ly-615,w-29,l-end:l-text,ie-OC4yLzEwICA3NjEgVm90ZXM%3D,fs-29,co-FFFFFF,ly-612,lx-70,pa-8_0_0_0,l-end/et00429022-afkhqubsgm-portrait.jpg', 'url': 'https://in.bookmyshow.com/hyderabad/movies/a-real-pain/ET00429022'}\n",
      "{'name': 'Wicked', 'image': 'https://assets-in.bmscdn.com/discovery-catalog/events/tr:w-400,h-600,bg-CCCCCC:w-400.0,h-660.0,cm-pad_resize,bg-000000,fo-top:l-image,i-discovery-catalog@@icons@@star-icon-202203010609.png,lx-24,ly-615,w-29,l-end:l-text,ie-Ny42LzEwICAyLjFLIFZvdGVz,fs-29,co-FFFFFF,ly-612,lx-70,pa-8_0_0_0,l-end/et00398666-dcfgbgaeps-portrait.jpg', 'url': 'https://in.bookmyshow.com/hyderabad/movies/wicked/ET00398666'}\n",
      "{'name': 'Inside Out 2', 'image': 'https://assets-in.bmscdn.com/discovery-catalog/events/tr:w-400,h-600,bg-CCCCCC:w-400.0,h-660.0,cm-pad_resize,bg-000000,fo-top:l-image,i-discovery-catalog@@icons@@star-icon-202203010609.png,lx-24,ly-615,w-29,l-end:l-text,ie-OS4yLzEwICAzNi41SyBWb3Rlcw%3D%3D,fs-29,co-FFFFFF,ly-612,lx-70,pa-8_0_0_0,l-end/et00384010-jdaaxdzzss-portrait.jpg', 'url': 'https://in.bookmyshow.com/hyderabad/movies/inside-out-2/ET00384010'}\n"
     ]
    }
   ],
   "source": [
    "result = []\n",
    "base_url = \"https://in.bookmyshow.com\"\n",
    "for mv in anchors:\n",
    "    #print(mv)\n",
    "    #print('\\n\\n')\n",
    "\n",
    "    \n",
    "    mv_link = base_url + mv.get('href') if mv.get('href').startswith('/') else mv.get('href')\n",
    "    src = mv.find('img').get('src') \n",
    "    try:\n",
    "        movie_name = mv.find('h3').text.strip()\n",
    "    except:\n",
    "        pass\n",
    "    try:\n",
    "        if movie_name.lower().replace(' ', '-').replace('(','').replace(')','') in mv_link:\n",
    "            #print(movie_name.lower())\n",
    "            #print(mv_link)\n",
    "\n",
    "            item = {\n",
    "        \n",
    "                'name': movie_name,\n",
    "                'image': src,\n",
    "                'url':mv_link\n",
    "            }\n",
    "            print(item)\n",
    "            result.append(item)\n",
    "            #print(\"\\n\\n\")\n",
    "    except Exception as e:\n",
    "        print(f\"Skipped a movie due to missing data: {e}\")\n",
    "    "
   ]
  },
  {
   "cell_type": "code",
   "execution_count": null,
   "id": "4c90757f-d58f-4d32-a32b-343bc96ac131",
   "metadata": {},
   "outputs": [],
   "source": [
    "#sending an email"
   ]
  },
  {
   "cell_type": "code",
   "execution_count": 41,
   "id": "18197919-72ec-427c-85a6-321764c934cf",
   "metadata": {},
   "outputs": [],
   "source": [
    "import smtplib\n",
    "from email.mime.text import MIMEText\n",
    "from email.mime.multipart import MIMEMultipart\n",
    "#mime for formatting the html text"
   ]
  },
  {
   "cell_type": "code",
   "execution_count": 43,
   "id": "740ef85e-5b8e-41fb-a7ca-a7529637bcdf",
   "metadata": {},
   "outputs": [],
   "source": [
    "sender_email = \"likitha418@gmail.com\"  \n",
    "sender_password = \"fcge ocsx dycx mkxl\"  \n",
    "receiver_email = [ \"likitha418@gmail.com\" ] \n",
    "subject = \"BookMyShow Movies Running Today\""
   ]
  },
  {
   "cell_type": "code",
   "execution_count": null,
   "id": "7ca311a8-0ed6-4873-a8b6-699c4ac005c8",
   "metadata": {},
   "outputs": [],
   "source": [
    "html_body = \"\"\"\n",
    "<html>\n",
    "<head>\n",
    "    <style>\n",
    "        body { font-family: Arial, sans-serif; margin: 20px; }\n",
    "        h2 { color: #333; text-align: center; }\n",
    "        ul { list-style-type: none; padding: 0; }\n",
    "        li { margin: 20px 0; padding: 15px; border: 1px solid #ddd; border-radius: 5px; background-color: #f9f9f9; }\n",
    "        .movie-title { font-weight: bold; font-size: 18px; color: #2a2a2a; }\n",
    "        .movie-link { color: #0066cc; text-decoration: none; }\n",
    "        .movie-link:hover { text-decoration: underline; }\n",
    "        .movie-image { display: block; margin: 10px auto; max-width: 150px; }\n",
    "        p { text-align: center; color: #666; }\n",
    "    </style>\n",
    "</head>\n",
    "<body>\n",
    "<h2>Telugu Movie Data from BookMyShow</h2>\n",
    "<ul>\n",
    "\"\"\""
   ]
  },
  {
   "cell_type": "code",
   "execution_count": null,
   "id": "07b2aedd-e319-4994-b074-016894fd93d8",
   "metadata": {},
   "outputs": [],
   "source": [
    "movies = result\n",
    "for movie in movies:\n",
    "    html_body += f\"\"\"\n",
    "    <li>\n",
    "        <div class=\"movie-title\">{movie['name']}</div>\n",
    "        <a href=\"{movie['url']}\" class=\"movie-link\">Book Now</a><br>\n",
    "        <img src=\"{movie['image']}\" alt=\"{movie['name']}\" class=\"movie-image\">\n",
    "    </li>\n",
    "    \"\"\""
   ]
  },
  {
   "cell_type": "code",
   "execution_count": null,
   "id": "9b78e613-72b1-49c6-b058-ea982a50fa3d",
   "metadata": {},
   "outputs": [],
   "source": [
    "html_body += \"\"\"\n",
    "</ul>\n",
    "<p>Total movies: {}</p>\n",
    "</body>\n",
    "</html>\n",
    "\"\"\".format(len(movies))"
   ]
  },
  {
   "cell_type": "code",
   "execution_count": null,
   "id": "01ca6641-cf11-44aa-8983-cff12ba7ab6c",
   "metadata": {},
   "outputs": [],
   "source": [
    "for person in receiver_email:\n",
    "  \n",
    "    msg = MIMEMultipart(\"alternative\")\n",
    "    msg[\"Subject\"] = subject\n",
    "    msg[\"From\"] = sender_email\n",
    "    msg[\"To\"] = person\n",
    "    \n",
    "    # Attach HTML content\n",
    "    html_part = MIMEText(html_body, \"html\")\n",
    "    msg.attach(html_part)\n",
    "    \n",
    "    try:\n",
    "        with smtplib.SMTP(\"smtp.gmail.com\", 587) as server:\n",
    "            server.starttls()  # Enable TLS\n",
    "            server.login(sender_email, sender_password)\n",
    "            server.sendmail(sender_email, person, msg.as_string())\n",
    "        print(f\"Email sent to {person} successfully!\")\n",
    "    except Exception as e:\n",
    "        print(f\"Failed to send email to {person}: {e}\")"
   ]
  },
  {
   "cell_type": "code",
   "execution_count": null,
   "id": "18a3f026-06fd-4dcc-82fe-672f48a01e4a",
   "metadata": {},
   "outputs": [],
   "source": [
    "driver.quit()"
   ]
  },
  {
   "cell_type": "code",
   "execution_count": null,
   "id": "1505f91d-d089-4c8d-96c4-0fad778b6708",
   "metadata": {},
   "outputs": [],
   "source": []
  }
 ],
 "metadata": {
  "kernelspec": {
   "display_name": "Python [conda env:base] *",
   "language": "python",
   "name": "conda-base-py"
  },
  "language_info": {
   "codemirror_mode": {
    "name": "ipython",
    "version": 3
   },
   "file_extension": ".py",
   "mimetype": "text/x-python",
   "name": "python",
   "nbconvert_exporter": "python",
   "pygments_lexer": "ipython3",
   "version": "3.12.7"
  }
 },
 "nbformat": 4,
 "nbformat_minor": 5
}
