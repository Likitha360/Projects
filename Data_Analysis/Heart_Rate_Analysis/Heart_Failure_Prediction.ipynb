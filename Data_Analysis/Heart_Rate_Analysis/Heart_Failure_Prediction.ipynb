{
 "cells": [
  {
   "cell_type": "markdown",
   "id": "f5c84776-40a1-4dc1-a762-252ebe78f1dc",
   "metadata": {},
   "source": [
    "# Heart Failure Prediction\n"
   ]
  },
  {
   "cell_type": "markdown",
   "id": "c3df57c3-3ed9-4e70-8a6d-4259a8448784",
   "metadata": {},
   "source": [
    "## Data Exploration"
   ]
  },
  {
   "cell_type": "code",
   "execution_count": 3,
   "id": "6e180519-df8b-4066-82a4-70704e9c6642",
   "metadata": {},
   "outputs": [],
   "source": [
    "#importing required libraries\n",
    "import pandas as pd"
   ]
  },
  {
   "cell_type": "code",
   "execution_count": 4,
   "id": "834f5c3a-24cc-4ff0-81ec-be46a23b76cc",
   "metadata": {},
   "outputs": [
    {
     "name": "stdout",
     "output_type": "stream",
     "text": [
      "Dataset has been loaded\n"
     ]
    }
   ],
   "source": [
    "#Loading the dataset\n",
    "df = pd.read_csv('heart.csv')\n",
    "print('Dataset has been loaded')"
   ]
  },
  {
   "cell_type": "code",
   "execution_count": 5,
   "id": "b764c739-240d-4e09-944b-260c7e70adb8",
   "metadata": {},
   "outputs": [
    {
     "data": {
      "text/html": [
       "<div>\n",
       "<style scoped>\n",
       "    .dataframe tbody tr th:only-of-type {\n",
       "        vertical-align: middle;\n",
       "    }\n",
       "\n",
       "    .dataframe tbody tr th {\n",
       "        vertical-align: top;\n",
       "    }\n",
       "\n",
       "    .dataframe thead th {\n",
       "        text-align: right;\n",
       "    }\n",
       "</style>\n",
       "<table border=\"1\" class=\"dataframe\">\n",
       "  <thead>\n",
       "    <tr style=\"text-align: right;\">\n",
       "      <th></th>\n",
       "      <th>Age</th>\n",
       "      <th>Sex</th>\n",
       "      <th>ChestPainType</th>\n",
       "      <th>RestingBP</th>\n",
       "      <th>Cholesterol</th>\n",
       "      <th>FastingBS</th>\n",
       "      <th>RestingECG</th>\n",
       "      <th>MaxHR</th>\n",
       "      <th>ExerciseAngina</th>\n",
       "      <th>Oldpeak</th>\n",
       "      <th>ST_Slope</th>\n",
       "      <th>HeartDisease</th>\n",
       "    </tr>\n",
       "  </thead>\n",
       "  <tbody>\n",
       "    <tr>\n",
       "      <th>0</th>\n",
       "      <td>40</td>\n",
       "      <td>M</td>\n",
       "      <td>ATA</td>\n",
       "      <td>140</td>\n",
       "      <td>289</td>\n",
       "      <td>0</td>\n",
       "      <td>Normal</td>\n",
       "      <td>172</td>\n",
       "      <td>N</td>\n",
       "      <td>0.0</td>\n",
       "      <td>Up</td>\n",
       "      <td>0</td>\n",
       "    </tr>\n",
       "    <tr>\n",
       "      <th>1</th>\n",
       "      <td>49</td>\n",
       "      <td>F</td>\n",
       "      <td>NAP</td>\n",
       "      <td>160</td>\n",
       "      <td>180</td>\n",
       "      <td>0</td>\n",
       "      <td>Normal</td>\n",
       "      <td>156</td>\n",
       "      <td>N</td>\n",
       "      <td>1.0</td>\n",
       "      <td>Flat</td>\n",
       "      <td>1</td>\n",
       "    </tr>\n",
       "    <tr>\n",
       "      <th>2</th>\n",
       "      <td>37</td>\n",
       "      <td>M</td>\n",
       "      <td>ATA</td>\n",
       "      <td>130</td>\n",
       "      <td>283</td>\n",
       "      <td>0</td>\n",
       "      <td>ST</td>\n",
       "      <td>98</td>\n",
       "      <td>N</td>\n",
       "      <td>0.0</td>\n",
       "      <td>Up</td>\n",
       "      <td>0</td>\n",
       "    </tr>\n",
       "    <tr>\n",
       "      <th>3</th>\n",
       "      <td>48</td>\n",
       "      <td>F</td>\n",
       "      <td>ASY</td>\n",
       "      <td>138</td>\n",
       "      <td>214</td>\n",
       "      <td>0</td>\n",
       "      <td>Normal</td>\n",
       "      <td>108</td>\n",
       "      <td>Y</td>\n",
       "      <td>1.5</td>\n",
       "      <td>Flat</td>\n",
       "      <td>1</td>\n",
       "    </tr>\n",
       "    <tr>\n",
       "      <th>4</th>\n",
       "      <td>54</td>\n",
       "      <td>M</td>\n",
       "      <td>NAP</td>\n",
       "      <td>150</td>\n",
       "      <td>195</td>\n",
       "      <td>0</td>\n",
       "      <td>Normal</td>\n",
       "      <td>122</td>\n",
       "      <td>N</td>\n",
       "      <td>0.0</td>\n",
       "      <td>Up</td>\n",
       "      <td>0</td>\n",
       "    </tr>\n",
       "  </tbody>\n",
       "</table>\n",
       "</div>"
      ],
      "text/plain": [
       "   Age Sex ChestPainType  RestingBP  Cholesterol  FastingBS RestingECG  MaxHR  \\\n",
       "0   40   M           ATA        140          289          0     Normal    172   \n",
       "1   49   F           NAP        160          180          0     Normal    156   \n",
       "2   37   M           ATA        130          283          0         ST     98   \n",
       "3   48   F           ASY        138          214          0     Normal    108   \n",
       "4   54   M           NAP        150          195          0     Normal    122   \n",
       "\n",
       "  ExerciseAngina  Oldpeak ST_Slope  HeartDisease  \n",
       "0              N      0.0       Up             0  \n",
       "1              N      1.0     Flat             1  \n",
       "2              N      0.0       Up             0  \n",
       "3              Y      1.5     Flat             1  \n",
       "4              N      0.0       Up             0  "
      ]
     },
     "execution_count": 5,
     "metadata": {},
     "output_type": "execute_result"
    }
   ],
   "source": [
    "#Displaying the top 5 results of the dataset\n",
    "df.head()"
   ]
  },
  {
   "cell_type": "code",
   "execution_count": 6,
   "id": "53d896f5-4747-4343-a2f7-336510b6d3e6",
   "metadata": {},
   "outputs": [
    {
     "name": "stdout",
     "output_type": "stream",
     "text": [
      "<class 'pandas.core.frame.DataFrame'>\n",
      "RangeIndex: 918 entries, 0 to 917\n",
      "Data columns (total 12 columns):\n",
      " #   Column          Non-Null Count  Dtype  \n",
      "---  ------          --------------  -----  \n",
      " 0   Age             918 non-null    int64  \n",
      " 1   Sex             918 non-null    object \n",
      " 2   ChestPainType   918 non-null    object \n",
      " 3   RestingBP       918 non-null    int64  \n",
      " 4   Cholesterol     918 non-null    int64  \n",
      " 5   FastingBS       918 non-null    int64  \n",
      " 6   RestingECG      918 non-null    object \n",
      " 7   MaxHR           918 non-null    int64  \n",
      " 8   ExerciseAngina  918 non-null    object \n",
      " 9   Oldpeak         918 non-null    float64\n",
      " 10  ST_Slope        918 non-null    object \n",
      " 11  HeartDisease    918 non-null    int64  \n",
      "dtypes: float64(1), int64(6), object(5)\n",
      "memory usage: 86.2+ KB\n"
     ]
    }
   ],
   "source": [
    "#Getting to know Data info\n",
    "df.info()"
   ]
  },
  {
   "cell_type": "code",
   "execution_count": 7,
   "id": "5b9c8dd6-e4d3-44f4-8358-12a8ba8aa2c7",
   "metadata": {},
   "outputs": [
    {
     "name": "stdout",
     "output_type": "stream",
     "text": [
      "Statictics of the dataframe\n"
     ]
    },
    {
     "data": {
      "text/html": [
       "<div>\n",
       "<style scoped>\n",
       "    .dataframe tbody tr th:only-of-type {\n",
       "        vertical-align: middle;\n",
       "    }\n",
       "\n",
       "    .dataframe tbody tr th {\n",
       "        vertical-align: top;\n",
       "    }\n",
       "\n",
       "    .dataframe thead th {\n",
       "        text-align: right;\n",
       "    }\n",
       "</style>\n",
       "<table border=\"1\" class=\"dataframe\">\n",
       "  <thead>\n",
       "    <tr style=\"text-align: right;\">\n",
       "      <th></th>\n",
       "      <th>Age</th>\n",
       "      <th>RestingBP</th>\n",
       "      <th>Cholesterol</th>\n",
       "      <th>FastingBS</th>\n",
       "      <th>MaxHR</th>\n",
       "      <th>Oldpeak</th>\n",
       "      <th>HeartDisease</th>\n",
       "    </tr>\n",
       "  </thead>\n",
       "  <tbody>\n",
       "    <tr>\n",
       "      <th>count</th>\n",
       "      <td>918.000000</td>\n",
       "      <td>918.000000</td>\n",
       "      <td>918.000000</td>\n",
       "      <td>918.000000</td>\n",
       "      <td>918.000000</td>\n",
       "      <td>918.000000</td>\n",
       "      <td>918.000000</td>\n",
       "    </tr>\n",
       "    <tr>\n",
       "      <th>mean</th>\n",
       "      <td>53.510893</td>\n",
       "      <td>132.396514</td>\n",
       "      <td>198.799564</td>\n",
       "      <td>0.233115</td>\n",
       "      <td>136.809368</td>\n",
       "      <td>0.887364</td>\n",
       "      <td>0.553377</td>\n",
       "    </tr>\n",
       "    <tr>\n",
       "      <th>std</th>\n",
       "      <td>9.432617</td>\n",
       "      <td>18.514154</td>\n",
       "      <td>109.384145</td>\n",
       "      <td>0.423046</td>\n",
       "      <td>25.460334</td>\n",
       "      <td>1.066570</td>\n",
       "      <td>0.497414</td>\n",
       "    </tr>\n",
       "    <tr>\n",
       "      <th>min</th>\n",
       "      <td>28.000000</td>\n",
       "      <td>0.000000</td>\n",
       "      <td>0.000000</td>\n",
       "      <td>0.000000</td>\n",
       "      <td>60.000000</td>\n",
       "      <td>-2.600000</td>\n",
       "      <td>0.000000</td>\n",
       "    </tr>\n",
       "    <tr>\n",
       "      <th>25%</th>\n",
       "      <td>47.000000</td>\n",
       "      <td>120.000000</td>\n",
       "      <td>173.250000</td>\n",
       "      <td>0.000000</td>\n",
       "      <td>120.000000</td>\n",
       "      <td>0.000000</td>\n",
       "      <td>0.000000</td>\n",
       "    </tr>\n",
       "    <tr>\n",
       "      <th>50%</th>\n",
       "      <td>54.000000</td>\n",
       "      <td>130.000000</td>\n",
       "      <td>223.000000</td>\n",
       "      <td>0.000000</td>\n",
       "      <td>138.000000</td>\n",
       "      <td>0.600000</td>\n",
       "      <td>1.000000</td>\n",
       "    </tr>\n",
       "    <tr>\n",
       "      <th>75%</th>\n",
       "      <td>60.000000</td>\n",
       "      <td>140.000000</td>\n",
       "      <td>267.000000</td>\n",
       "      <td>0.000000</td>\n",
       "      <td>156.000000</td>\n",
       "      <td>1.500000</td>\n",
       "      <td>1.000000</td>\n",
       "    </tr>\n",
       "    <tr>\n",
       "      <th>max</th>\n",
       "      <td>77.000000</td>\n",
       "      <td>200.000000</td>\n",
       "      <td>603.000000</td>\n",
       "      <td>1.000000</td>\n",
       "      <td>202.000000</td>\n",
       "      <td>6.200000</td>\n",
       "      <td>1.000000</td>\n",
       "    </tr>\n",
       "  </tbody>\n",
       "</table>\n",
       "</div>"
      ],
      "text/plain": [
       "              Age   RestingBP  Cholesterol   FastingBS       MaxHR  \\\n",
       "count  918.000000  918.000000   918.000000  918.000000  918.000000   \n",
       "mean    53.510893  132.396514   198.799564    0.233115  136.809368   \n",
       "std      9.432617   18.514154   109.384145    0.423046   25.460334   \n",
       "min     28.000000    0.000000     0.000000    0.000000   60.000000   \n",
       "25%     47.000000  120.000000   173.250000    0.000000  120.000000   \n",
       "50%     54.000000  130.000000   223.000000    0.000000  138.000000   \n",
       "75%     60.000000  140.000000   267.000000    0.000000  156.000000   \n",
       "max     77.000000  200.000000   603.000000    1.000000  202.000000   \n",
       "\n",
       "          Oldpeak  HeartDisease  \n",
       "count  918.000000    918.000000  \n",
       "mean     0.887364      0.553377  \n",
       "std      1.066570      0.497414  \n",
       "min     -2.600000      0.000000  \n",
       "25%      0.000000      0.000000  \n",
       "50%      0.600000      1.000000  \n",
       "75%      1.500000      1.000000  \n",
       "max      6.200000      1.000000  "
      ]
     },
     "execution_count": 7,
     "metadata": {},
     "output_type": "execute_result"
    }
   ],
   "source": [
    "print('Statictics of the dataframe')\n",
    "df.describe()"
   ]
  },
  {
   "cell_type": "code",
   "execution_count": 8,
   "id": "6c5e36da-397e-4c70-8c12-0a9f8b64a049",
   "metadata": {},
   "outputs": [
    {
     "data": {
      "text/plain": [
       "Age               0\n",
       "Sex               0\n",
       "ChestPainType     0\n",
       "RestingBP         0\n",
       "Cholesterol       0\n",
       "FastingBS         0\n",
       "RestingECG        0\n",
       "MaxHR             0\n",
       "ExerciseAngina    0\n",
       "Oldpeak           0\n",
       "ST_Slope          0\n",
       "HeartDisease      0\n",
       "dtype: int64"
      ]
     },
     "execution_count": 8,
     "metadata": {},
     "output_type": "execute_result"
    }
   ],
   "source": [
    "#Checking for any missing values\n",
    "df.isnull().sum()"
   ]
  },
  {
   "cell_type": "code",
   "execution_count": 9,
   "id": "5b5813f0-43af-47f4-84b3-e1c672165b03",
   "metadata": {},
   "outputs": [
    {
     "name": "stdout",
     "output_type": "stream",
     "text": [
      "Zeros in Cholesterol: 172\n",
      "Zeroes in RestingBP: 1\n",
      "Zeroes in RestingBP: 704\n"
     ]
    }
   ],
   "source": [
    "#Looking for zeros in Cholesterol,RestingBP and FastingBS.\n",
    "print(\"Zeros in Cholesterol:\",(df['Cholesterol'] == 0).sum())\n",
    "print(\"Zeroes in RestingBP:\", (df['RestingBP']==0).sum())\n",
    "print(\"Zeroes in RestingBP:\", (df['FastingBS']==0).sum())"
   ]
  },
  {
   "cell_type": "code",
   "execution_count": 10,
   "id": "c85d23e1-956e-4009-9ab5-e8b815dd2f65",
   "metadata": {},
   "outputs": [
    {
     "name": "stdout",
     "output_type": "stream",
     "text": [
      "Count of HeartDisease (0 = No, 1 = Yes):\n"
     ]
    },
    {
     "data": {
      "text/plain": [
       "HeartDisease\n",
       "1    508\n",
       "0    410\n",
       "Name: count, dtype: int64"
      ]
     },
     "execution_count": 10,
     "metadata": {},
     "output_type": "execute_result"
    }
   ],
   "source": [
    "print(\"Count of HeartDisease (0 = No, 1 = Yes):\")\n",
    "df['HeartDisease'].value_counts()"
   ]
  },
  {
   "cell_type": "code",
   "execution_count": 11,
   "id": "2a1068cb-4fe0-4bc3-abfc-41413434953d",
   "metadata": {},
   "outputs": [
    {
     "data": {
      "text/plain": [
       "HeartDisease\n",
       "0    50.551220\n",
       "1    55.899606\n",
       "Name: Age, dtype: float64"
      ]
     },
     "execution_count": 11,
     "metadata": {},
     "output_type": "execute_result"
    }
   ],
   "source": [
    "#Average Age by HeartDisease\n",
    "df.groupby('HeartDisease')['Age'].mean()"
   ]
  },
  {
   "cell_type": "markdown",
   "id": "4aece467-f4e2-417a-af53-55c66059835e",
   "metadata": {},
   "source": [
    "## Visualization Dashboard"
   ]
  },
  {
   "cell_type": "code",
   "execution_count": 23,
   "id": "5cdce5fc-1997-41b5-8981-aafad3caee89",
   "metadata": {},
   "outputs": [],
   "source": [
    "#importing required libraries\n",
    "import matplotlib.pyplot as plt\n",
    "import plotly.express as px"
   ]
  },
  {
   "cell_type": "markdown",
   "id": "9b0f3902-fe33-45dc-83f6-5b8f4221c5b6",
   "metadata": {},
   "source": [
    "### Bar Chart"
   ]
  },
  {
   "cell_type": "code",
   "execution_count": 59,
   "id": "a9975410-41a2-40dd-b184-d82d379b2df7",
   "metadata": {},
   "outputs": [
    {
     "data": {
      "image/png": "[encoded data removed]",
      "text/plain": [
       "<Figure size 500x300 with 1 Axes>"
      ]
     },
     "metadata": {},
     "output_type": "display_data"
    }
   ],
   "source": [
    "#Bar Chart of Heart Disease by Sex\n",
    "plt.figure(figsize=(5,3))\n",
    "df.groupby('Sex')['HeartDisease'].mean().plot(kind='bar',color=['orange','turquoise'],width=0.2)\n",
    "plt.title('Proportion of Heart Disease by Sex')\n",
    "plt.xlabel('Sex')\n",
    "plt.ylabel('Proportion with Heart Disease')\n",
    "plt.xticks(rotation=0)\n",
    "plt.show()\n"
   ]
  },
  {
   "cell_type": "markdown",
   "id": "ba001c00-c584-42d0-8ffe-2919cc4712c1",
   "metadata": {},
   "source": [
    "### Histogram"
   ]
  },
  {
   "cell_type": "code",
   "execution_count": 94,
   "id": "688460bf-61bb-43a0-a6c5-da5a06fcfcc9",
   "metadata": {},
   "outputs": [
    {
     "data": {
      "image/png": "[encoded data removed]",
      "text/plain": [
       "<Figure size 1000x600 with 1 Axes>"
      ]
     },
     "metadata": {},
     "output_type": "display_data"
    }
   ],
   "source": [
    "#Histogram of AGE by Heart Disease\n",
    "plt.figure(figsize=(10,6))\n",
    "plt.hist(df[df['HeartDisease']==0]['Age'], bins=20,alpha=0.7,label = 'No Heart Disease',color='skyblue')\n",
    "plt.hist(df[df['HeartDisease']==1]['Age'], bins=20,alpha=0.7,label = 'Heart Disease',color='pink')\n",
    "plt.title('Age Distribution by Heart Disease')\n",
    "plt.xlabel('Age')\n",
    "plt.ylabel('Frequency')\n",
    "plt.legend()\n",
    "plt.show()"
   ]
  },
  {
   "cell_type": "markdown",
   "id": "01fc66fc-30ec-4375-9793-1a5e089a335f",
   "metadata": {},
   "source": [
    "### Scatter PLot"
   ]
  },
  {
   "cell_type": "code",
   "execution_count": 119,
   "id": "029c5c3b-ef81-4db4-b30b-f71fa7f3c429",
   "metadata": {},
   "outputs": [
    {
     "data": {
      "application/vnd.plotly.v1+json": {
       "config": {
        "plotlyServerURL": "https://plot.ly"
       },
       "data": [
        {
         "customdata": [
          [
           40,
           "M"
          ],
          [
           49,
           "F"
          ],
          [
           37,
           "M"
          ],
          [
           48,
           "F"
          ],
          [
           54,
           "M"
          ],
          [
           39,
           "M"
          ],
          [
           45,
           "F"
          ],
          [
           54,
           "M"
          ],
          [
           37,
           "M"
          ],
          [
           48,
           "F"
          ],
          [
           37,
           "F"
          ],
          [
           58,
           "M"
          ],
          [
           39,
           "M"
          ],
          [
           49,
           "M"
          ],
          [
           42,
           "F"
          ],
          [
           54,
           "F"
          ],
          [
           38,
           "M"
          ],
          [
           43,
           "F"
          ],
          [
           60,
           "M"
          ],
          [
           36,
           "M"
          ],
          [
           43,
           "F"
          ],
          [
           44,
           "M"
          ],
          [
           49,
           "F"
          ],
          [
           44,
           "M"
          ],
          [
           40,
           "M"
          ],
          [
           36,
           "M"
          ],
          [
           53,
           "M"
          ],
          [
           52,
           "M"
          ],
          [
           53,
           "F"
          ],
          [
           51,
           "M"
          ],
          [
           53,
           "M"
          ],
          [
           56,
           "M"
          ],
          [
           54,
           "M"
          ],
          [
           41,
           "M"
          ],
          [
           43,
           "F"
          ],
          [
           32,
           "M"
          ],
          [
           65,
           "M"
          ],
          [
           41,
           "F"
          ],
          [
           48,
           "F"
          ],
          [
           48,
           "F"
          ],
          [
           54,
           "F"
          ],
          [
           54,
           "F"
          ],
          [
           35,
           "M"
          ],
          [
           52,
           "M"
          ],
          [
           43,
           "M"
          ],
          [
           59,
           "M"
          ],
          [
           37,
           "M"
          ],
          [
           50,
           "M"
          ],
          [
           36,
           "M"
          ],
          [
           41,
           "M"
          ],
          [
           50,
           "M"
          ],
          [
           47,
           "F"
          ],
          [
           45,
           "M"
          ],
          [
           41,
           "F"
          ],
          [
           52,
           "F"
          ],
          [
           51,
           "F"
          ],
          [
           31,
           "M"
          ],
          [
           58,
           "M"
          ],
          [
           54,
           "M"
          ],
          [
           52,
           "M"
          ],
          [
           49,
           "M"
          ],
          [
           43,
           "F"
          ],
          [
           45,
           "M"
          ],
          [
           46,
           "M"
          ],
          [
           50,
           "F"
          ],
          [
           37,
           "F"
          ],
          [
           45,
           "F"
          ],
          [
           32,
           "M"
          ],
          [
           52,
           "M"
          ],
          [
           44,
           "M"
          ],
          [
           57,
           "M"
          ],
          [
           44,
           "M"
          ],
          [
           52,
           "M"
          ],
          [
           44,
           "F"
          ],
          [
           55,
           "M"
          ],
          [
           46,
           "M"
          ],
          [
           32,
           "M"
          ],
          [
           35,
           "F"
          ],
          [
           52,
           "M"
          ],
          [
           49,
           "M"
          ],
          [
           55,
           "M"
          ],
          [
           54,
           "M"
          ],
          [
           63,
           "M"
          ],
          [
           52,
           "M"
          ],
          [
           56,
           "M"
          ],
          [
           66,
           "M"
          ],
          [
           65,
           "M"
          ],
          [
           53,
           "F"
          ],
          [
           43,
           "M"
          ],
          [
           55,
           "M"
          ],
          [
           49,
           "F"
          ],
          [
           39,
           "M"
          ],
          [
           52,
           "F"
          ],
          [
           48,
           "M"
          ],
          [
           39,
           "F"
          ],
          [
           58,
           "M"
          ],
          [
           43,
           "M"
          ],
          [
           39,
           "M"
          ],
          [
           56,
           "M"
          ],
          [
           41,
           "M"
          ],
          [
           65,
           "M"
          ],
          [
           51,
           "M"
          ],
          [
           40,
           "F"
          ],
          [
           40,
           "M"
          ],
          [
           46,
           "M"
          ],
          [
           57,
           "M"
          ],
          [
           48,
           "F"
          ],
          [
           34,
           "M"
          ],
          [
           50,
           "M"
          ],
          [
           39,
           "M"
          ],
          [
           59,
           "F"
          ],
          [
           57,
           "M"
          ],
          [
           47,
           "M"
          ],
          [
           38,
           "M"
          ],
          [
           49,
           "F"
          ],
          [
           33,
           "F"
          ],
          [
           38,
           "M"
          ],
          [
           59,
           "F"
          ],
          [
           35,
           "F"
          ],
          [
           34,
           "M"
          ],
          [
           47,
           "F"
          ],
          [
           52,
           "F"
          ],
          [
           46,
           "M"
          ],
          [
           58,
           "F"
          ],
          [
           58,
           "M"
          ],
          [
           54,
           "M"
          ],
          [
           34,
           "F"
          ],
          [
           48,
           "F"
          ],
          [
           54,
           "F"
          ],
          [
           42,
           "M"
          ],
          [
           38,
           "M"
          ],
          [
           46,
           "M"
          ],
          [
           56,
           "M"
          ],
          [
           56,
           "M"
          ],
          [
           61,
           "F"
          ],
          [
           49,
           "M"
          ],
          [
           43,
           "F"
          ],
          [
           39,
           "M"
          ],
          [
           54,
           "M"
          ],
          [
           43,
           "M"
          ],
          [
           52,
           "M"
          ],
          [
           50,
           "M"
          ],
          [
           47,
           "M"
          ],
          [
           53,
           "M"
          ],
          [
           56,
           "F"
          ],
          [
           39,
           "M"
          ],
          [
           42,
           "M"
          ],
          [
           43,
           "F"
          ],
          [
           50,
           "M"
          ],
          [
           54,
           "M"
          ],
          [
           39,
           "M"
          ],
          [
           48,
           "M"
          ],
          [
           40,
           "M"
          ],
          [
           55,
           "M"
          ],
          [
           41,
           "M"
          ],
          [
           56,
           "M"
          ],
          [
           38,
           "M"
          ],
          [
           49,
           "M"
          ],
          [
           44,
           "M"
          ],
          [
           54,
           "M"
          ],
          [
           59,
           "M"
          ],
          [
           49,
           "M"
          ],
          [
           47,
           "M"
          ],
          [
           42,
           "M"
          ],
          [
           52,
           "F"
          ],
          [
           46,
           "M"
          ],
          [
           50,
           "M"
          ],
          [
           48,
           "M"
          ],
          [
           58,
           "M"
          ],
          [
           58,
           "M"
          ],
          [
           29,
           "M"
          ],
          [
           40,
           "M"
          ],
          [
           53,
           "M"
          ],
          [
           49,
           "M"
          ],
          [
           52,
           "M"
          ],
          [
           43,
           "M"
          ],
          [
           54,
           "M"
          ],
          [
           59,
           "M"
          ],
          [
           37,
           "M"
          ],
          [
           46,
           "F"
          ],
          [
           52,
           "M"
          ],
          [
           51,
           "M"
          ],
          [
           52,
           "M"
          ],
          [
           46,
           "M"
          ],
          [
           54,
           "F"
          ],
          [
           58,
           "M"
          ],
          [
           58,
           "M"
          ],
          [
           41,
           "M"
          ],
          [
           50,
           "F"
          ],
          [
           53,
           "M"
          ],
          [
           46,
           "M"
          ],
          [
           50,
           "M"
          ],
          [
           48,
           "M"
          ],
          [
           45,
           "M"
          ],
          [
           41,
           "F"
          ],
          [
           62,
           "F"
          ],
          [
           49,
           "M"
          ],
          [
           42,
           "M"
          ],
          [
           53,
           "M"
          ],
          [
           57,
           "F"
          ],
          [
           47,
           "M"
          ],
          [
           46,
           "M"
          ],
          [
           42,
           "M"
          ],
          [
           31,
           "F"
          ],
          [
           56,
           "M"
          ],
          [
           50,
           "M"
          ],
          [
           35,
           "M"
          ],
          [
           35,
           "M"
          ],
          [
           28,
           "M"
          ],
          [
           54,
           "M"
          ],
          [
           48,
           "M"
          ],
          [
           50,
           "F"
          ],
          [
           56,
           "M"
          ],
          [
           56,
           "F"
          ],
          [
           47,
           "M"
          ],
          [
           30,
           "F"
          ],
          [
           39,
           "M"
          ],
          [
           54,
           "M"
          ],
          [
           55,
           "M"
          ],
          [
           29,
           "M"
          ],
          [
           46,
           "M"
          ],
          [
           51,
           "F"
          ],
          [
           48,
           "F"
          ],
          [
           33,
           "M"
          ],
          [
           55,
           "M"
          ],
          [
           50,
           "M"
          ],
          [
           53,
           "M"
          ],
          [
           38,
           "M"
          ],
          [
           41,
           "M"
          ],
          [
           37,
           "F"
          ],
          [
           37,
           "M"
          ],
          [
           40,
           "M"
          ],
          [
           38,
           "F"
          ],
          [
           41,
           "M"
          ],
          [
           54,
           "F"
          ],
          [
           39,
           "M"
          ],
          [
           41,
           "M"
          ],
          [
           55,
           "M"
          ],
          [
           48,
           "M"
          ],
          [
           48,
           "M"
          ],
          [
           55,
           "M"
          ],
          [
           54,
           "M"
          ],
          [
           55,
           "M"
          ],
          [
           43,
           "F"
          ],
          [
           48,
           "M"
          ],
          [
           54,
           "M"
          ],
          [
           54,
           "M"
          ],
          [
           48,
           "M"
          ],
          [
           45,
           "M"
          ],
          [
           49,
           "M"
          ],
          [
           44,
           "M"
          ],
          [
           48,
           "M"
          ],
          [
           61,
           "M"
          ],
          [
           62,
           "M"
          ],
          [
           55,
           "M"
          ],
          [
           53,
           "F"
          ],
          [
           55,
           "F"
          ],
          [
           36,
           "M"
          ],
          [
           51,
           "F"
          ],
          [
           55,
           "F"
          ],
          [
           46,
           "M"
          ],
          [
           54,
           "F"
          ],
          [
           46,
           "M"
          ],
          [
           59,
           "M"
          ],
          [
           47,
           "M"
          ],
          [
           54,
           "M"
          ],
          [
           52,
           "M"
          ],
          [
           34,
           "M"
          ],
          [
           54,
           "M"
          ],
          [
           47,
           "F"
          ],
          [
           45,
           "M"
          ],
          [
           32,
           "F"
          ],
          [
           55,
           "M"
          ],
          [
           55,
           "M"
          ],
          [
           45,
           "F"
          ],
          [
           59,
           "M"
          ],
          [
           51,
           "M"
          ],
          [
           52,
           "M"
          ],
          [
           57,
           "F"
          ],
          [
           54,
           "F"
          ],
          [
           60,
           "M"
          ],
          [
           49,
           "M"
          ],
          [
           51,
           "F"
          ],
          [
           55,
           "F"
          ],
          [
           42,
           "M"
          ],
          [
           51,
           "F"
          ],
          [
           59,
           "M"
          ],
          [
           53,
           "M"
          ],
          [
           48,
           "F"
          ],
          [
           36,
           "M"
          ],
          [
           48,
           "M"
          ],
          [
           47,
           "F"
          ],
          [
           53,
           "M"
          ],
          [
           65,
           "M"
          ],
          [
           32,
           "M"
          ],
          [
           61,
           "M"
          ],
          [
           50,
           "M"
          ],
          [
           57,
           "M"
          ],
          [
           51,
           "M"
          ],
          [
           47,
           "M"
          ],
          [
           60,
           "M"
          ],
          [
           55,
           "M"
          ],
          [
           53,
           "M"
          ],
          [
           62,
           "F"
          ],
          [
           51,
           "M"
          ],
          [
           51,
           "F"
          ],
          [
           55,
           "M"
          ],
          [
           53,
           "M"
          ],
          [
           58,
           "M"
          ],
          [
           57,
           "M"
          ],
          [
           65,
           "M"
          ],
          [
           60,
           "M"
          ],
          [
           41,
           "M"
          ],
          [
           34,
           "M"
          ],
          [
           53,
           "M"
          ],
          [
           74,
           "M"
          ],
          [
           57,
           "M"
          ],
          [
           56,
           "M"
          ],
          [
           61,
           "M"
          ],
          [
           68,
           "M"
          ],
          [
           59,
           "M"
          ],
          [
           63,
           "M"
          ],
          [
           38,
           "F"
          ],
          [
           62,
           "M"
          ],
          [
           46,
           "M"
          ],
          [
           42,
           "M"
          ],
          [
           45,
           "M"
          ],
          [
           59,
           "M"
          ],
          [
           52,
           "M"
          ],
          [
           60,
           "M"
          ],
          [
           60,
           "M"
          ],
          [
           56,
           "M"
          ],
          [
           38,
           "M"
          ],
          [
           40,
           "M"
          ],
          [
           51,
           "M"
          ],
          [
           62,
           "M"
          ],
          [
           72,
           "M"
          ],
          [
           63,
           "M"
          ],
          [
           63,
           "M"
          ],
          [
           64,
           "F"
          ],
          [
           43,
           "M"
          ],
          [
           64,
           "M"
          ],
          [
           61,
           "M"
          ],
          [
           52,
           "M"
          ],
          [
           51,
           "M"
          ],
          [
           69,
           "M"
          ],
          [
           59,
           "M"
          ],
          [
           48,
           "M"
          ],
          [
           69,
           "M"
          ],
          [
           36,
           "M"
          ],
          [
           53,
           "M"
          ],
          [
           43,
           "M"
          ],
          [
           56,
           "M"
          ],
          [
           58,
           "M"
          ],
          [
           55,
           "M"
          ],
          [
           67,
           "M"
          ],
          [
           46,
           "M"
          ],
          [
           53,
           "M"
          ],
          [
           38,
           "M"
          ],
          [
           53,
           "M"
          ],
          [
           62,
           "M"
          ],
          [
           47,
           "M"
          ],
          [
           56,
           "M"
          ],
          [
           56,
           "M"
          ],
          [
           56,
           "M"
          ],
          [
           64,
           "F"
          ],
          [
           61,
           "M"
          ],
          [
           68,
           "M"
          ],
          [
           57,
           "M"
          ],
          [
           63,
           "M"
          ],
          [
           60,
           "M"
          ],
          [
           66,
           "M"
          ],
          [
           63,
           "M"
          ],
          [
           59,
           "M"
          ],
          [
           61,
           "M"
          ],
          [
           73,
           "F"
          ],
          [
           47,
           "M"
          ],
          [
           65,
           "M"
          ],
          [
           70,
           "M"
          ],
          [
           50,
           "M"
          ],
          [
           60,
           "M"
          ],
          [
           50,
           "M"
          ],
          [
           43,
           "M"
          ],
          [
           38,
           "F"
          ],
          [
           54,
           "M"
          ],
          [
           61,
           "M"
          ],
          [
           42,
           "M"
          ],
          [
           53,
           "M"
          ],
          [
           55,
           "M"
          ],
          [
           61,
           "M"
          ],
          [
           51,
           "M"
          ],
          [
           70,
           "M"
          ],
          [
           61,
           "M"
          ],
          [
           38,
           "M"
          ],
          [
           57,
           "M"
          ],
          [
           38,
           "M"
          ],
          [
           62,
           "F"
          ],
          [
           58,
           "M"
          ],
          [
           52,
           "M"
          ],
          [
           61,
           "M"
          ],
          [
           50,
           "F"
          ],
          [
           51,
           "M"
          ],
          [
           65,
           "M"
          ],
          [
           52,
           "M"
          ],
          [
           47,
           "M"
          ],
          [
           35,
           "M"
          ],
          [
           57,
           "M"
          ],
          [
           62,
           "M"
          ],
          [
           59,
           "M"
          ],
          [
           53,
           "M"
          ],
          [
           62,
           "M"
          ],
          [
           54,
           "M"
          ],
          [
           56,
           "M"
          ],
          [
           56,
           "M"
          ],
          [
           54,
           "M"
          ],
          [
           66,
           "F"
          ],
          [
           63,
           "M"
          ],
          [
           44,
           "M"
          ],
          [
           60,
           "M"
          ],
          [
           55,
           "M"
          ],
          [
           66,
           "M"
          ],
          [
           66,
           "M"
          ],
          [
           65,
           "M"
          ],
          [
           60,
           "M"
          ],
          [
           60,
           "M"
          ],
          [
           60,
           "M"
          ],
          [
           56,
           "M"
          ],
          [
           59,
           "M"
          ],
          [
           62,
           "M"
          ],
          [
           63,
           "M"
          ],
          [
           57,
           "M"
          ],
          [
           62,
           "M"
          ],
          [
           63,
           "M"
          ],
          [
           46,
           "M"
          ],
          [
           63,
           "M"
          ],
          [
           60,
           "M"
          ],
          [
           58,
           "M"
          ],
          [
           64,
           "M"
          ],
          [
           63,
           "M"
          ],
          [
           74,
           "M"
          ],
          [
           52,
           "M"
          ],
          [
           69,
           "M"
          ],
          [
           51,
           "M"
          ],
          [
           60,
           "M"
          ],
          [
           56,
           "M"
          ],
          [
           55,
           "M"
          ],
          [
           54,
           "M"
          ],
          [
           77,
           "M"
          ],
          [
           63,
           "M"
          ],
          [
           55,
           "M"
          ],
          [
           52,
           "M"
          ],
          [
           64,
           "M"
          ],
          [
           60,
           "M"
          ],
          [
           60,
           "M"
          ],
          [
           58,
           "M"
          ],
          [
           59,
           "M"
          ],
          [
           61,
           "M"
          ],
          [
           40,
           "M"
          ],
          [
           61,
           "M"
          ],
          [
           41,
           "M"
          ],
          [
           57,
           "M"
          ],
          [
           63,
           "M"
          ],
          [
           59,
           "M"
          ],
          [
           51,
           "M"
          ],
          [
           59,
           "M"
          ],
          [
           42,
           "M"
          ],
          [
           55,
           "M"
          ],
          [
           63,
           "F"
          ],
          [
           62,
           "M"
          ],
          [
           56,
           "M"
          ],
          [
           53,
           "M"
          ],
          [
           68,
           "M"
          ],
          [
           53,
           "M"
          ],
          [
           60,
           "M"
          ],
          [
           62,
           "M"
          ],
          [
           59,
           "M"
          ],
          [
           51,
           "M"
          ],
          [
           61,
           "M"
          ],
          [
           57,
           "M"
          ],
          [
           56,
           "M"
          ],
          [
           58,
           "M"
          ],
          [
           69,
           "M"
          ],
          [
           67,
           "M"
          ],
          [
           58,
           "M"
          ],
          [
           65,
           "M"
          ],
          [
           63,
           "M"
          ],
          [
           55,
           "M"
          ],
          [
           57,
           "M"
          ],
          [
           65,
           "M"
          ],
          [
           54,
           "M"
          ],
          [
           72,
           "M"
          ],
          [
           75,
           "M"
          ],
          [
           49,
           "M"
          ],
          [
           51,
           "M"
          ],
          [
           60,
           "M"
          ],
          [
           64,
           "F"
          ],
          [
           58,
           "M"
          ],
          [
           61,
           "M"
          ],
          [
           67,
           "M"
          ],
          [
           62,
           "M"
          ],
          [
           65,
           "M"
          ],
          [
           63,
           "M"
          ],
          [
           69,
           "M"
          ],
          [
           51,
           "M"
          ],
          [
           62,
           "M"
          ],
          [
           55,
           "M"
          ],
          [
           75,
           "M"
          ],
          [
           40,
           "M"
          ],
          [
           67,
           "M"
          ],
          [
           58,
           "M"
          ],
          [
           60,
           "M"
          ],
          [
           63,
           "M"
          ],
          [
           35,
           "M"
          ],
          [
           62,
           "M"
          ],
          [
           43,
           "M"
          ],
          [
           63,
           "M"
          ],
          [
           68,
           "M"
          ],
          [
           65,
           "M"
          ],
          [
           48,
           "M"
          ],
          [
           63,
           "M"
          ],
          [
           64,
           "M"
          ],
          [
           61,
           "M"
          ],
          [
           50,
           "M"
          ],
          [
           59,
           "M"
          ],
          [
           55,
           "M"
          ],
          [
           45,
           "M"
          ],
          [
           65,
           "M"
          ],
          [
           61,
           "M"
          ],
          [
           49,
           "M"
          ],
          [
           72,
           "M"
          ],
          [
           50,
           "M"
          ],
          [
           64,
           "M"
          ],
          [
           55,
           "M"
          ],
          [
           63,
           "M"
          ],
          [
           59,
           "M"
          ],
          [
           56,
           "M"
          ],
          [
           62,
           "M"
          ],
          [
           74,
           "M"
          ],
          [
           54,
           "M"
          ],
          [
           57,
           "M"
          ],
          [
           62,
           "M"
          ],
          [
           76,
           "M"
          ],
          [
           54,
           "F"
          ],
          [
           70,
           "M"
          ],
          [
           61,
           "F"
          ],
          [
           48,
           "M"
          ],
          [
           48,
           "M"
          ],
          [
           61,
           "M"
          ],
          [
           66,
           "M"
          ],
          [
           68,
           "M"
          ],
          [
           55,
           "M"
          ],
          [
           62,
           "M"
          ],
          [
           71,
           "M"
          ],
          [
           74,
           "M"
          ],
          [
           53,
           "M"
          ],
          [
           58,
           "M"
          ],
          [
           75,
           "M"
          ],
          [
           56,
           "M"
          ],
          [
           58,
           "M"
          ],
          [
           64,
           "M"
          ],
          [
           54,
           "M"
          ],
          [
           54,
           "M"
          ],
          [
           59,
           "M"
          ],
          [
           55,
           "M"
          ],
          [
           57,
           "M"
          ],
          [
           61,
           "M"
          ],
          [
           41,
           "M"
          ],
          [
           71,
           "M"
          ],
          [
           38,
           "M"
          ],
          [
           55,
           "M"
          ],
          [
           56,
           "M"
          ],
          [
           69,
           "M"
          ],
          [
           64,
           "M"
          ],
          [
           72,
           "M"
          ],
          [
           69,
           "M"
          ],
          [
           56,
           "M"
          ],
          [
           62,
           "M"
          ],
          [
           67,
           "M"
          ],
          [
           57,
           "M"
          ],
          [
           69,
           "M"
          ],
          [
           51,
           "M"
          ],
          [
           48,
           "M"
          ],
          [
           69,
           "M"
          ],
          [
           69,
           "M"
          ],
          [
           64,
           "M"
          ],
          [
           57,
           "M"
          ],
          [
           53,
           "M"
          ],
          [
           37,
           "M"
          ],
          [
           67,
           "M"
          ],
          [
           74,
           "M"
          ],
          [
           63,
           "M"
          ],
          [
           58,
           "M"
          ],
          [
           61,
           "M"
          ],
          [
           64,
           "M"
          ],
          [
           58,
           "M"
          ],
          [
           60,
           "M"
          ],
          [
           57,
           "M"
          ],
          [
           55,
           "M"
          ],
          [
           55,
           "M"
          ],
          [
           56,
           "M"
          ],
          [
           57,
           "M"
          ],
          [
           61,
           "M"
          ],
          [
           61,
           "M"
          ],
          [
           74,
           "M"
          ],
          [
           68,
           "M"
          ],
          [
           51,
           "F"
          ],
          [
           62,
           "M"
          ],
          [
           53,
           "M"
          ],
          [
           62,
           "M"
          ],
          [
           46,
           "M"
          ],
          [
           54,
           "F"
          ],
          [
           62,
           "M"
          ],
          [
           55,
           "M"
          ],
          [
           58,
           "M"
          ],
          [
           62,
           "M"
          ],
          [
           70,
           "M"
          ],
          [
           67,
           "F"
          ],
          [
           57,
           "M"
          ],
          [
           64,
           "M"
          ],
          [
           74,
           "F"
          ],
          [
           65,
           "M"
          ],
          [
           56,
           "M"
          ],
          [
           59,
           "M"
          ],
          [
           60,
           "M"
          ],
          [
           63,
           "F"
          ],
          [
           59,
           "M"
          ],
          [
           53,
           "M"
          ],
          [
           44,
           "M"
          ],
          [
           61,
           "M"
          ],
          [
           57,
           "F"
          ],
          [
           71,
           "F"
          ],
          [
           46,
           "M"
          ],
          [
           53,
           "M"
          ],
          [
           64,
           "M"
          ],
          [
           40,
           "M"
          ],
          [
           67,
           "M"
          ],
          [
           48,
           "M"
          ],
          [
           43,
           "M"
          ],
          [
           47,
           "M"
          ],
          [
           54,
           "F"
          ],
          [
           48,
           "F"
          ],
          [
           46,
           "F"
          ],
          [
           51,
           "F"
          ],
          [
           58,
           "M"
          ],
          [
           71,
           "F"
          ],
          [
           57,
           "M"
          ],
          [
           66,
           "M"
          ],
          [
           37,
           "F"
          ],
          [
           59,
           "M"
          ],
          [
           50,
           "M"
          ],
          [
           48,
           "M"
          ],
          [
           61,
           "M"
          ],
          [
           59,
           "M"
          ],
          [
           42,
           "M"
          ],
          [
           48,
           "M"
          ],
          [
           40,
           "M"
          ],
          [
           62,
           "F"
          ],
          [
           44,
           "M"
          ],
          [
           46,
           "M"
          ],
          [
           59,
           "M"
          ],
          [
           58,
           "M"
          ],
          [
           49,
           "M"
          ],
          [
           44,
           "M"
          ],
          [
           66,
           "M"
          ],
          [
           65,
           "F"
          ],
          [
           42,
           "M"
          ],
          [
           52,
           "M"
          ],
          [
           65,
           "F"
          ],
          [
           63,
           "F"
          ],
          [
           45,
           "F"
          ],
          [
           41,
           "F"
          ],
          [
           61,
           "M"
          ],
          [
           60,
           "F"
          ],
          [
           59,
           "F"
          ],
          [
           62,
           "M"
          ],
          [
           57,
           "M"
          ],
          [
           51,
           "F"
          ],
          [
           44,
           "M"
          ],
          [
           60,
           "F"
          ],
          [
           63,
           "M"
          ],
          [
           57,
           "M"
          ],
          [
           51,
           "M"
          ],
          [
           58,
           "F"
          ],
          [
           44,
           "F"
          ],
          [
           47,
           "M"
          ],
          [
           61,
           "M"
          ],
          [
           57,
           "F"
          ],
          [
           70,
           "M"
          ],
          [
           76,
           "F"
          ],
          [
           67,
           "F"
          ],
          [
           45,
           "M"
          ],
          [
           45,
           "M"
          ],
          [
           39,
           "F"
          ],
          [
           42,
           "F"
          ],
          [
           56,
           "M"
          ],
          [
           58,
           "M"
          ],
          [
           35,
           "M"
          ],
          [
           58,
           "M"
          ],
          [
           41,
           "M"
          ],
          [
           57,
           "M"
          ],
          [
           42,
           "M"
          ],
          [
           62,
           "M"
          ],
          [
           59,
           "M"
          ],
          [
           41,
           "F"
          ],
          [
           50,
           "M"
          ],
          [
           59,
           "M"
          ],
          [
           61,
           "F"
          ],
          [
           54,
           "M"
          ],
          [
           54,
           "M"
          ],
          [
           52,
           "M"
          ],
          [
           47,
           "M"
          ],
          [
           66,
           "M"
          ],
          [
           58,
           "M"
          ],
          [
           64,
           "F"
          ],
          [
           50,
           "F"
          ],
          [
           44,
           "F"
          ],
          [
           67,
           "M"
          ],
          [
           49,
           "F"
          ],
          [
           57,
           "M"
          ],
          [
           63,
           "M"
          ],
          [
           48,
           "M"
          ],
          [
           51,
           "M"
          ],
          [
           60,
           "F"
          ],
          [
           59,
           "M"
          ],
          [
           45,
           "F"
          ],
          [
           55,
           "F"
          ],
          [
           41,
           "M"
          ],
          [
           60,
           "F"
          ],
          [
           54,
           "F"
          ],
          [
           42,
           "M"
          ],
          [
           49,
           "F"
          ],
          [
           46,
           "M"
          ],
          [
           56,
           "F"
          ],
          [
           66,
           "F"
          ],
          [
           56,
           "M"
          ],
          [
           49,
           "M"
          ],
          [
           54,
           "M"
          ],
          [
           57,
           "M"
          ],
          [
           65,
           "F"
          ],
          [
           54,
           "M"
          ],
          [
           54,
           "F"
          ],
          [
           62,
           "M"
          ],
          [
           52,
           "F"
          ],
          [
           52,
           "M"
          ],
          [
           60,
           "M"
          ],
          [
           63,
           "F"
          ],
          [
           66,
           "M"
          ],
          [
           42,
           "M"
          ],
          [
           64,
           "M"
          ],
          [
           54,
           "M"
          ],
          [
           46,
           "F"
          ],
          [
           67,
           "F"
          ],
          [
           56,
           "M"
          ],
          [
           34,
           "F"
          ],
          [
           57,
           "M"
          ],
          [
           64,
           "M"
          ],
          [
           59,
           "M"
          ],
          [
           50,
           "M"
          ],
          [
           51,
           "M"
          ],
          [
           54,
           "M"
          ],
          [
           53,
           "M"
          ],
          [
           52,
           "M"
          ],
          [
           40,
           "M"
          ],
          [
           58,
           "M"
          ],
          [
           41,
           "F"
          ],
          [
           41,
           "M"
          ],
          [
           50,
           "F"
          ],
          [
           54,
           "F"
          ],
          [
           64,
           "F"
          ],
          [
           51,
           "F"
          ],
          [
           46,
           "F"
          ],
          [
           55,
           "M"
          ],
          [
           45,
           "M"
          ],
          [
           56,
           "M"
          ],
          [
           66,
           "F"
          ],
          [
           38,
           "M"
          ],
          [
           62,
           "F"
          ],
          [
           55,
           "M"
          ],
          [
           58,
           "M"
          ],
          [
           43,
           "M"
          ],
          [
           64,
           "F"
          ],
          [
           50,
           "F"
          ],
          [
           53,
           "M"
          ],
          [
           45,
           "F"
          ],
          [
           65,
           "M"
          ],
          [
           69,
           "M"
          ],
          [
           69,
           "M"
          ],
          [
           67,
           "M"
          ],
          [
           68,
           "F"
          ],
          [
           34,
           "M"
          ],
          [
           62,
           "F"
          ],
          [
           51,
           "M"
          ],
          [
           46,
           "M"
          ],
          [
           67,
           "M"
          ],
          [
           50,
           "M"
          ],
          [
           42,
           "M"
          ],
          [
           56,
           "F"
          ],
          [
           41,
           "M"
          ],
          [
           42,
           "F"
          ],
          [
           53,
           "M"
          ],
          [
           43,
           "M"
          ],
          [
           56,
           "M"
          ],
          [
           52,
           "M"
          ],
          [
           62,
           "F"
          ],
          [
           70,
           "M"
          ],
          [
           54,
           "M"
          ],
          [
           70,
           "M"
          ],
          [
           54,
           "M"
          ],
          [
           35,
           "M"
          ],
          [
           48,
           "M"
          ],
          [
           55,
           "F"
          ],
          [
           58,
           "F"
          ],
          [
           54,
           "F"
          ],
          [
           69,
           "F"
          ],
          [
           77,
           "M"
          ],
          [
           68,
           "M"
          ],
          [
           58,
           "M"
          ],
          [
           60,
           "M"
          ],
          [
           51,
           "M"
          ],
          [
           55,
           "M"
          ],
          [
           52,
           "M"
          ],
          [
           60,
           "F"
          ],
          [
           58,
           "M"
          ],
          [
           64,
           "M"
          ],
          [
           37,
           "M"
          ],
          [
           59,
           "M"
          ],
          [
           51,
           "M"
          ],
          [
           43,
           "F"
          ],
          [
           58,
           "M"
          ],
          [
           29,
           "M"
          ],
          [
           41,
           "F"
          ],
          [
           63,
           "F"
          ],
          [
           51,
           "M"
          ],
          [
           54,
           "M"
          ],
          [
           44,
           "M"
          ],
          [
           54,
           "M"
          ],
          [
           65,
           "M"
          ],
          [
           57,
           "M"
          ],
          [
           63,
           "M"
          ],
          [
           35,
           "F"
          ],
          [
           41,
           "M"
          ],
          [
           62,
           "F"
          ],
          [
           43,
           "F"
          ],
          [
           58,
           "F"
          ],
          [
           52,
           "M"
          ],
          [
           61,
           "F"
          ],
          [
           39,
           "M"
          ],
          [
           45,
           "M"
          ],
          [
           52,
           "M"
          ],
          [
           62,
           "M"
          ],
          [
           62,
           "F"
          ],
          [
           53,
           "F"
          ],
          [
           43,
           "M"
          ],
          [
           47,
           "M"
          ],
          [
           52,
           "M"
          ],
          [
           68,
           "M"
          ],
          [
           39,
           "M"
          ],
          [
           53,
           "F"
          ],
          [
           62,
           "F"
          ],
          [
           51,
           "F"
          ],
          [
           60,
           "M"
          ],
          [
           65,
           "M"
          ],
          [
           65,
           "F"
          ],
          [
           60,
           "M"
          ],
          [
           60,
           "M"
          ],
          [
           54,
           "M"
          ],
          [
           44,
           "M"
          ],
          [
           44,
           "M"
          ],
          [
           51,
           "M"
          ],
          [
           59,
           "M"
          ],
          [
           71,
           "F"
          ],
          [
           61,
           "M"
          ],
          [
           55,
           "M"
          ],
          [
           64,
           "M"
          ],
          [
           43,
           "M"
          ],
          [
           58,
           "F"
          ],
          [
           60,
           "M"
          ],
          [
           58,
           "M"
          ],
          [
           49,
           "M"
          ],
          [
           48,
           "M"
          ],
          [
           52,
           "M"
          ],
          [
           44,
           "M"
          ],
          [
           56,
           "F"
          ],
          [
           57,
           "M"
          ],
          [
           67,
           "M"
          ],
          [
           53,
           "F"
          ],
          [
           52,
           "M"
          ],
          [
           43,
           "M"
          ],
          [
           52,
           "M"
          ],
          [
           59,
           "M"
          ],
          [
           64,
           "M"
          ],
          [
           66,
           "F"
          ],
          [
           39,
           "F"
          ],
          [
           57,
           "M"
          ],
          [
           58,
           "F"
          ],
          [
           57,
           "M"
          ],
          [
           47,
           "M"
          ],
          [
           55,
           "F"
          ],
          [
           35,
           "M"
          ],
          [
           61,
           "M"
          ],
          [
           58,
           "M"
          ],
          [
           58,
           "F"
          ],
          [
           58,
           "M"
          ],
          [
           56,
           "M"
          ],
          [
           56,
           "M"
          ],
          [
           67,
           "M"
          ],
          [
           55,
           "F"
          ],
          [
           44,
           "M"
          ],
          [
           63,
           "M"
          ],
          [
           63,
           "F"
          ],
          [
           41,
           "M"
          ],
          [
           59,
           "M"
          ],
          [
           57,
           "F"
          ],
          [
           45,
           "M"
          ],
          [
           68,
           "M"
          ],
          [
           57,
           "M"
          ],
          [
           57,
           "F"
          ],
          [
           38,
           "M"
          ]
         ],
         "hovertemplate": "Cholesterol=%{x}<br>MaxHR=%{y}<br>Age=%{customdata[0]}<br>Sex=%{customdata[1]}<br>Heart Disease(0=No,1=Yes)=%{marker.color}<extra></extra>",
         "legendgroup": "",
         "marker": {
          "color": [
           0,
           1,
           0,
           1,
           0,
           0,
           0,
           0,
           1,
           0,
           0,
           1,
           0,
           1,
           0,
           0,
           1,
           0,
           1,
           1,
           0,
           0,
           0,
           1,
           0,
           0,
           0,
           0,
           0,
           0,
           1,
           0,
           1,
           1,
           0,
           0,
           1,
           0,
           0,
           0,
           0,
           1,
           0,
           0,
           1,
           0,
           0,
           0,
           0,
           1,
           1,
           1,
           0,
           0,
           0,
           0,
           1,
           1,
           0,
           1,
           0,
           0,
           0,
           1,
           0,
           0,
           0,
           0,
           1,
           0,
           1,
           0,
           1,
           0,
           1,
           0,
           1,
           0,
           0,
           1,
           0,
           0,
           1,
           0,
           1,
           1,
           1,
           0,
           1,
           0,
           0,
           0,
           0,
           1,
           0,
           1,
           0,
           0,
           0,
           0,
           1,
           0,
           1,
           1,
           1,
           0,
           0,
           0,
           0,
           0,
           0,
           1,
           0,
           0,
           0,
           1,
           1,
           1,
           0,
           1,
           1,
           0,
           0,
           1,
           0,
           0,
           0,
           0,
           0,
           0,
           0,
           1,
           1,
           1,
           0,
           1,
           0,
           0,
           1,
           1,
           1,
           1,
           1,
           0,
           1,
           0,
           0,
           0,
           0,
           1,
           0,
           0,
           0,
           0,
           0,
           1,
           1,
           0,
           1,
           0,
           1,
           1,
           0,
           0,
           0,
           1,
           1,
           0,
           0,
           0,
           0,
           0,
           0,
           0,
           1,
           1,
           1,
           0,
           0,
           0,
           1,
           0,
           1,
           0,
           0,
           1,
           0,
           1,
           0,
           1,
           0,
           0,
           0,
           0,
           0,
           0,
           0,
           0,
           1,
           0,
           0,
           0,
           0,
           0,
           0,
           0,
           0,
           1,
           0,
           1,
           1,
           1,
           0,
           0,
           1,
           0,
           1,
           0,
           0,
           0,
           1,
           1,
           0,
           0,
           0,
           1,
           0,
           1,
           0,
           0,
           0,
           0,
           0,
           0,
           0,
           0,
           1,
           1,
           1,
           1,
           0,
           1,
           1,
           0,
           1,
           0,
           1,
           1,
           1,
           1,
           1,
           1,
           0,
           0,
           1,
           0,
           0,
           0,
           0,
           0,
           0,
           0,
           1,
           1,
           1,
           0,
           1,
           0,
           1,
           0,
           0,
           0,
           1,
           0,
           0,
           0,
           1,
           1,
           0,
           0,
           0,
           1,
           0,
           0,
           0,
           0,
           0,
           0,
           0,
           0,
           0,
           0,
           0,
           1,
           1,
           1,
           1,
           1,
           1,
           1,
           1,
           0,
           1,
           1,
           1,
           1,
           1,
           0,
           1,
           1,
           0,
           1,
           1,
           1,
           0,
           1,
           1,
           1,
           1,
           1,
           1,
           1,
           1,
           1,
           1,
           1,
           0,
           1,
           1,
           1,
           1,
           1,
           0,
           1,
           1,
           1,
           0,
           1,
           1,
           1,
           1,
           1,
           1,
           1,
           1,
           1,
           1,
           1,
           1,
           1,
           1,
           1,
           1,
           1,
           1,
           1,
           1,
           1,
           1,
           1,
           1,
           1,
           1,
           1,
           0,
           1,
           1,
           1,
           1,
           1,
           1,
           1,
           1,
           1,
           1,
           1,
           1,
           1,
           1,
           1,
           1,
           1,
           1,
           1,
           1,
           1,
           1,
           1,
           1,
           1,
           1,
           1,
           1,
           1,
           1,
           1,
           1,
           1,
           1,
           1,
           1,
           1,
           1,
           1,
           1,
           1,
           1,
           1,
           1,
           1,
           1,
           1,
           1,
           1,
           1,
           1,
           1,
           0,
           1,
           1,
           0,
           0,
           1,
           0,
           1,
           1,
           0,
           1,
           1,
           1,
           1,
           0,
           1,
           1,
           0,
           0,
           1,
           1,
           1,
           0,
           1,
           1,
           1,
           1,
           1,
           1,
           1,
           1,
           1,
           1,
           1,
           1,
           1,
           0,
           1,
           0,
           1,
           1,
           1,
           0,
           1,
           1,
           1,
           0,
           1,
           0,
           1,
           0,
           1,
           0,
           1,
           1,
           1,
           1,
           0,
           1,
           0,
           1,
           1,
           1,
           1,
           1,
           1,
           1,
           1,
           1,
           0,
           1,
           0,
           1,
           1,
           1,
           1,
           1,
           1,
           1,
           0,
           1,
           1,
           1,
           1,
           1,
           1,
           0,
           1,
           1,
           1,
           0,
           1,
           1,
           0,
           1,
           0,
           1,
           1,
           0,
           1,
           1,
           1,
           1,
           0,
           1,
           1,
           1,
           0,
           0,
           1,
           0,
           1,
           1,
           1,
           1,
           1,
           1,
           1,
           1,
           1,
           1,
           1,
           0,
           1,
           1,
           1,
           1,
           0,
           0,
           1,
           1,
           1,
           0,
           1,
           0,
           1,
           1,
           0,
           1,
           0,
           1,
           1,
           1,
           0,
           0,
           0,
           1,
           1,
           1,
           0,
           1,
           1,
           1,
           1,
           1,
           1,
           1,
           1,
           1,
           1,
           1,
           1,
           1,
           1,
           1,
           1,
           0,
           1,
           1,
           1,
           0,
           1,
           1,
           0,
           0,
           1,
           1,
           1,
           1,
           1,
           0,
           1,
           1,
           0,
           1,
           1,
           1,
           0,
           0,
           1,
           1,
           1,
           1,
           1,
           0,
           1,
           0,
           1,
           1,
           0,
           1,
           0,
           0,
           0,
           1,
           1,
           1,
           1,
           0,
           0,
           0,
           1,
           0,
           0,
           1,
           1,
           0,
           0,
           1,
           0,
           0,
           0,
           0,
           0,
           0,
           0,
           1,
           0,
           1,
           0,
           0,
           1,
           1,
           1,
           1,
           1,
           0,
           0,
           1,
           0,
           0,
           0,
           1,
           0,
           1,
           1,
           1,
           1,
           1,
           0,
           0,
           0,
           0,
           0,
           1,
           0,
           1,
           1,
           0,
           1,
           0,
           0,
           0,
           1,
           0,
           1,
           0,
           1,
           1,
           0,
           0,
           0,
           0,
           1,
           0,
           0,
           0,
           0,
           1,
           1,
           1,
           0,
           0,
           0,
           0,
           0,
           0,
           1,
           0,
           1,
           1,
           1,
           1,
           1,
           0,
           1,
           0,
           0,
           0,
           1,
           0,
           1,
           1,
           1,
           0,
           1,
           1,
           0,
           1,
           0,
           1,
           0,
           0,
           0,
           1,
           1,
           0,
           1,
           1,
           1,
           1,
           0,
           0,
           0,
           1,
           0,
           0,
           1,
           1,
           1,
           0,
           1,
           0,
           0,
           0,
           1,
           0,
           0,
           1,
           0,
           1,
           0,
           1,
           1,
           1,
           1,
           1,
           0,
           0,
           0,
           0,
           0,
           0,
           0,
           1,
           0,
           0,
           1,
           1,
           1,
           0,
           1,
           0,
           0,
           0,
           0,
           0,
           1,
           0,
           1,
           1,
           0,
           0,
           1,
           1,
           1,
           1,
           0,
           0,
           1,
           1,
           0,
           0,
           0,
           1,
           0,
           0,
           1,
           0,
           1,
           0,
           1,
           0,
           0,
           0,
           0,
           0,
           1,
           0,
           1,
           1,
           1,
           1,
           0,
           0,
           0,
           1,
           0,
           1,
           0,
           0,
           1,
           0,
           0,
           0,
           0,
           0,
           0,
           1,
           1,
           0,
           1,
           0,
           0,
           1,
           1,
           0,
           0,
           1,
           1,
           0,
           1,
           0,
           1,
           0,
           1,
           0,
           0,
           1,
           0,
           0,
           1,
           0,
           1,
           1,
           0,
           1,
           1,
           1,
           0,
           1,
           0,
           0,
           0,
           0,
           1,
           1,
           0,
           0,
           1,
           1,
           0,
           1,
           0,
           0,
           0,
           0,
           1,
           0,
           0,
           1,
           1,
           1,
           0,
           0,
           0,
           1,
           0,
           1,
           0,
           1,
           0,
           1,
           1,
           1,
           0,
           0,
           0,
           1,
           0,
           1,
           1,
           1,
           0,
           1,
           1,
           1,
           1,
           1,
           1,
           0
          ],
          "coloraxis": "coloraxis",
          "symbol": "circle"
         },
         "mode": "markers",
         "name": "",
         "orientation": "v",
         "showlegend": false,
         "type": "scatter",
         "x": [
          289,
          180,
          283,
          214,
          195,
          339,
          237,
          208,
          207,
          284,
          211,
          164,
          204,
          234,
          211,
          273,
          196,
          201,
          248,
          267,
          223,
          184,
          201,
          288,
          215,
          209,
          260,
          284,
          468,
          188,
          518,
          167,
          224,
          172,
          186,
          254,
          306,
          250,
          177,
          227,
          230,
          294,
          264,
          259,
          175,
          318,
          223,
          216,
          340,
          289,
          233,
          205,
          224,
          245,
          180,
          194,
          270,
          213,
          365,
          342,
          253,
          254,
          224,
          277,
          202,
          260,
          297,
          225,
          246,
          412,
          265,
          215,
          182,
          218,
          268,
          163,
          529,
          167,
          100,
          206,
          277,
          238,
          223,
          196,
          213,
          139,
          263,
          216,
          291,
          229,
          208,
          307,
          210,
          329,
          182,
          263,
          207,
          147,
          85,
          269,
          275,
          179,
          392,
          466,
          186,
          260,
          254,
          214,
          129,
          241,
          188,
          255,
          276,
          297,
          207,
          246,
          282,
          338,
          160,
          156,
          248,
          272,
          240,
          393,
          230,
          246,
          161,
          163,
          230,
          228,
          292,
          202,
          388,
          230,
          294,
          265,
          215,
          241,
          166,
          247,
          331,
          341,
          291,
          243,
          279,
          273,
          198,
          249,
          168,
          603,
          215,
          159,
          275,
          270,
          291,
          342,
          190,
          185,
          290,
          195,
          264,
          212,
          263,
          196,
          225,
          272,
          231,
          238,
          222,
          179,
          243,
          235,
          320,
          187,
          266,
          288,
          216,
          287,
          194,
          238,
          225,
          224,
          404,
          238,
          312,
          211,
          251,
          237,
          328,
          285,
          280,
          209,
          245,
          192,
          184,
          193,
          297,
          268,
          246,
          308,
          249,
          230,
          147,
          219,
          184,
          215,
          308,
          257,
          132,
          216,
          263,
          288,
          276,
          219,
          226,
          237,
          280,
          217,
          196,
          263,
          222,
          303,
          195,
          298,
          256,
          264,
          195,
          117,
          295,
          173,
          315,
          281,
          275,
          250,
          309,
          200,
          336,
          295,
          355,
          193,
          326,
          198,
          292,
          266,
          268,
          171,
          237,
          275,
          219,
          341,
          491,
          260,
          292,
          271,
          248,
          274,
          394,
          160,
          200,
          320,
          275,
          221,
          231,
          126,
          193,
          305,
          298,
          220,
          242,
          235,
          225,
          198,
          201,
          220,
          295,
          213,
          160,
          223,
          347,
          253,
          246,
          222,
          220,
          344,
          358,
          190,
          169,
          181,
          308,
          166,
          211,
          257,
          182,
          0,
          0,
          0,
          0,
          0,
          0,
          0,
          0,
          0,
          0,
          0,
          0,
          0,
          0,
          0,
          0,
          0,
          0,
          0,
          0,
          0,
          0,
          0,
          0,
          0,
          0,
          0,
          0,
          0,
          0,
          0,
          0,
          0,
          0,
          0,
          0,
          0,
          0,
          0,
          0,
          0,
          0,
          0,
          0,
          0,
          0,
          0,
          0,
          0,
          0,
          0,
          0,
          0,
          0,
          0,
          0,
          0,
          0,
          0,
          0,
          0,
          0,
          0,
          0,
          0,
          0,
          0,
          0,
          0,
          0,
          0,
          0,
          0,
          0,
          0,
          0,
          0,
          0,
          0,
          0,
          0,
          0,
          0,
          0,
          0,
          0,
          0,
          0,
          0,
          0,
          0,
          0,
          0,
          0,
          0,
          0,
          0,
          0,
          0,
          0,
          0,
          0,
          0,
          0,
          0,
          0,
          0,
          0,
          0,
          0,
          0,
          0,
          0,
          0,
          0,
          0,
          0,
          0,
          0,
          0,
          0,
          0,
          0,
          260,
          209,
          218,
          228,
          213,
          0,
          236,
          0,
          0,
          267,
          166,
          0,
          0,
          0,
          0,
          220,
          177,
          236,
          0,
          0,
          0,
          0,
          0,
          0,
          0,
          0,
          0,
          186,
          100,
          228,
          0,
          171,
          230,
          0,
          0,
          0,
          281,
          0,
          203,
          0,
          0,
          0,
          0,
          0,
          277,
          0,
          233,
          0,
          0,
          240,
          0,
          0,
          153,
          224,
          0,
          0,
          0,
          316,
          0,
          0,
          218,
          0,
          311,
          0,
          0,
          0,
          270,
          0,
          0,
          217,
          214,
          214,
          252,
          220,
          214,
          203,
          0,
          339,
          216,
          276,
          458,
          241,
          384,
          297,
          248,
          308,
          208,
          227,
          210,
          245,
          225,
          240,
          0,
          198,
          195,
          267,
          161,
          258,
          0,
          0,
          195,
          235,
          0,
          305,
          223,
          282,
          349,
          160,
          160,
          236,
          312,
          283,
          142,
          211,
          218,
          306,
          186,
          252,
          222,
          0,
          0,
          258,
          202,
          197,
          204,
          113,
          274,
          192,
          298,
          272,
          220,
          200,
          261,
          181,
          260,
          220,
          221,
          216,
          175,
          219,
          310,
          208,
          232,
          273,
          203,
          182,
          274,
          204,
          270,
          292,
          171,
          221,
          289,
          217,
          223,
          110,
          193,
          123,
          210,
          282,
          170,
          369,
          173,
          289,
          152,
          208,
          216,
          271,
          244,
          285,
          243,
          240,
          219,
          237,
          165,
          213,
          287,
          258,
          256,
          186,
          264,
          185,
          226,
          203,
          207,
          284,
          337,
          310,
          254,
          258,
          254,
          300,
          170,
          310,
          333,
          139,
          223,
          385,
          254,
          322,
          564,
          261,
          263,
          269,
          177,
          256,
          239,
          293,
          407,
          234,
          226,
          235,
          234,
          303,
          149,
          311,
          203,
          211,
          199,
          229,
          245,
          303,
          204,
          288,
          275,
          243,
          295,
          230,
          265,
          229,
          228,
          215,
          326,
          200,
          256,
          207,
          273,
          180,
          222,
          223,
          209,
          233,
          197,
          218,
          211,
          149,
          197,
          246,
          225,
          315,
          205,
          417,
          195,
          234,
          198,
          166,
          178,
          249,
          281,
          126,
          305,
          226,
          240,
          233,
          276,
          261,
          319,
          242,
          243,
          260,
          354,
          245,
          197,
          223,
          309,
          208,
          199,
          209,
          236,
          218,
          198,
          270,
          214,
          201,
          244,
          208,
          270,
          306,
          243,
          221,
          330,
          266,
          206,
          212,
          275,
          302,
          234,
          313,
          244,
          141,
          237,
          269,
          289,
          254,
          274,
          222,
          258,
          177,
          160,
          327,
          235,
          305,
          304,
          295,
          271,
          249,
          288,
          226,
          283,
          188,
          286,
          274,
          360,
          273,
          201,
          267,
          196,
          201,
          230,
          269,
          212,
          226,
          246,
          232,
          177,
          277,
          249,
          210,
          207,
          212,
          271,
          233,
          213,
          283,
          282,
          230,
          167,
          224,
          268,
          250,
          219,
          267,
          303,
          256,
          204,
          217,
          308,
          193,
          228,
          231,
          244,
          262,
          259,
          211,
          325,
          254,
          197,
          236,
          282,
          234,
          254,
          299,
          211,
          182,
          294,
          298,
          231,
          254,
          196,
          240,
          409,
          172,
          265,
          246,
          315,
          184,
          233,
          394,
          269,
          239,
          174,
          309,
          282,
          255,
          250,
          248,
          214,
          239,
          304,
          277,
          300,
          258,
          299,
          289,
          298,
          318,
          240,
          309,
          250,
          288,
          245,
          213,
          216,
          204,
          204,
          252,
          227,
          258,
          220,
          239,
          254,
          168,
          330,
          183,
          203,
          263,
          341,
          283,
          186,
          307,
          219,
          260,
          255,
          231,
          164,
          234,
          177,
          257,
          325,
          274,
          321,
          264,
          268,
          308,
          253,
          248,
          269,
          185,
          282,
          188,
          219,
          290,
          175,
          212,
          302,
          243,
          353,
          335,
          247,
          340,
          206,
          284,
          266,
          229,
          199,
          263,
          294,
          192,
          286,
          216,
          223,
          247,
          204,
          204,
          227,
          278,
          220,
          232,
          197,
          335,
          253,
          205,
          192,
          203,
          318,
          225,
          220,
          221,
          240,
          212,
          342,
          169,
          187,
          197,
          157,
          176,
          241,
          264,
          193,
          131,
          236,
          175
         ],
         "xaxis": "x",
         "y": [
          172,
          156,
          98,
          108,
          122,
          170,
          170,
          142,
          130,
          120,
          142,
          99,
          145,
          140,
          137,
          150,
          166,
          165,
          125,
          160,
          142,
          142,
          164,
          150,
          138,
          178,
          112,
          118,
          127,
          145,
          130,
          114,
          122,
          130,
          154,
          155,
          87,
          142,
          148,
          130,
          130,
          100,
          168,
          170,
          120,
          120,
          168,
          170,
          184,
          170,
          121,
          98,
          122,
          150,
          140,
          170,
          153,
          140,
          134,
          96,
          174,
          175,
          144,
          125,
          145,
          130,
          144,
          184,
          82,
          170,
          145,
          135,
          150,
          115,
          128,
          116,
          130,
          150,
          138,
          170,
          160,
          154,
          115,
          165,
          125,
          94,
          112,
          142,
          155,
          110,
          160,
          140,
          148,
          92,
          180,
          140,
          138,
          160,
          140,
          144,
          115,
          100,
          130,
          152,
          124,
          140,
          110,
          168,
          135,
          106,
          124,
          92,
          125,
          150,
          135,
          150,
          170,
          130,
          185,
          180,
          170,
          139,
          140,
          110,
          150,
          110,
          190,
          175,
          140,
          152,
          130,
          150,
          122,
          124,
          120,
          175,
          175,
          146,
          118,
          130,
          94,
          125,
          158,
          155,
          150,
          132,
          155,
          176,
          160,
          125,
          120,
          100,
          150,
          140,
          160,
          150,
          150,
          130,
          100,
          130,
          119,
          96,
          174,
          150,
          140,
          175,
          140,
          118,
          100,
          160,
          160,
          188,
          162,
          172,
          134,
          135,
          105,
          150,
          150,
          90,
          120,
          150,
          124,
          140,
          130,
          92,
          110,
          138,
          110,
          120,
          120,
          116,
          160,
          110,
          180,
          116,
          132,
          136,
          116,
          98,
          150,
          150,
          146,
          150,
          100,
          140,
          180,
          140,
          185,
          140,
          110,
          140,
          128,
          164,
          98,
          170,
          150,
          137,
          150,
          170,
          112,
          150,
          125,
          185,
          137,
          150,
          140,
          134,
          170,
          184,
          158,
          167,
          129,
          142,
          140,
          160,
          118,
          136,
          99,
          102,
          155,
          142,
          143,
          118,
          103,
          137,
          150,
          150,
          130,
          120,
          135,
          115,
          115,
          152,
          96,
          130,
          150,
          172,
          120,
          155,
          165,
          138,
          115,
          125,
          145,
          175,
          110,
          150,
          91,
          145,
          140,
          165,
          130,
          134,
          180,
          100,
          150,
          126,
          126,
          155,
          135,
          122,
          160,
          160,
          170,
          120,
          140,
          132,
          156,
          180,
          138,
          135,
          148,
          93,
          127,
          110,
          139,
          131,
          92,
          149,
          149,
          150,
          120,
          123,
          126,
          127,
          155,
          120,
          138,
          182,
          154,
          110,
          176,
          154,
          141,
          123,
          148,
          121,
          77,
          136,
          175,
          109,
          166,
          128,
          133,
          128,
          138,
          119,
          82,
          130,
          143,
          82,
          179,
          144,
          170,
          134,
          114,
          154,
          149,
          145,
          122,
          114,
          113,
          120,
          104,
          130,
          115,
          128,
          104,
          125,
          120,
          140,
          100,
          100,
          92,
          125,
          113,
          95,
          128,
          115,
          72,
          124,
          99,
          148,
          97,
          140,
          117,
          120,
          120,
          86,
          63,
          108,
          98,
          115,
          105,
          121,
          118,
          122,
          157,
          156,
          99,
          120,
          145,
          156,
          155,
          105,
          99,
          135,
          83,
          145,
          60,
          92,
          115,
          120,
          98,
          150,
          143,
          105,
          122,
          70,
          110,
          163,
          67,
          128,
          120,
          130,
          100,
          72,
          94,
          122,
          78,
          150,
          103,
          98,
          110,
          90,
          112,
          127,
          140,
          149,
          99,
          120,
          105,
          140,
          141,
          157,
          140,
          117,
          120,
          120,
          148,
          86,
          84,
          125,
          120,
          118,
          124,
          106,
          111,
          116,
          180,
          129,
          125,
          140,
          120,
          124,
          117,
          110,
          105,
          155,
          110,
          122,
          118,
          133,
          123,
          131,
          80,
          165,
          86,
          111,
          118,
          84,
          117,
          107,
          128,
          160,
          125,
          130,
          97,
          161,
          106,
          130,
          140,
          122,
          130,
          120,
          139,
          108,
          148,
          123,
          110,
          118,
          125,
          106,
          112,
          128,
          180,
          144,
          135,
          140,
          102,
          108,
          145,
          127,
          110,
          140,
          69,
          148,
          130,
          130,
          140,
          138,
          140,
          138,
          112,
          131,
          112,
          80,
          150,
          110,
          126,
          88,
          153,
          150,
          120,
          160,
          132,
          120,
          110,
          121,
          128,
          135,
          120,
          117,
          150,
          144,
          113,
          135,
          127,
          109,
          128,
          115,
          102,
          140,
          135,
          122,
          119,
          130,
          112,
          100,
          122,
          120,
          105,
          129,
          120,
          139,
          162,
          100,
          140,
          135,
          73,
          86,
          108,
          116,
          160,
          118,
          112,
          122,
          124,
          102,
          137,
          141,
          154,
          126,
          160,
          115,
          128,
          115,
          105,
          110,
          119,
          109,
          135,
          130,
          112,
          126,
          120,
          110,
          119,
          110,
          130,
          159,
          84,
          126,
          116,
          120,
          122,
          165,
          122,
          94,
          133,
          110,
          150,
          130,
          113,
          140,
          100,
          136,
          127,
          98,
          96,
          123,
          98,
          112,
          151,
          96,
          108,
          128,
          138,
          126,
          154,
          137,
          100,
          135,
          93,
          109,
          160,
          141,
          105,
          121,
          140,
          142,
          142,
          170,
          154,
          161,
          111,
          180,
          145,
          159,
          125,
          120,
          155,
          144,
          178,
          129,
          180,
          181,
          143,
          159,
          139,
          152,
          157,
          165,
          130,
          150,
          138,
          170,
          140,
          126,
          150,
          138,
          125,
          150,
          186,
          181,
          163,
          179,
          156,
          134,
          165,
          126,
          177,
          120,
          114,
          125,
          184,
          157,
          179,
          175,
          168,
          125,
          96,
          143,
          103,
          173,
          142,
          169,
          171,
          150,
          112,
          186,
          152,
          149,
          152,
          140,
          163,
          143,
          116,
          142,
          147,
          148,
          179,
          173,
          178,
          105,
          130,
          111,
          168,
          126,
          178,
          140,
          145,
          163,
          128,
          164,
          169,
          109,
          108,
          168,
          118,
          151,
          156,
          133,
          162,
          175,
          71,
          163,
          124,
          147,
          166,
          143,
          157,
          162,
          138,
          117,
          153,
          161,
          170,
          162,
          162,
          144,
          133,
          114,
          103,
          139,
          116,
          88,
          151,
          152,
          163,
          99,
          169,
          158,
          160,
          169,
          132,
          178,
          96,
          165,
          160,
          172,
          144,
          192,
          168,
          132,
          182,
          163,
          125,
          195,
          95,
          160,
          114,
          173,
          172,
          179,
          158,
          167,
          122,
          149,
          172,
          111,
          170,
          162,
          165,
          182,
          154,
          155,
          130,
          161,
          154,
          159,
          152,
          152,
          174,
          131,
          146,
          125,
          115,
          174,
          106,
          122,
          147,
          163,
          163,
          194,
          150,
          158,
          122,
          173,
          162,
          105,
          147,
          157,
          112,
          160,
          125,
          156,
          156,
          175,
          161,
          122,
          158,
          151,
          162,
          151,
          171,
          141,
          173,
          145,
          178,
          160,
          154,
          131,
          187,
          159,
          166,
          165,
          131,
          202,
          172,
          172,
          154,
          147,
          170,
          126,
          127,
          174,
          132,
          182,
          132,
          97,
          136,
          162,
          190,
          146,
          140,
          185,
          161,
          146,
          145,
          160,
          120,
          156,
          172,
          150,
          182,
          143,
          160,
          142,
          144,
          158,
          148,
          155,
          142,
          113,
          188,
          153,
          123,
          157,
          162,
          137,
          132,
          158,
          171,
          172,
          132,
          160,
          171,
          168,
          162,
          173,
          153,
          148,
          108,
          115,
          169,
          143,
          156,
          162,
          155,
          152,
          152,
          164,
          131,
          143,
          179,
          130,
          174,
          161,
          140,
          146,
          144,
          163,
          169,
          150,
          166,
          144,
          144,
          136,
          182,
          90,
          123,
          132,
          141,
          115,
          174,
          173
         ],
         "yaxis": "y"
        }
       ],
       "layout": {
        "coloraxis": {
         "colorbar": {
          "title": {
           "text": "Heart Disease(0=No,1=Yes)"
          }
         },
         "colorscale": [
          [
           0,
           "#440154"
          ],
          [
           0.1111111111111111,
           "#482878"
          ],
          [
           0.2222222222222222,
           "#3e4989"
          ],
          [
           0.3333333333333333,
           "#31688e"
          ],
          [
           0.4444444444444444,
           "#26828e"
          ],
          [
           0.5555555555555556,
           "#1f9e89"
          ],
          [
           0.6666666666666666,
           "#35b779"
          ],
          [
           0.7777777777777778,
           "#6ece58"
          ],
          [
           0.8888888888888888,
           "#b5de2b"
          ],
          [
           1,
           "#fde725"
          ]
         ]
        },
        "height": 500,
        "legend": {
         "tracegroupgap": 0
        },
        "template": {
         "data": {
          "bar": [
           {
            "error_x": {
             "color": "#2a3f5f"
            },
            "error_y": {
             "color": "#2a3f5f"
            },
            "marker": {
             "line": {
              "color": "#E5ECF6",
              "width": 0.5
             },
             "pattern": {
              "fillmode": "overlay",
              "size": 10,
              "solidity": 0.2
             }
            },
            "type": "bar"
           }
          ],
          "barpolar": [
           {
            "marker": {
             "line": {
              "color": "#E5ECF6",
              "width": 0.5
             },
             "pattern": {
              "fillmode": "overlay",
              "size": 10,
              "solidity": 0.2
             }
            },
            "type": "barpolar"
           }
          ],
          "carpet": [
           {
            "aaxis": {
             "endlinecolor": "#2a3f5f",
             "gridcolor": "white",
             "linecolor": "white",
             "minorgridcolor": "white",
             "startlinecolor": "#2a3f5f"
            },
            "baxis": {
             "endlinecolor": "#2a3f5f",
             "gridcolor": "white",
             "linecolor": "white",
             "minorgridcolor": "white",
             "startlinecolor": "#2a3f5f"
            },
            "type": "carpet"
           }
          ],
          "choropleth": [
           {
            "colorbar": {
             "outlinewidth": 0,
             "ticks": ""
            },
            "type": "choropleth"
           }
          ],
          "contour": [
           {
            "colorbar": {
             "outlinewidth": 0,
             "ticks": ""
            },
            "colorscale": [
             [
              0,
              "#0d0887"
             ],
             [
              0.1111111111111111,
              "#46039f"
             ],
             [
              0.2222222222222222,
              "#7201a8"
             ],
             [
              0.3333333333333333,
              "#9c179e"
             ],
             [
              0.4444444444444444,
              "#bd3786"
             ],
             [
              0.5555555555555556,
              "#d8576b"
             ],
             [
              0.6666666666666666,
              "#ed7953"
             ],
             [
              0.7777777777777778,
              "#fb9f3a"
             ],
             [
              0.8888888888888888,
              "#fdca26"
             ],
             [
              1,
              "#f0f921"
             ]
            ],
            "type": "contour"
           }
          ],
          "contourcarpet": [
           {
            "colorbar": {
             "outlinewidth": 0,
             "ticks": ""
            },
            "type": "contourcarpet"
           }
          ],
          "heatmap": [
           {
            "colorbar": {
             "outlinewidth": 0,
             "ticks": ""
            },
            "colorscale": [
             [
              0,
              "#0d0887"
             ],
             [
              0.1111111111111111,
              "#46039f"
             ],
             [
              0.2222222222222222,
              "#7201a8"
             ],
             [
              0.3333333333333333,
              "#9c179e"
             ],
             [
              0.4444444444444444,
              "#bd3786"
             ],
             [
              0.5555555555555556,
              "#d8576b"
             ],
             [
              0.6666666666666666,
              "#ed7953"
             ],
             [
              0.7777777777777778,
              "#fb9f3a"
             ],
             [
              0.8888888888888888,
              "#fdca26"
             ],
             [
              1,
              "#f0f921"
             ]
            ],
            "type": "heatmap"
           }
          ],
          "heatmapgl": [
           {
            "colorbar": {
             "outlinewidth": 0,
             "ticks": ""
            },
            "colorscale": [
             [
              0,
              "#0d0887"
             ],
             [
              0.1111111111111111,
              "#46039f"
             ],
             [
              0.2222222222222222,
              "#7201a8"
             ],
             [
              0.3333333333333333,
              "#9c179e"
             ],
             [
              0.4444444444444444,
              "#bd3786"
             ],
             [
              0.5555555555555556,
              "#d8576b"
             ],
             [
              0.6666666666666666,
              "#ed7953"
             ],
             [
              0.7777777777777778,
              "#fb9f3a"
             ],
             [
              0.8888888888888888,
              "#fdca26"
             ],
             [
              1,
              "#f0f921"
             ]
            ],
            "type": "heatmapgl"
           }
          ],
          "histogram": [
           {
            "marker": {
             "pattern": {
              "fillmode": "overlay",
              "size": 10,
              "solidity": 0.2
             }
            },
            "type": "histogram"
           }
          ],
          "histogram2d": [
           {
            "colorbar": {
             "outlinewidth": 0,
             "ticks": ""
            },
            "colorscale": [
             [
              0,
              "#0d0887"
             ],
             [
              0.1111111111111111,
              "#46039f"
             ],
             [
              0.2222222222222222,
              "#7201a8"
             ],
             [
              0.3333333333333333,
              "#9c179e"
             ],
             [
              0.4444444444444444,
              "#bd3786"
             ],
             [
              0.5555555555555556,
              "#d8576b"
             ],
             [
              0.6666666666666666,
              "#ed7953"
             ],
             [
              0.7777777777777778,
              "#fb9f3a"
             ],
             [
              0.8888888888888888,
              "#fdca26"
             ],
             [
              1,
              "#f0f921"
             ]
            ],
            "type": "histogram2d"
           }
          ],
          "histogram2dcontour": [
           {
            "colorbar": {
             "outlinewidth": 0,
             "ticks": ""
            },
            "colorscale": [
             [
              0,
              "#0d0887"
             ],
             [
              0.1111111111111111,
              "#46039f"
             ],
             [
              0.2222222222222222,
              "#7201a8"
             ],
             [
              0.3333333333333333,
              "#9c179e"
             ],
             [
              0.4444444444444444,
              "#bd3786"
             ],
             [
              0.5555555555555556,
              "#d8576b"
             ],
             [
              0.6666666666666666,
              "#ed7953"
             ],
             [
              0.7777777777777778,
              "#fb9f3a"
             ],
             [
              0.8888888888888888,
              "#fdca26"
             ],
             [
              1,
              "#f0f921"
             ]
            ],
            "type": "histogram2dcontour"
           }
          ],
          "mesh3d": [
           {
            "colorbar": {
             "outlinewidth": 0,
             "ticks": ""
            },
            "type": "mesh3d"
           }
          ],
          "parcoords": [
           {
            "line": {
             "colorbar": {
              "outlinewidth": 0,
              "ticks": ""
             }
            },
            "type": "parcoords"
           }
          ],
          "pie": [
           {
            "automargin": true,
            "type": "pie"
           }
          ],
          "scatter": [
           {
            "fillpattern": {
             "fillmode": "overlay",
             "size": 10,
             "solidity": 0.2
            },
            "type": "scatter"
           }
          ],
          "scatter3d": [
           {
            "line": {
             "colorbar": {
              "outlinewidth": 0,
              "ticks": ""
             }
            },
            "marker": {
             "colorbar": {
              "outlinewidth": 0,
              "ticks": ""
             }
            },
            "type": "scatter3d"
           }
          ],
          "scattercarpet": [
           {
            "marker": {
             "colorbar": {
              "outlinewidth": 0,
              "ticks": ""
             }
            },
            "type": "scattercarpet"
           }
          ],
          "scattergeo": [
           {
            "marker": {
             "colorbar": {
              "outlinewidth": 0,
              "ticks": ""
             }
            },
            "type": "scattergeo"
           }
          ],
          "scattergl": [
           {
            "marker": {
             "colorbar": {
              "outlinewidth": 0,
              "ticks": ""
             }
            },
            "type": "scattergl"
           }
          ],
          "scattermapbox": [
           {
            "marker": {
             "colorbar": {
              "outlinewidth": 0,
              "ticks": ""
             }
            },
            "type": "scattermapbox"
           }
          ],
          "scatterpolar": [
           {
            "marker": {
             "colorbar": {
              "outlinewidth": 0,
              "ticks": ""
             }
            },
            "type": "scatterpolar"
           }
          ],
          "scatterpolargl": [
           {
            "marker": {
             "colorbar": {
              "outlinewidth": 0,
              "ticks": ""
             }
            },
            "type": "scatterpolargl"
           }
          ],
          "scatterternary": [
           {
            "marker": {
             "colorbar": {
              "outlinewidth": 0,
              "ticks": ""
             }
            },
            "type": "scatterternary"
           }
          ],
          "surface": [
           {
            "colorbar": {
             "outlinewidth": 0,
             "ticks": ""
            },
            "colorscale": [
             [
              0,
              "#0d0887"
             ],
             [
              0.1111111111111111,
              "#46039f"
             ],
             [
              0.2222222222222222,
              "#7201a8"
             ],
             [
              0.3333333333333333,
              "#9c179e"
             ],
             [
              0.4444444444444444,
              "#bd3786"
             ],
             [
              0.5555555555555556,
              "#d8576b"
             ],
             [
              0.6666666666666666,
              "#ed7953"
             ],
             [
              0.7777777777777778,
              "#fb9f3a"
             ],
             [
              0.8888888888888888,
              "#fdca26"
             ],
             [
              1,
              "#f0f921"
             ]
            ],
            "type": "surface"
           }
          ],
          "table": [
           {
            "cells": {
             "fill": {
              "color": "#EBF0F8"
             },
             "line": {
              "color": "white"
             }
            },
            "header": {
             "fill": {
              "color": "#C8D4E3"
             },
             "line": {
              "color": "white"
             }
            },
            "type": "table"
           }
          ]
         },
         "layout": {
          "annotationdefaults": {
           "arrowcolor": "#2a3f5f",
           "arrowhead": 0,
           "arrowwidth": 1
          },
          "autotypenumbers": "strict",
          "coloraxis": {
           "colorbar": {
            "outlinewidth": 0,
            "ticks": ""
           }
          },
          "colorscale": {
           "diverging": [
            [
             0,
             "#8e0152"
            ],
            [
             0.1,
             "#c51b7d"
            ],
            [
             0.2,
             "#de77ae"
            ],
            [
             0.3,
             "#f1b6da"
            ],
            [
             0.4,
             "#fde0ef"
            ],
            [
             0.5,
             "#f7f7f7"
            ],
            [
             0.6,
             "#e6f5d0"
            ],
            [
             0.7,
             "#b8e186"
            ],
            [
             0.8,
             "#7fbc41"
            ],
            [
             0.9,
             "#4d9221"
            ],
            [
             1,
             "#276419"
            ]
           ],
           "sequential": [
            [
             0,
             "#0d0887"
            ],
            [
             0.1111111111111111,
             "#46039f"
            ],
            [
             0.2222222222222222,
             "#7201a8"
            ],
            [
             0.3333333333333333,
             "#9c179e"
            ],
            [
             0.4444444444444444,
             "#bd3786"
            ],
            [
             0.5555555555555556,
             "#d8576b"
            ],
            [
             0.6666666666666666,
             "#ed7953"
            ],
            [
             0.7777777777777778,
             "#fb9f3a"
            ],
            [
             0.8888888888888888,
             "#fdca26"
            ],
            [
             1,
             "#f0f921"
            ]
           ],
           "sequentialminus": [
            [
             0,
             "#0d0887"
            ],
            [
             0.1111111111111111,
             "#46039f"
            ],
            [
             0.2222222222222222,
             "#7201a8"
            ],
            [
             0.3333333333333333,
             "#9c179e"
            ],
            [
             0.4444444444444444,
             "#bd3786"
            ],
            [
             0.5555555555555556,
             "#d8576b"
            ],
            [
             0.6666666666666666,
             "#ed7953"
            ],
            [
             0.7777777777777778,
             "#fb9f3a"
            ],
            [
             0.8888888888888888,
             "#fdca26"
            ],
            [
             1,
             "#f0f921"
            ]
           ]
          },
          "colorway": [
           "#636efa",
           "#EF553B",
           "#00cc96",
           "#ab63fa",
           "#FFA15A",
           "#19d3f3",
           "#FF6692",
           "#B6E880",
           "#FF97FF",
           "#FECB52"
          ],
          "font": {
           "color": "#2a3f5f"
          },
          "geo": {
           "bgcolor": "white",
           "lakecolor": "white",
           "landcolor": "#E5ECF6",
           "showlakes": true,
           "showland": true,
           "subunitcolor": "white"
          },
          "hoverlabel": {
           "align": "left"
          },
          "hovermode": "closest",
          "mapbox": {
           "style": "light"
          },
          "paper_bgcolor": "white",
          "plot_bgcolor": "#E5ECF6",
          "polar": {
           "angularaxis": {
            "gridcolor": "white",
            "linecolor": "white",
            "ticks": ""
           },
           "bgcolor": "#E5ECF6",
           "radialaxis": {
            "gridcolor": "white",
            "linecolor": "white",
            "ticks": ""
           }
          },
          "scene": {
           "xaxis": {
            "backgroundcolor": "#E5ECF6",
            "gridcolor": "white",
            "gridwidth": 2,
            "linecolor": "white",
            "showbackground": true,
            "ticks": "",
            "zerolinecolor": "white"
           },
           "yaxis": {
            "backgroundcolor": "#E5ECF6",
            "gridcolor": "white",
            "gridwidth": 2,
            "linecolor": "white",
            "showbackground": true,
            "ticks": "",
            "zerolinecolor": "white"
           },
           "zaxis": {
            "backgroundcolor": "#E5ECF6",
            "gridcolor": "white",
            "gridwidth": 2,
            "linecolor": "white",
            "showbackground": true,
            "ticks": "",
            "zerolinecolor": "white"
           }
          },
          "shapedefaults": {
           "line": {
            "color": "#2a3f5f"
           }
          },
          "ternary": {
           "aaxis": {
            "gridcolor": "white",
            "linecolor": "white",
            "ticks": ""
           },
           "baxis": {
            "gridcolor": "white",
            "linecolor": "white",
            "ticks": ""
           },
           "bgcolor": "#E5ECF6",
           "caxis": {
            "gridcolor": "white",
            "linecolor": "white",
            "ticks": ""
           }
          },
          "title": {
           "x": 0.05
          },
          "xaxis": {
           "automargin": true,
           "gridcolor": "white",
           "linecolor": "white",
           "ticks": "",
           "title": {
            "standoff": 15
           },
           "zerolinecolor": "white",
           "zerolinewidth": 2
          },
          "yaxis": {
           "automargin": true,
           "gridcolor": "white",
           "linecolor": "white",
           "ticks": "",
           "title": {
            "standoff": 15
           },
           "zerolinecolor": "white",
           "zerolinewidth": 2
          }
         }
        },
        "title": {
         "text": "Cholesterol vs. MaxHR by Heart Disease"
        },
        "width": 800,
        "xaxis": {
         "anchor": "y",
         "autorange": true,
         "domain": [
          0,
          1
         ],
         "range": [
          -39.418727915194346,
          642.4187279151944
         ],
         "title": {
          "text": "Cholesterol"
         },
         "type": "linear"
        },
        "yaxis": {
         "anchor": "x",
         "autorange": true,
         "domain": [
          0,
          1
         ],
         "range": [
          50.001782531194294,
          211.9982174688057
         ],
         "title": {
          "text": "MaxHR"
         },
         "type": "linear"
        }
       }
      },
      "image/png": "[encoded data removed]",
      "text/html": [
       "<div>                            <div id=\"9ad21c1f-857a-44a7-96f0-b1cbc30a90fa\" class=\"plotly-graph-div\" style=\"height:500px; width:800px;\"></div>            <script type=\"text/javascript\">                require([\"plotly\"], function(Plotly) {                    window.PLOTLYENV=window.PLOTLYENV || {};                                    if (document.getElementById(\"9ad21c1f-857a-44a7-96f0-b1cbc30a90fa\")) {                    Plotly.newPlot(                        \"9ad21c1f-857a-44a7-96f0-b1cbc30a90fa\",                        [{\"customdata\":[[40,\"M\"],[49,\"F\"],[37,\"M\"],[48,\"F\"],[54,\"M\"],[39,\"M\"],[45,\"F\"],[54,\"M\"],[37,\"M\"],[48,\"F\"],[37,\"F\"],[58,\"M\"],[39,\"M\"],[49,\"M\"],[42,\"F\"],[54,\"F\"],[38,\"M\"],[43,\"F\"],[60,\"M\"],[36,\"M\"],[43,\"F\"],[44,\"M\"],[49,\"F\"],[44,\"M\"],[40,\"M\"],[36,\"M\"],[53,\"M\"],[52,\"M\"],[53,\"F\"],[51,\"M\"],[53,\"M\"],[56,\"M\"],[54,\"M\"],[41,\"M\"],[43,\"F\"],[32,\"M\"],[65,\"M\"],[41,\"F\"],[48,\"F\"],[48,\"F\"],[54,\"F\"],[54,\"F\"],[35,\"M\"],[52,\"M\"],[43,\"M\"],[59,\"M\"],[37,\"M\"],[50,\"M\"],[36,\"M\"],[41,\"M\"],[50,\"M\"],[47,\"F\"],[45,\"M\"],[41,\"F\"],[52,\"F\"],[51,\"F\"],[31,\"M\"],[58,\"M\"],[54,\"M\"],[52,\"M\"],[49,\"M\"],[43,\"F\"],[45,\"M\"],[46,\"M\"],[50,\"F\"],[37,\"F\"],[45,\"F\"],[32,\"M\"],[52,\"M\"],[44,\"M\"],[57,\"M\"],[44,\"M\"],[52,\"M\"],[44,\"F\"],[55,\"M\"],[46,\"M\"],[32,\"M\"],[35,\"F\"],[52,\"M\"],[49,\"M\"],[55,\"M\"],[54,\"M\"],[63,\"M\"],[52,\"M\"],[56,\"M\"],[66,\"M\"],[65,\"M\"],[53,\"F\"],[43,\"M\"],[55,\"M\"],[49,\"F\"],[39,\"M\"],[52,\"F\"],[48,\"M\"],[39,\"F\"],[58,\"M\"],[43,\"M\"],[39,\"M\"],[56,\"M\"],[41,\"M\"],[65,\"M\"],[51,\"M\"],[40,\"F\"],[40,\"M\"],[46,\"M\"],[57,\"M\"],[48,\"F\"],[34,\"M\"],[50,\"M\"],[39,\"M\"],[59,\"F\"],[57,\"M\"],[47,\"M\"],[38,\"M\"],[49,\"F\"],[33,\"F\"],[38,\"M\"],[59,\"F\"],[35,\"F\"],[34,\"M\"],[47,\"F\"],[52,\"F\"],[46,\"M\"],[58,\"F\"],[58,\"M\"],[54,\"M\"],[34,\"F\"],[48,\"F\"],[54,\"F\"],[42,\"M\"],[38,\"M\"],[46,\"M\"],[56,\"M\"],[56,\"M\"],[61,\"F\"],[49,\"M\"],[43,\"F\"],[39,\"M\"],[54,\"M\"],[43,\"M\"],[52,\"M\"],[50,\"M\"],[47,\"M\"],[53,\"M\"],[56,\"F\"],[39,\"M\"],[42,\"M\"],[43,\"F\"],[50,\"M\"],[54,\"M\"],[39,\"M\"],[48,\"M\"],[40,\"M\"],[55,\"M\"],[41,\"M\"],[56,\"M\"],[38,\"M\"],[49,\"M\"],[44,\"M\"],[54,\"M\"],[59,\"M\"],[49,\"M\"],[47,\"M\"],[42,\"M\"],[52,\"F\"],[46,\"M\"],[50,\"M\"],[48,\"M\"],[58,\"M\"],[58,\"M\"],[29,\"M\"],[40,\"M\"],[53,\"M\"],[49,\"M\"],[52,\"M\"],[43,\"M\"],[54,\"M\"],[59,\"M\"],[37,\"M\"],[46,\"F\"],[52,\"M\"],[51,\"M\"],[52,\"M\"],[46,\"M\"],[54,\"F\"],[58,\"M\"],[58,\"M\"],[41,\"M\"],[50,\"F\"],[53,\"M\"],[46,\"M\"],[50,\"M\"],[48,\"M\"],[45,\"M\"],[41,\"F\"],[62,\"F\"],[49,\"M\"],[42,\"M\"],[53,\"M\"],[57,\"F\"],[47,\"M\"],[46,\"M\"],[42,\"M\"],[31,\"F\"],[56,\"M\"],[50,\"M\"],[35,\"M\"],[35,\"M\"],[28,\"M\"],[54,\"M\"],[48,\"M\"],[50,\"F\"],[56,\"M\"],[56,\"F\"],[47,\"M\"],[30,\"F\"],[39,\"M\"],[54,\"M\"],[55,\"M\"],[29,\"M\"],[46,\"M\"],[51,\"F\"],[48,\"F\"],[33,\"M\"],[55,\"M\"],[50,\"M\"],[53,\"M\"],[38,\"M\"],[41,\"M\"],[37,\"F\"],[37,\"M\"],[40,\"M\"],[38,\"F\"],[41,\"M\"],[54,\"F\"],[39,\"M\"],[41,\"M\"],[55,\"M\"],[48,\"M\"],[48,\"M\"],[55,\"M\"],[54,\"M\"],[55,\"M\"],[43,\"F\"],[48,\"M\"],[54,\"M\"],[54,\"M\"],[48,\"M\"],[45,\"M\"],[49,\"M\"],[44,\"M\"],[48,\"M\"],[61,\"M\"],[62,\"M\"],[55,\"M\"],[53,\"F\"],[55,\"F\"],[36,\"M\"],[51,\"F\"],[55,\"F\"],[46,\"M\"],[54,\"F\"],[46,\"M\"],[59,\"M\"],[47,\"M\"],[54,\"M\"],[52,\"M\"],[34,\"M\"],[54,\"M\"],[47,\"F\"],[45,\"M\"],[32,\"F\"],[55,\"M\"],[55,\"M\"],[45,\"F\"],[59,\"M\"],[51,\"M\"],[52,\"M\"],[57,\"F\"],[54,\"F\"],[60,\"M\"],[49,\"M\"],[51,\"F\"],[55,\"F\"],[42,\"M\"],[51,\"F\"],[59,\"M\"],[53,\"M\"],[48,\"F\"],[36,\"M\"],[48,\"M\"],[47,\"F\"],[53,\"M\"],[65,\"M\"],[32,\"M\"],[61,\"M\"],[50,\"M\"],[57,\"M\"],[51,\"M\"],[47,\"M\"],[60,\"M\"],[55,\"M\"],[53,\"M\"],[62,\"F\"],[51,\"M\"],[51,\"F\"],[55,\"M\"],[53,\"M\"],[58,\"M\"],[57,\"M\"],[65,\"M\"],[60,\"M\"],[41,\"M\"],[34,\"M\"],[53,\"M\"],[74,\"M\"],[57,\"M\"],[56,\"M\"],[61,\"M\"],[68,\"M\"],[59,\"M\"],[63,\"M\"],[38,\"F\"],[62,\"M\"],[46,\"M\"],[42,\"M\"],[45,\"M\"],[59,\"M\"],[52,\"M\"],[60,\"M\"],[60,\"M\"],[56,\"M\"],[38,\"M\"],[40,\"M\"],[51,\"M\"],[62,\"M\"],[72,\"M\"],[63,\"M\"],[63,\"M\"],[64,\"F\"],[43,\"M\"],[64,\"M\"],[61,\"M\"],[52,\"M\"],[51,\"M\"],[69,\"M\"],[59,\"M\"],[48,\"M\"],[69,\"M\"],[36,\"M\"],[53,\"M\"],[43,\"M\"],[56,\"M\"],[58,\"M\"],[55,\"M\"],[67,\"M\"],[46,\"M\"],[53,\"M\"],[38,\"M\"],[53,\"M\"],[62,\"M\"],[47,\"M\"],[56,\"M\"],[56,\"M\"],[56,\"M\"],[64,\"F\"],[61,\"M\"],[68,\"M\"],[57,\"M\"],[63,\"M\"],[60,\"M\"],[66,\"M\"],[63,\"M\"],[59,\"M\"],[61,\"M\"],[73,\"F\"],[47,\"M\"],[65,\"M\"],[70,\"M\"],[50,\"M\"],[60,\"M\"],[50,\"M\"],[43,\"M\"],[38,\"F\"],[54,\"M\"],[61,\"M\"],[42,\"M\"],[53,\"M\"],[55,\"M\"],[61,\"M\"],[51,\"M\"],[70,\"M\"],[61,\"M\"],[38,\"M\"],[57,\"M\"],[38,\"M\"],[62,\"F\"],[58,\"M\"],[52,\"M\"],[61,\"M\"],[50,\"F\"],[51,\"M\"],[65,\"M\"],[52,\"M\"],[47,\"M\"],[35,\"M\"],[57,\"M\"],[62,\"M\"],[59,\"M\"],[53,\"M\"],[62,\"M\"],[54,\"M\"],[56,\"M\"],[56,\"M\"],[54,\"M\"],[66,\"F\"],[63,\"M\"],[44,\"M\"],[60,\"M\"],[55,\"M\"],[66,\"M\"],[66,\"M\"],[65,\"M\"],[60,\"M\"],[60,\"M\"],[60,\"M\"],[56,\"M\"],[59,\"M\"],[62,\"M\"],[63,\"M\"],[57,\"M\"],[62,\"M\"],[63,\"M\"],[46,\"M\"],[63,\"M\"],[60,\"M\"],[58,\"M\"],[64,\"M\"],[63,\"M\"],[74,\"M\"],[52,\"M\"],[69,\"M\"],[51,\"M\"],[60,\"M\"],[56,\"M\"],[55,\"M\"],[54,\"M\"],[77,\"M\"],[63,\"M\"],[55,\"M\"],[52,\"M\"],[64,\"M\"],[60,\"M\"],[60,\"M\"],[58,\"M\"],[59,\"M\"],[61,\"M\"],[40,\"M\"],[61,\"M\"],[41,\"M\"],[57,\"M\"],[63,\"M\"],[59,\"M\"],[51,\"M\"],[59,\"M\"],[42,\"M\"],[55,\"M\"],[63,\"F\"],[62,\"M\"],[56,\"M\"],[53,\"M\"],[68,\"M\"],[53,\"M\"],[60,\"M\"],[62,\"M\"],[59,\"M\"],[51,\"M\"],[61,\"M\"],[57,\"M\"],[56,\"M\"],[58,\"M\"],[69,\"M\"],[67,\"M\"],[58,\"M\"],[65,\"M\"],[63,\"M\"],[55,\"M\"],[57,\"M\"],[65,\"M\"],[54,\"M\"],[72,\"M\"],[75,\"M\"],[49,\"M\"],[51,\"M\"],[60,\"M\"],[64,\"F\"],[58,\"M\"],[61,\"M\"],[67,\"M\"],[62,\"M\"],[65,\"M\"],[63,\"M\"],[69,\"M\"],[51,\"M\"],[62,\"M\"],[55,\"M\"],[75,\"M\"],[40,\"M\"],[67,\"M\"],[58,\"M\"],[60,\"M\"],[63,\"M\"],[35,\"M\"],[62,\"M\"],[43,\"M\"],[63,\"M\"],[68,\"M\"],[65,\"M\"],[48,\"M\"],[63,\"M\"],[64,\"M\"],[61,\"M\"],[50,\"M\"],[59,\"M\"],[55,\"M\"],[45,\"M\"],[65,\"M\"],[61,\"M\"],[49,\"M\"],[72,\"M\"],[50,\"M\"],[64,\"M\"],[55,\"M\"],[63,\"M\"],[59,\"M\"],[56,\"M\"],[62,\"M\"],[74,\"M\"],[54,\"M\"],[57,\"M\"],[62,\"M\"],[76,\"M\"],[54,\"F\"],[70,\"M\"],[61,\"F\"],[48,\"M\"],[48,\"M\"],[61,\"M\"],[66,\"M\"],[68,\"M\"],[55,\"M\"],[62,\"M\"],[71,\"M\"],[74,\"M\"],[53,\"M\"],[58,\"M\"],[75,\"M\"],[56,\"M\"],[58,\"M\"],[64,\"M\"],[54,\"M\"],[54,\"M\"],[59,\"M\"],[55,\"M\"],[57,\"M\"],[61,\"M\"],[41,\"M\"],[71,\"M\"],[38,\"M\"],[55,\"M\"],[56,\"M\"],[69,\"M\"],[64,\"M\"],[72,\"M\"],[69,\"M\"],[56,\"M\"],[62,\"M\"],[67,\"M\"],[57,\"M\"],[69,\"M\"],[51,\"M\"],[48,\"M\"],[69,\"M\"],[69,\"M\"],[64,\"M\"],[57,\"M\"],[53,\"M\"],[37,\"M\"],[67,\"M\"],[74,\"M\"],[63,\"M\"],[58,\"M\"],[61,\"M\"],[64,\"M\"],[58,\"M\"],[60,\"M\"],[57,\"M\"],[55,\"M\"],[55,\"M\"],[56,\"M\"],[57,\"M\"],[61,\"M\"],[61,\"M\"],[74,\"M\"],[68,\"M\"],[51,\"F\"],[62,\"M\"],[53,\"M\"],[62,\"M\"],[46,\"M\"],[54,\"F\"],[62,\"M\"],[55,\"M\"],[58,\"M\"],[62,\"M\"],[70,\"M\"],[67,\"F\"],[57,\"M\"],[64,\"M\"],[74,\"F\"],[65,\"M\"],[56,\"M\"],[59,\"M\"],[60,\"M\"],[63,\"F\"],[59,\"M\"],[53,\"M\"],[44,\"M\"],[61,\"M\"],[57,\"F\"],[71,\"F\"],[46,\"M\"],[53,\"M\"],[64,\"M\"],[40,\"M\"],[67,\"M\"],[48,\"M\"],[43,\"M\"],[47,\"M\"],[54,\"F\"],[48,\"F\"],[46,\"F\"],[51,\"F\"],[58,\"M\"],[71,\"F\"],[57,\"M\"],[66,\"M\"],[37,\"F\"],[59,\"M\"],[50,\"M\"],[48,\"M\"],[61,\"M\"],[59,\"M\"],[42,\"M\"],[48,\"M\"],[40,\"M\"],[62,\"F\"],[44,\"M\"],[46,\"M\"],[59,\"M\"],[58,\"M\"],[49,\"M\"],[44,\"M\"],[66,\"M\"],[65,\"F\"],[42,\"M\"],[52,\"M\"],[65,\"F\"],[63,\"F\"],[45,\"F\"],[41,\"F\"],[61,\"M\"],[60,\"F\"],[59,\"F\"],[62,\"M\"],[57,\"M\"],[51,\"F\"],[44,\"M\"],[60,\"F\"],[63,\"M\"],[57,\"M\"],[51,\"M\"],[58,\"F\"],[44,\"F\"],[47,\"M\"],[61,\"M\"],[57,\"F\"],[70,\"M\"],[76,\"F\"],[67,\"F\"],[45,\"M\"],[45,\"M\"],[39,\"F\"],[42,\"F\"],[56,\"M\"],[58,\"M\"],[35,\"M\"],[58,\"M\"],[41,\"M\"],[57,\"M\"],[42,\"M\"],[62,\"M\"],[59,\"M\"],[41,\"F\"],[50,\"M\"],[59,\"M\"],[61,\"F\"],[54,\"M\"],[54,\"M\"],[52,\"M\"],[47,\"M\"],[66,\"M\"],[58,\"M\"],[64,\"F\"],[50,\"F\"],[44,\"F\"],[67,\"M\"],[49,\"F\"],[57,\"M\"],[63,\"M\"],[48,\"M\"],[51,\"M\"],[60,\"F\"],[59,\"M\"],[45,\"F\"],[55,\"F\"],[41,\"M\"],[60,\"F\"],[54,\"F\"],[42,\"M\"],[49,\"F\"],[46,\"M\"],[56,\"F\"],[66,\"F\"],[56,\"M\"],[49,\"M\"],[54,\"M\"],[57,\"M\"],[65,\"F\"],[54,\"M\"],[54,\"F\"],[62,\"M\"],[52,\"F\"],[52,\"M\"],[60,\"M\"],[63,\"F\"],[66,\"M\"],[42,\"M\"],[64,\"M\"],[54,\"M\"],[46,\"F\"],[67,\"F\"],[56,\"M\"],[34,\"F\"],[57,\"M\"],[64,\"M\"],[59,\"M\"],[50,\"M\"],[51,\"M\"],[54,\"M\"],[53,\"M\"],[52,\"M\"],[40,\"M\"],[58,\"M\"],[41,\"F\"],[41,\"M\"],[50,\"F\"],[54,\"F\"],[64,\"F\"],[51,\"F\"],[46,\"F\"],[55,\"M\"],[45,\"M\"],[56,\"M\"],[66,\"F\"],[38,\"M\"],[62,\"F\"],[55,\"M\"],[58,\"M\"],[43,\"M\"],[64,\"F\"],[50,\"F\"],[53,\"M\"],[45,\"F\"],[65,\"M\"],[69,\"M\"],[69,\"M\"],[67,\"M\"],[68,\"F\"],[34,\"M\"],[62,\"F\"],[51,\"M\"],[46,\"M\"],[67,\"M\"],[50,\"M\"],[42,\"M\"],[56,\"F\"],[41,\"M\"],[42,\"F\"],[53,\"M\"],[43,\"M\"],[56,\"M\"],[52,\"M\"],[62,\"F\"],[70,\"M\"],[54,\"M\"],[70,\"M\"],[54,\"M\"],[35,\"M\"],[48,\"M\"],[55,\"F\"],[58,\"F\"],[54,\"F\"],[69,\"F\"],[77,\"M\"],[68,\"M\"],[58,\"M\"],[60,\"M\"],[51,\"M\"],[55,\"M\"],[52,\"M\"],[60,\"F\"],[58,\"M\"],[64,\"M\"],[37,\"M\"],[59,\"M\"],[51,\"M\"],[43,\"F\"],[58,\"M\"],[29,\"M\"],[41,\"F\"],[63,\"F\"],[51,\"M\"],[54,\"M\"],[44,\"M\"],[54,\"M\"],[65,\"M\"],[57,\"M\"],[63,\"M\"],[35,\"F\"],[41,\"M\"],[62,\"F\"],[43,\"F\"],[58,\"F\"],[52,\"M\"],[61,\"F\"],[39,\"M\"],[45,\"M\"],[52,\"M\"],[62,\"M\"],[62,\"F\"],[53,\"F\"],[43,\"M\"],[47,\"M\"],[52,\"M\"],[68,\"M\"],[39,\"M\"],[53,\"F\"],[62,\"F\"],[51,\"F\"],[60,\"M\"],[65,\"M\"],[65,\"F\"],[60,\"M\"],[60,\"M\"],[54,\"M\"],[44,\"M\"],[44,\"M\"],[51,\"M\"],[59,\"M\"],[71,\"F\"],[61,\"M\"],[55,\"M\"],[64,\"M\"],[43,\"M\"],[58,\"F\"],[60,\"M\"],[58,\"M\"],[49,\"M\"],[48,\"M\"],[52,\"M\"],[44,\"M\"],[56,\"F\"],[57,\"M\"],[67,\"M\"],[53,\"F\"],[52,\"M\"],[43,\"M\"],[52,\"M\"],[59,\"M\"],[64,\"M\"],[66,\"F\"],[39,\"F\"],[57,\"M\"],[58,\"F\"],[57,\"M\"],[47,\"M\"],[55,\"F\"],[35,\"M\"],[61,\"M\"],[58,\"M\"],[58,\"F\"],[58,\"M\"],[56,\"M\"],[56,\"M\"],[67,\"M\"],[55,\"F\"],[44,\"M\"],[63,\"M\"],[63,\"F\"],[41,\"M\"],[59,\"M\"],[57,\"F\"],[45,\"M\"],[68,\"M\"],[57,\"M\"],[57,\"F\"],[38,\"M\"]],\"hovertemplate\":\"Cholesterol=%{x}\\u003cbr\\u003eMaxHR=%{y}\\u003cbr\\u003eAge=%{customdata[0]}\\u003cbr\\u003eSex=%{customdata[1]}\\u003cbr\\u003eHeart Disease(0=No,1=Yes)=%{marker.color}\\u003cextra\\u003e\\u003c\\u002fextra\\u003e\",\"legendgroup\":\"\",\"marker\":{\"color\":[0,1,0,1,0,0,0,0,1,0,0,1,0,1,0,0,1,0,1,1,0,0,0,1,0,0,0,0,0,0,1,0,1,1,0,0,1,0,0,0,0,1,0,0,1,0,0,0,0,1,1,1,0,0,0,0,1,1,0,1,0,0,0,1,0,0,0,0,1,0,1,0,1,0,1,0,1,0,0,1,0,0,1,0,1,1,1,0,1,0,0,0,0,1,0,1,0,0,0,0,1,0,1,1,1,0,0,0,0,0,0,1,0,0,0,1,1,1,0,1,1,0,0,1,0,0,0,0,0,0,0,1,1,1,0,1,0,0,1,1,1,1,1,0,1,0,0,0,0,1,0,0,0,0,0,1,1,0,1,0,1,1,0,0,0,1,1,0,0,0,0,0,0,0,1,1,1,0,0,0,1,0,1,0,0,1,0,1,0,1,0,0,0,0,0,0,0,0,1,0,0,0,0,0,0,0,0,1,0,1,1,1,0,0,1,0,1,0,0,0,1,1,0,0,0,1,0,1,0,0,0,0,0,0,0,0,1,1,1,1,0,1,1,0,1,0,1,1,1,1,1,1,0,0,1,0,0,0,0,0,0,0,1,1,1,0,1,0,1,0,0,0,1,0,0,0,1,1,0,0,0,1,0,0,0,0,0,0,0,0,0,0,0,1,1,1,1,1,1,1,1,0,1,1,1,1,1,0,1,1,0,1,1,1,0,1,1,1,1,1,1,1,1,1,1,1,0,1,1,1,1,1,0,1,1,1,0,1,1,1,1,1,1,1,1,1,1,1,1,1,1,1,1,1,1,1,1,1,1,1,1,1,1,1,0,1,1,1,1,1,1,1,1,1,1,1,1,1,1,1,1,1,1,1,1,1,1,1,1,1,1,1,1,1,1,1,1,1,1,1,1,1,1,1,1,1,1,1,1,1,1,1,1,1,1,1,1,0,1,1,0,0,1,0,1,1,0,1,1,1,1,0,1,1,0,0,1,1,1,0,1,1,1,1,1,1,1,1,1,1,1,1,1,0,1,0,1,1,1,0,1,1,1,0,1,0,1,0,1,0,1,1,1,1,0,1,0,1,1,1,1,1,1,1,1,1,0,1,0,1,1,1,1,1,1,1,0,1,1,1,1,1,1,0,1,1,1,0,1,1,0,1,0,1,1,0,1,1,1,1,0,1,1,1,0,0,1,0,1,1,1,1,1,1,1,1,1,1,1,0,1,1,1,1,0,0,1,1,1,0,1,0,1,1,0,1,0,1,1,1,0,0,0,1,1,1,0,1,1,1,1,1,1,1,1,1,1,1,1,1,1,1,1,0,1,1,1,0,1,1,0,0,1,1,1,1,1,0,1,1,0,1,1,1,0,0,1,1,1,1,1,0,1,0,1,1,0,1,0,0,0,1,1,1,1,0,0,0,1,0,0,1,1,0,0,1,0,0,0,0,0,0,0,1,0,1,0,0,1,1,1,1,1,0,0,1,0,0,0,1,0,1,1,1,1,1,0,0,0,0,0,1,0,1,1,0,1,0,0,0,1,0,1,0,1,1,0,0,0,0,1,0,0,0,0,1,1,1,0,0,0,0,0,0,1,0,1,1,1,1,1,0,1,0,0,0,1,0,1,1,1,0,1,1,0,1,0,1,0,0,0,1,1,0,1,1,1,1,0,0,0,1,0,0,1,1,1,0,1,0,0,0,1,0,0,1,0,1,0,1,1,1,1,1,0,0,0,0,0,0,0,1,0,0,1,1,1,0,1,0,0,0,0,0,1,0,1,1,0,0,1,1,1,1,0,0,1,1,0,0,0,1,0,0,1,0,1,0,1,0,0,0,0,0,1,0,1,1,1,1,0,0,0,1,0,1,0,0,1,0,0,0,0,0,0,1,1,0,1,0,0,1,1,0,0,1,1,0,1,0,1,0,1,0,0,1,0,0,1,0,1,1,0,1,1,1,0,1,0,0,0,0,1,1,0,0,1,1,0,1,0,0,0,0,1,0,0,1,1,1,0,0,0,1,0,1,0,1,0,1,1,1,0,0,0,1,0,1,1,1,0,1,1,1,1,1,1,0],\"coloraxis\":\"coloraxis\",\"symbol\":\"circle\"},\"mode\":\"markers\",\"name\":\"\",\"orientation\":\"v\",\"showlegend\":false,\"x\":[289,180,283,214,195,339,237,208,207,284,211,164,204,234,211,273,196,201,248,267,223,184,201,288,215,209,260,284,468,188,518,167,224,172,186,254,306,250,177,227,230,294,264,259,175,318,223,216,340,289,233,205,224,245,180,194,270,213,365,342,253,254,224,277,202,260,297,225,246,412,265,215,182,218,268,163,529,167,100,206,277,238,223,196,213,139,263,216,291,229,208,307,210,329,182,263,207,147,85,269,275,179,392,466,186,260,254,214,129,241,188,255,276,297,207,246,282,338,160,156,248,272,240,393,230,246,161,163,230,228,292,202,388,230,294,265,215,241,166,247,331,341,291,243,279,273,198,249,168,603,215,159,275,270,291,342,190,185,290,195,264,212,263,196,225,272,231,238,222,179,243,235,320,187,266,288,216,287,194,238,225,224,404,238,312,211,251,237,328,285,280,209,245,192,184,193,297,268,246,308,249,230,147,219,184,215,308,257,132,216,263,288,276,219,226,237,280,217,196,263,222,303,195,298,256,264,195,117,295,173,315,281,275,250,309,200,336,295,355,193,326,198,292,266,268,171,237,275,219,341,491,260,292,271,248,274,394,160,200,320,275,221,231,126,193,305,298,220,242,235,225,198,201,220,295,213,160,223,347,253,246,222,220,344,358,190,169,181,308,166,211,257,182,0,0,0,0,0,0,0,0,0,0,0,0,0,0,0,0,0,0,0,0,0,0,0,0,0,0,0,0,0,0,0,0,0,0,0,0,0,0,0,0,0,0,0,0,0,0,0,0,0,0,0,0,0,0,0,0,0,0,0,0,0,0,0,0,0,0,0,0,0,0,0,0,0,0,0,0,0,0,0,0,0,0,0,0,0,0,0,0,0,0,0,0,0,0,0,0,0,0,0,0,0,0,0,0,0,0,0,0,0,0,0,0,0,0,0,0,0,0,0,0,0,0,0,260,209,218,228,213,0,236,0,0,267,166,0,0,0,0,220,177,236,0,0,0,0,0,0,0,0,0,186,100,228,0,171,230,0,0,0,281,0,203,0,0,0,0,0,277,0,233,0,0,240,0,0,153,224,0,0,0,316,0,0,218,0,311,0,0,0,270,0,0,217,214,214,252,220,214,203,0,339,216,276,458,241,384,297,248,308,208,227,210,245,225,240,0,198,195,267,161,258,0,0,195,235,0,305,223,282,349,160,160,236,312,283,142,211,218,306,186,252,222,0,0,258,202,197,204,113,274,192,298,272,220,200,261,181,260,220,221,216,175,219,310,208,232,273,203,182,274,204,270,292,171,221,289,217,223,110,193,123,210,282,170,369,173,289,152,208,216,271,244,285,243,240,219,237,165,213,287,258,256,186,264,185,226,203,207,284,337,310,254,258,254,300,170,310,333,139,223,385,254,322,564,261,263,269,177,256,239,293,407,234,226,235,234,303,149,311,203,211,199,229,245,303,204,288,275,243,295,230,265,229,228,215,326,200,256,207,273,180,222,223,209,233,197,218,211,149,197,246,225,315,205,417,195,234,198,166,178,249,281,126,305,226,240,233,276,261,319,242,243,260,354,245,197,223,309,208,199,209,236,218,198,270,214,201,244,208,270,306,243,221,330,266,206,212,275,302,234,313,244,141,237,269,289,254,274,222,258,177,160,327,235,305,304,295,271,249,288,226,283,188,286,274,360,273,201,267,196,201,230,269,212,226,246,232,177,277,249,210,207,212,271,233,213,283,282,230,167,224,268,250,219,267,303,256,204,217,308,193,228,231,244,262,259,211,325,254,197,236,282,234,254,299,211,182,294,298,231,254,196,240,409,172,265,246,315,184,233,394,269,239,174,309,282,255,250,248,214,239,304,277,300,258,299,289,298,318,240,309,250,288,245,213,216,204,204,252,227,258,220,239,254,168,330,183,203,263,341,283,186,307,219,260,255,231,164,234,177,257,325,274,321,264,268,308,253,248,269,185,282,188,219,290,175,212,302,243,353,335,247,340,206,284,266,229,199,263,294,192,286,216,223,247,204,204,227,278,220,232,197,335,253,205,192,203,318,225,220,221,240,212,342,169,187,197,157,176,241,264,193,131,236,175],\"xaxis\":\"x\",\"y\":[172,156,98,108,122,170,170,142,130,120,142,99,145,140,137,150,166,165,125,160,142,142,164,150,138,178,112,118,127,145,130,114,122,130,154,155,87,142,148,130,130,100,168,170,120,120,168,170,184,170,121,98,122,150,140,170,153,140,134,96,174,175,144,125,145,130,144,184,82,170,145,135,150,115,128,116,130,150,138,170,160,154,115,165,125,94,112,142,155,110,160,140,148,92,180,140,138,160,140,144,115,100,130,152,124,140,110,168,135,106,124,92,125,150,135,150,170,130,185,180,170,139,140,110,150,110,190,175,140,152,130,150,122,124,120,175,175,146,118,130,94,125,158,155,150,132,155,176,160,125,120,100,150,140,160,150,150,130,100,130,119,96,174,150,140,175,140,118,100,160,160,188,162,172,134,135,105,150,150,90,120,150,124,140,130,92,110,138,110,120,120,116,160,110,180,116,132,136,116,98,150,150,146,150,100,140,180,140,185,140,110,140,128,164,98,170,150,137,150,170,112,150,125,185,137,150,140,134,170,184,158,167,129,142,140,160,118,136,99,102,155,142,143,118,103,137,150,150,130,120,135,115,115,152,96,130,150,172,120,155,165,138,115,125,145,175,110,150,91,145,140,165,130,134,180,100,150,126,126,155,135,122,160,160,170,120,140,132,156,180,138,135,148,93,127,110,139,131,92,149,149,150,120,123,126,127,155,120,138,182,154,110,176,154,141,123,148,121,77,136,175,109,166,128,133,128,138,119,82,130,143,82,179,144,170,134,114,154,149,145,122,114,113,120,104,130,115,128,104,125,120,140,100,100,92,125,113,95,128,115,72,124,99,148,97,140,117,120,120,86,63,108,98,115,105,121,118,122,157,156,99,120,145,156,155,105,99,135,83,145,60,92,115,120,98,150,143,105,122,70,110,163,67,128,120,130,100,72,94,122,78,150,103,98,110,90,112,127,140,149,99,120,105,140,141,157,140,117,120,120,148,86,84,125,120,118,124,106,111,116,180,129,125,140,120,124,117,110,105,155,110,122,118,133,123,131,80,165,86,111,118,84,117,107,128,160,125,130,97,161,106,130,140,122,130,120,139,108,148,123,110,118,125,106,112,128,180,144,135,140,102,108,145,127,110,140,69,148,130,130,140,138,140,138,112,131,112,80,150,110,126,88,153,150,120,160,132,120,110,121,128,135,120,117,150,144,113,135,127,109,128,115,102,140,135,122,119,130,112,100,122,120,105,129,120,139,162,100,140,135,73,86,108,116,160,118,112,122,124,102,137,141,154,126,160,115,128,115,105,110,119,109,135,130,112,126,120,110,119,110,130,159,84,126,116,120,122,165,122,94,133,110,150,130,113,140,100,136,127,98,96,123,98,112,151,96,108,128,138,126,154,137,100,135,93,109,160,141,105,121,140,142,142,170,154,161,111,180,145,159,125,120,155,144,178,129,180,181,143,159,139,152,157,165,130,150,138,170,140,126,150,138,125,150,186,181,163,179,156,134,165,126,177,120,114,125,184,157,179,175,168,125,96,143,103,173,142,169,171,150,112,186,152,149,152,140,163,143,116,142,147,148,179,173,178,105,130,111,168,126,178,140,145,163,128,164,169,109,108,168,118,151,156,133,162,175,71,163,124,147,166,143,157,162,138,117,153,161,170,162,162,144,133,114,103,139,116,88,151,152,163,99,169,158,160,169,132,178,96,165,160,172,144,192,168,132,182,163,125,195,95,160,114,173,172,179,158,167,122,149,172,111,170,162,165,182,154,155,130,161,154,159,152,152,174,131,146,125,115,174,106,122,147,163,163,194,150,158,122,173,162,105,147,157,112,160,125,156,156,175,161,122,158,151,162,151,171,141,173,145,178,160,154,131,187,159,166,165,131,202,172,172,154,147,170,126,127,174,132,182,132,97,136,162,190,146,140,185,161,146,145,160,120,156,172,150,182,143,160,142,144,158,148,155,142,113,188,153,123,157,162,137,132,158,171,172,132,160,171,168,162,173,153,148,108,115,169,143,156,162,155,152,152,164,131,143,179,130,174,161,140,146,144,163,169,150,166,144,144,136,182,90,123,132,141,115,174,173],\"yaxis\":\"y\",\"type\":\"scatter\"}],                        {\"template\":{\"data\":{\"histogram2dcontour\":[{\"type\":\"histogram2dcontour\",\"colorbar\":{\"outlinewidth\":0,\"ticks\":\"\"},\"colorscale\":[[0.0,\"#0d0887\"],[0.1111111111111111,\"#46039f\"],[0.2222222222222222,\"#7201a8\"],[0.3333333333333333,\"#9c179e\"],[0.4444444444444444,\"#bd3786\"],[0.5555555555555556,\"#d8576b\"],[0.6666666666666666,\"#ed7953\"],[0.7777777777777778,\"#fb9f3a\"],[0.8888888888888888,\"#fdca26\"],[1.0,\"#f0f921\"]]}],\"choropleth\":[{\"type\":\"choropleth\",\"colorbar\":{\"outlinewidth\":0,\"ticks\":\"\"}}],\"histogram2d\":[{\"type\":\"histogram2d\",\"colorbar\":{\"outlinewidth\":0,\"ticks\":\"\"},\"colorscale\":[[0.0,\"#0d0887\"],[0.1111111111111111,\"#46039f\"],[0.2222222222222222,\"#7201a8\"],[0.3333333333333333,\"#9c179e\"],[0.4444444444444444,\"#bd3786\"],[0.5555555555555556,\"#d8576b\"],[0.6666666666666666,\"#ed7953\"],[0.7777777777777778,\"#fb9f3a\"],[0.8888888888888888,\"#fdca26\"],[1.0,\"#f0f921\"]]}],\"heatmap\":[{\"type\":\"heatmap\",\"colorbar\":{\"outlinewidth\":0,\"ticks\":\"\"},\"colorscale\":[[0.0,\"#0d0887\"],[0.1111111111111111,\"#46039f\"],[0.2222222222222222,\"#7201a8\"],[0.3333333333333333,\"#9c179e\"],[0.4444444444444444,\"#bd3786\"],[0.5555555555555556,\"#d8576b\"],[0.6666666666666666,\"#ed7953\"],[0.7777777777777778,\"#fb9f3a\"],[0.8888888888888888,\"#fdca26\"],[1.0,\"#f0f921\"]]}],\"heatmapgl\":[{\"type\":\"heatmapgl\",\"colorbar\":{\"outlinewidth\":0,\"ticks\":\"\"},\"colorscale\":[[0.0,\"#0d0887\"],[0.1111111111111111,\"#46039f\"],[0.2222222222222222,\"#7201a8\"],[0.3333333333333333,\"#9c179e\"],[0.4444444444444444,\"#bd3786\"],[0.5555555555555556,\"#d8576b\"],[0.6666666666666666,\"#ed7953\"],[0.7777777777777778,\"#fb9f3a\"],[0.8888888888888888,\"#fdca26\"],[1.0,\"#f0f921\"]]}],\"contourcarpet\":[{\"type\":\"contourcarpet\",\"colorbar\":{\"outlinewidth\":0,\"ticks\":\"\"}}],\"contour\":[{\"type\":\"contour\",\"colorbar\":{\"outlinewidth\":0,\"ticks\":\"\"},\"colorscale\":[[0.0,\"#0d0887\"],[0.1111111111111111,\"#46039f\"],[0.2222222222222222,\"#7201a8\"],[0.3333333333333333,\"#9c179e\"],[0.4444444444444444,\"#bd3786\"],[0.5555555555555556,\"#d8576b\"],[0.6666666666666666,\"#ed7953\"],[0.7777777777777778,\"#fb9f3a\"],[0.8888888888888888,\"#fdca26\"],[1.0,\"#f0f921\"]]}],\"surface\":[{\"type\":\"surface\",\"colorbar\":{\"outlinewidth\":0,\"ticks\":\"\"},\"colorscale\":[[0.0,\"#0d0887\"],[0.1111111111111111,\"#46039f\"],[0.2222222222222222,\"#7201a8\"],[0.3333333333333333,\"#9c179e\"],[0.4444444444444444,\"#bd3786\"],[0.5555555555555556,\"#d8576b\"],[0.6666666666666666,\"#ed7953\"],[0.7777777777777778,\"#fb9f3a\"],[0.8888888888888888,\"#fdca26\"],[1.0,\"#f0f921\"]]}],\"mesh3d\":[{\"type\":\"mesh3d\",\"colorbar\":{\"outlinewidth\":0,\"ticks\":\"\"}}],\"scatter\":[{\"fillpattern\":{\"fillmode\":\"overlay\",\"size\":10,\"solidity\":0.2},\"type\":\"scatter\"}],\"parcoords\":[{\"type\":\"parcoords\",\"line\":{\"colorbar\":{\"outlinewidth\":0,\"ticks\":\"\"}}}],\"scatterpolargl\":[{\"type\":\"scatterpolargl\",\"marker\":{\"colorbar\":{\"outlinewidth\":0,\"ticks\":\"\"}}}],\"bar\":[{\"error_x\":{\"color\":\"#2a3f5f\"},\"error_y\":{\"color\":\"#2a3f5f\"},\"marker\":{\"line\":{\"color\":\"#E5ECF6\",\"width\":0.5},\"pattern\":{\"fillmode\":\"overlay\",\"size\":10,\"solidity\":0.2}},\"type\":\"bar\"}],\"scattergeo\":[{\"type\":\"scattergeo\",\"marker\":{\"colorbar\":{\"outlinewidth\":0,\"ticks\":\"\"}}}],\"scatterpolar\":[{\"type\":\"scatterpolar\",\"marker\":{\"colorbar\":{\"outlinewidth\":0,\"ticks\":\"\"}}}],\"histogram\":[{\"marker\":{\"pattern\":{\"fillmode\":\"overlay\",\"size\":10,\"solidity\":0.2}},\"type\":\"histogram\"}],\"scattergl\":[{\"type\":\"scattergl\",\"marker\":{\"colorbar\":{\"outlinewidth\":0,\"ticks\":\"\"}}}],\"scatter3d\":[{\"type\":\"scatter3d\",\"line\":{\"colorbar\":{\"outlinewidth\":0,\"ticks\":\"\"}},\"marker\":{\"colorbar\":{\"outlinewidth\":0,\"ticks\":\"\"}}}],\"scattermapbox\":[{\"type\":\"scattermapbox\",\"marker\":{\"colorbar\":{\"outlinewidth\":0,\"ticks\":\"\"}}}],\"scatterternary\":[{\"type\":\"scatterternary\",\"marker\":{\"colorbar\":{\"outlinewidth\":0,\"ticks\":\"\"}}}],\"scattercarpet\":[{\"type\":\"scattercarpet\",\"marker\":{\"colorbar\":{\"outlinewidth\":0,\"ticks\":\"\"}}}],\"carpet\":[{\"aaxis\":{\"endlinecolor\":\"#2a3f5f\",\"gridcolor\":\"white\",\"linecolor\":\"white\",\"minorgridcolor\":\"white\",\"startlinecolor\":\"#2a3f5f\"},\"baxis\":{\"endlinecolor\":\"#2a3f5f\",\"gridcolor\":\"white\",\"linecolor\":\"white\",\"minorgridcolor\":\"white\",\"startlinecolor\":\"#2a3f5f\"},\"type\":\"carpet\"}],\"table\":[{\"cells\":{\"fill\":{\"color\":\"#EBF0F8\"},\"line\":{\"color\":\"white\"}},\"header\":{\"fill\":{\"color\":\"#C8D4E3\"},\"line\":{\"color\":\"white\"}},\"type\":\"table\"}],\"barpolar\":[{\"marker\":{\"line\":{\"color\":\"#E5ECF6\",\"width\":0.5},\"pattern\":{\"fillmode\":\"overlay\",\"size\":10,\"solidity\":0.2}},\"type\":\"barpolar\"}],\"pie\":[{\"automargin\":true,\"type\":\"pie\"}]},\"layout\":{\"autotypenumbers\":\"strict\",\"colorway\":[\"#636efa\",\"#EF553B\",\"#00cc96\",\"#ab63fa\",\"#FFA15A\",\"#19d3f3\",\"#FF6692\",\"#B6E880\",\"#FF97FF\",\"#FECB52\"],\"font\":{\"color\":\"#2a3f5f\"},\"hovermode\":\"closest\",\"hoverlabel\":{\"align\":\"left\"},\"paper_bgcolor\":\"white\",\"plot_bgcolor\":\"#E5ECF6\",\"polar\":{\"bgcolor\":\"#E5ECF6\",\"angularaxis\":{\"gridcolor\":\"white\",\"linecolor\":\"white\",\"ticks\":\"\"},\"radialaxis\":{\"gridcolor\":\"white\",\"linecolor\":\"white\",\"ticks\":\"\"}},\"ternary\":{\"bgcolor\":\"#E5ECF6\",\"aaxis\":{\"gridcolor\":\"white\",\"linecolor\":\"white\",\"ticks\":\"\"},\"baxis\":{\"gridcolor\":\"white\",\"linecolor\":\"white\",\"ticks\":\"\"},\"caxis\":{\"gridcolor\":\"white\",\"linecolor\":\"white\",\"ticks\":\"\"}},\"coloraxis\":{\"colorbar\":{\"outlinewidth\":0,\"ticks\":\"\"}},\"colorscale\":{\"sequential\":[[0.0,\"#0d0887\"],[0.1111111111111111,\"#46039f\"],[0.2222222222222222,\"#7201a8\"],[0.3333333333333333,\"#9c179e\"],[0.4444444444444444,\"#bd3786\"],[0.5555555555555556,\"#d8576b\"],[0.6666666666666666,\"#ed7953\"],[0.7777777777777778,\"#fb9f3a\"],[0.8888888888888888,\"#fdca26\"],[1.0,\"#f0f921\"]],\"sequentialminus\":[[0.0,\"#0d0887\"],[0.1111111111111111,\"#46039f\"],[0.2222222222222222,\"#7201a8\"],[0.3333333333333333,\"#9c179e\"],[0.4444444444444444,\"#bd3786\"],[0.5555555555555556,\"#d8576b\"],[0.6666666666666666,\"#ed7953\"],[0.7777777777777778,\"#fb9f3a\"],[0.8888888888888888,\"#fdca26\"],[1.0,\"#f0f921\"]],\"diverging\":[[0,\"#8e0152\"],[0.1,\"#c51b7d\"],[0.2,\"#de77ae\"],[0.3,\"#f1b6da\"],[0.4,\"#fde0ef\"],[0.5,\"#f7f7f7\"],[0.6,\"#e6f5d0\"],[0.7,\"#b8e186\"],[0.8,\"#7fbc41\"],[0.9,\"#4d9221\"],[1,\"#276419\"]]},\"xaxis\":{\"gridcolor\":\"white\",\"linecolor\":\"white\",\"ticks\":\"\",\"title\":{\"standoff\":15},\"zerolinecolor\":\"white\",\"automargin\":true,\"zerolinewidth\":2},\"yaxis\":{\"gridcolor\":\"white\",\"linecolor\":\"white\",\"ticks\":\"\",\"title\":{\"standoff\":15},\"zerolinecolor\":\"white\",\"automargin\":true,\"zerolinewidth\":2},\"scene\":{\"xaxis\":{\"backgroundcolor\":\"#E5ECF6\",\"gridcolor\":\"white\",\"linecolor\":\"white\",\"showbackground\":true,\"ticks\":\"\",\"zerolinecolor\":\"white\",\"gridwidth\":2},\"yaxis\":{\"backgroundcolor\":\"#E5ECF6\",\"gridcolor\":\"white\",\"linecolor\":\"white\",\"showbackground\":true,\"ticks\":\"\",\"zerolinecolor\":\"white\",\"gridwidth\":2},\"zaxis\":{\"backgroundcolor\":\"#E5ECF6\",\"gridcolor\":\"white\",\"linecolor\":\"white\",\"showbackground\":true,\"ticks\":\"\",\"zerolinecolor\":\"white\",\"gridwidth\":2}},\"shapedefaults\":{\"line\":{\"color\":\"#2a3f5f\"}},\"annotationdefaults\":{\"arrowcolor\":\"#2a3f5f\",\"arrowhead\":0,\"arrowwidth\":1},\"geo\":{\"bgcolor\":\"white\",\"landcolor\":\"#E5ECF6\",\"subunitcolor\":\"white\",\"showland\":true,\"showlakes\":true,\"lakecolor\":\"white\"},\"title\":{\"x\":0.05},\"mapbox\":{\"style\":\"light\"}}},\"xaxis\":{\"anchor\":\"y\",\"domain\":[0.0,1.0],\"title\":{\"text\":\"Cholesterol\"}},\"yaxis\":{\"anchor\":\"x\",\"domain\":[0.0,1.0],\"title\":{\"text\":\"MaxHR\"}},\"coloraxis\":{\"colorbar\":{\"title\":{\"text\":\"Heart Disease(0=No,1=Yes)\"}},\"colorscale\":[[0.0,\"#440154\"],[0.1111111111111111,\"#482878\"],[0.2222222222222222,\"#3e4989\"],[0.3333333333333333,\"#31688e\"],[0.4444444444444444,\"#26828e\"],[0.5555555555555556,\"#1f9e89\"],[0.6666666666666666,\"#35b779\"],[0.7777777777777778,\"#6ece58\"],[0.8888888888888888,\"#b5de2b\"],[1.0,\"#fde725\"]]},\"legend\":{\"tracegroupgap\":0},\"title\":{\"text\":\"Cholesterol vs. MaxHR by Heart Disease\"},\"width\":800,\"height\":500},                        {\"responsive\": true}                    ).then(function(){\n",
       "                            \n",
       "var gd = document.getElementById('9ad21c1f-857a-44a7-96f0-b1cbc30a90fa');\n",
       "var x = new MutationObserver(function (mutations, observer) {{\n",
       "        var display = window.getComputedStyle(gd).display;\n",
       "        if (!display || display === 'none') {{\n",
       "            console.log([gd, 'removed!']);\n",
       "            Plotly.purge(gd);\n",
       "            observer.disconnect();\n",
       "        }}\n",
       "}});\n",
       "\n",
       "// Listen for the removal of the full notebook cells\n",
       "var notebookContainer = gd.closest('#notebook-container');\n",
       "if (notebookContainer) {{\n",
       "    x.observe(notebookContainer, {childList: true});\n",
       "}}\n",
       "\n",
       "// Listen for the clearing of the current output cell\n",
       "var outputEl = gd.closest('.output');\n",
       "if (outputEl) {{\n",
       "    x.observe(outputEl, {childList: true});\n",
       "}}\n",
       "\n",
       "                        })                };                });            </script>        </div>"
      ]
     },
     "metadata": {},
     "output_type": "display_data"
    }
   ],
   "source": [
    "#Scatter PLot of Cholesterol vs MAXHR\n",
    "fig = px.scatter(df, x='Cholesterol',y='MaxHR',color='HeartDisease',hover_data=['Age','Sex'],title='Cholesterol vs. MaxHR by Heart Disease',labels={'HeartDisease':'Heart Disease(0=No,1=Yes)'},color_continuous_scale='Viridis')\n",
    "fig.update_layout(width=800, height = 500)\n",
    "fig.show()"
   ]
  },
  {
   "cell_type": "markdown",
   "id": "67eeddf7-5a1a-47ff-bfcf-9e5889ed724e",
   "metadata": {},
   "source": [
    "### Box Plot"
   ]
  },
  {
   "cell_type": "code",
   "execution_count": 134,
   "id": "393f70e4-43cf-4d02-8460-65458658b656",
   "metadata": {},
   "outputs": [
    {
     "data": {
      "application/vnd.plotly.v1+json": {
       "config": {
        "plotlyServerURL": "https://plot.ly"
       },
       "data": [
        {
         "alignmentgroup": "True",
         "hovertemplate": "Exercise Angina(N=No,Y=Yes)=N<br>ChestPainType=%{x}<br>RestingBP=%{y}<extra></extra>",
         "legendgroup": "N",
         "marker": {
          "color": "#636efa"
         },
         "name": "N",
         "notched": false,
         "offsetgroup": "N",
         "orientation": "v",
         "showlegend": true,
         "type": "box",
         "x": [
          "ATA",
          "NAP",
          "ATA",
          "NAP",
          "NAP",
          "ATA",
          "ATA",
          "ATA",
          "NAP",
          "ATA",
          "NAP",
          "ATA",
          "ASY",
          "ATA",
          "ASY",
          "ATA",
          "TA",
          "ATA",
          "ATA",
          "NAP",
          "NAP",
          "ATA",
          "ATA",
          "ATA",
          "NAP",
          "NAP",
          "ASY",
          "ASY",
          "ATA",
          "ATA",
          "ATA",
          "ATA",
          "ATA",
          "ATA",
          "NAP",
          "ASY",
          "ATA",
          "NAP",
          "ASY",
          "ATA",
          "ATA",
          "ATA",
          "NAP",
          "ASY",
          "ATA",
          "NAP",
          "ASY",
          "ATA",
          "ATA",
          "ASY",
          "ATA",
          "ASY",
          "ATA",
          "ASY",
          "ASY",
          "NAP",
          "ASY",
          "ASY",
          "ASY",
          "NAP",
          "ATA",
          "ASY",
          "ATA",
          "TA",
          "ATA",
          "ASY",
          "ATA",
          "NAP",
          "ATA",
          "NAP",
          "ASY",
          "ATA",
          "ASY",
          "ASY",
          "ASY",
          "ATA",
          "ASY",
          "ATA",
          "ASY",
          "ATA",
          "ATA",
          "ATA",
          "NAP",
          "ASY",
          "TA",
          "TA",
          "NAP",
          "NAP",
          "ASY",
          "ATA",
          "ATA",
          "ATA",
          "ASY",
          "ATA",
          "NAP",
          "NAP",
          "ATA",
          "ATA",
          "ASY",
          "ATA",
          "ASY",
          "ATA",
          "ATA",
          "ATA",
          "ATA",
          "ATA",
          "ATA",
          "ASY",
          "ATA",
          "ASY",
          "ATA",
          "ATA",
          "ATA",
          "ATA",
          "TA",
          "ATA",
          "ASY",
          "NAP",
          "ATA",
          "NAP",
          "ATA",
          "NAP",
          "ASY",
          "ATA",
          "NAP",
          "ASY",
          "ATA",
          "ATA",
          "NAP",
          "ATA",
          "ASY",
          "ATA",
          "ATA",
          "NAP",
          "ATA",
          "TA",
          "ASY",
          "ATA",
          "TA",
          "TA",
          "NAP",
          "NAP",
          "ATA",
          "ATA",
          "ATA",
          "ATA",
          "ATA",
          "ASY",
          "ASY",
          "NAP",
          "TA",
          "ASY",
          "NAP",
          "ATA",
          "ATA",
          "ASY",
          "NAP",
          "NAP",
          "ATA",
          "ASY",
          "NAP",
          "ATA",
          "ASY",
          "ASY",
          "NAP",
          "ATA",
          "ASY",
          "ATA",
          "TA",
          "ATA",
          "ATA",
          "TA",
          "ASY",
          "ASY",
          "ATA",
          "NAP",
          "ATA",
          "NAP",
          "NAP",
          "ATA",
          "ATA",
          "ASY",
          "ATA",
          "ATA",
          "NAP",
          "ASY",
          "ATA",
          "NAP",
          "ATA",
          "NAP",
          "NAP",
          "ATA",
          "NAP",
          "ASY",
          "ATA",
          "ASY",
          "NAP",
          "ASY",
          "ATA",
          "ATA",
          "ATA",
          "NAP",
          "ATA",
          "ASY",
          "TA",
          "ASY",
          "ASY",
          "ASY",
          "ATA",
          "ASY",
          "ASY",
          "ASY",
          "ATA",
          "ASY",
          "ASY",
          "ASY",
          "ASY",
          "ASY",
          "ASY",
          "ATA",
          "NAP",
          "ASY",
          "ASY",
          "NAP",
          "ASY",
          "ASY",
          "ASY",
          "NAP",
          "NAP",
          "ASY",
          "NAP",
          "ASY",
          "ASY",
          "TA",
          "NAP",
          "ASY",
          "ASY",
          "ASY",
          "ASY",
          "ASY",
          "ASY",
          "ASY",
          "ASY",
          "ASY",
          "ASY",
          "ASY",
          "ASY",
          "TA",
          "ATA",
          "NAP",
          "NAP",
          "ASY",
          "NAP",
          "NAP",
          "ASY",
          "ASY",
          "ASY",
          "ASY",
          "ASY",
          "ASY",
          "ASY",
          "ASY",
          "TA",
          "NAP",
          "ASY",
          "ASY",
          "ASY",
          "ASY",
          "ASY",
          "ASY",
          "NAP",
          "ASY",
          "ASY",
          "NAP",
          "ATA",
          "ATA",
          "ASY",
          "ASY",
          "ASY",
          "ASY",
          "NAP",
          "NAP",
          "ASY",
          "NAP",
          "ASY",
          "ASY",
          "ASY",
          "ASY",
          "NAP",
          "ATA",
          "ATA",
          "ASY",
          "ATA",
          "ASY",
          "NAP",
          "TA",
          "ATA",
          "TA",
          "ASY",
          "TA",
          "ASY",
          "ASY",
          "ASY",
          "ASY",
          "ASY",
          "NAP",
          "ASY",
          "NAP",
          "NAP",
          "ASY",
          "ASY",
          "NAP",
          "ATA",
          "ASY",
          "ASY",
          "NAP",
          "ASY",
          "NAP",
          "TA",
          "ASY",
          "TA",
          "ASY",
          "NAP",
          "NAP",
          "NAP",
          "ATA",
          "ASY",
          "NAP",
          "ATA",
          "NAP",
          "NAP",
          "ATA",
          "ASY",
          "ASY",
          "ASY",
          "NAP",
          "ASY",
          "ASY",
          "ASY",
          "ASY",
          "TA",
          "ASY",
          "ASY",
          "ASY",
          "NAP",
          "ATA",
          "ASY",
          "ASY",
          "ASY",
          "ASY",
          "NAP",
          "TA",
          "ASY",
          "ASY",
          "ATA",
          "ASY",
          "ASY",
          "NAP",
          "NAP",
          "NAP",
          "NAP",
          "NAP",
          "ASY",
          "NAP",
          "TA",
          "NAP",
          "ASY",
          "ASY",
          "ASY",
          "ATA",
          "NAP",
          "NAP",
          "NAP",
          "ASY",
          "ASY",
          "ATA",
          "NAP",
          "ATA",
          "ATA",
          "ATA",
          "NAP",
          "ATA",
          "NAP",
          "NAP",
          "TA",
          "TA",
          "ATA",
          "NAP",
          "NAP",
          "ATA",
          "NAP",
          "ASY",
          "NAP",
          "NAP",
          "ATA",
          "ASY",
          "NAP",
          "TA",
          "ATA",
          "TA",
          "ATA",
          "ASY",
          "ASY",
          "ASY",
          "ASY",
          "ASY",
          "NAP",
          "ATA",
          "NAP",
          "ASY",
          "ASY",
          "ASY",
          "ASY",
          "ASY",
          "ASY",
          "ATA",
          "ATA",
          "ASY",
          "NAP",
          "ATA",
          "ATA",
          "ASY",
          "TA",
          "NAP",
          "NAP",
          "NAP",
          "NAP",
          "NAP",
          "ATA",
          "ASY",
          "NAP",
          "NAP",
          "ATA",
          "ASY",
          "ASY",
          "NAP",
          "ATA",
          "ASY",
          "NAP",
          "NAP",
          "NAP",
          "NAP",
          "ASY",
          "NAP",
          "ATA",
          "ATA",
          "TA",
          "ATA",
          "ASY",
          "ASY",
          "NAP",
          "TA",
          "TA",
          "NAP",
          "NAP",
          "TA",
          "ASY",
          "NAP",
          "ASY",
          "NAP",
          "NAP",
          "ASY",
          "ASY",
          "NAP",
          "NAP",
          "ASY",
          "ASY",
          "ASY",
          "ATA",
          "NAP",
          "ATA",
          "ASY",
          "NAP",
          "TA",
          "NAP",
          "ASY",
          "TA",
          "NAP",
          "NAP",
          "TA",
          "NAP",
          "NAP",
          "ATA",
          "ATA",
          "NAP",
          "NAP",
          "ATA",
          "ASY",
          "NAP",
          "ASY",
          "ATA",
          "NAP",
          "TA",
          "TA",
          "ASY",
          "ASY",
          "NAP",
          "ASY",
          "ASY",
          "NAP",
          "ATA",
          "NAP",
          "ASY",
          "ASY",
          "NAP",
          "ASY",
          "NAP",
          "NAP",
          "ASY",
          "ATA",
          "ASY",
          "NAP",
          "NAP",
          "ATA",
          "NAP",
          "ASY",
          "NAP",
          "ATA",
          "ATA",
          "ATA",
          "NAP",
          "ATA",
          "ATA",
          "ASY",
          "NAP",
          "NAP",
          "TA",
          "TA",
          "NAP",
          "NAP",
          "ATA",
          "ASY",
          "NAP",
          "ATA",
          "ASY",
          "ASY",
          "ATA",
          "ATA",
          "ATA",
          "NAP",
          "ATA",
          "ATA",
          "ASY",
          "TA",
          "ASY",
          "ATA",
          "NAP"
         ],
         "x0": " ",
         "xaxis": "x",
         "y": [
          140,
          160,
          130,
          150,
          120,
          130,
          110,
          120,
          130,
          120,
          115,
          120,
          110,
          120,
          100,
          120,
          100,
          120,
          124,
          130,
          130,
          120,
          113,
          125,
          145,
          130,
          125,
          130,
          150,
          125,
          110,
          120,
          150,
          150,
          140,
          120,
          140,
          112,
          110,
          140,
          130,
          160,
          130,
          150,
          100,
          150,
          140,
          110,
          120,
          132,
          110,
          150,
          130,
          120,
          120,
          150,
          118,
          140,
          130,
          110,
          120,
          150,
          160,
          120,
          110,
          130,
          120,
          110,
          142,
          160,
          120,
          125,
          130,
          150,
          118,
          140,
          120,
          150,
          140,
          190,
          130,
          140,
          130,
          120,
          120,
          140,
          135,
          125,
          110,
          130,
          120,
          130,
          108,
          120,
          145,
          115,
          120,
          120,
          140,
          120,
          110,
          120,
          120,
          120,
          130,
          100,
          130,
          120,
          120,
          140,
          160,
          160,
          120,
          140,
          140,
          140,
          135,
          140,
          120,
          140,
          140,
          140,
          140,
          140,
          130,
          130,
          130,
          160,
          160,
          130,
          180,
          170,
          130,
          135,
          125,
          160,
          120,
          150,
          130,
          110,
          120,
          160,
          100,
          130,
          120,
          110,
          130,
          125,
          106,
          130,
          170,
          110,
          120,
          140,
          140,
          130,
          120,
          120,
          120,
          145,
          120,
          120,
          130,
          130,
          130,
          120,
          112,
          140,
          140,
          145,
          120,
          120,
          135,
          120,
          140,
          120,
          130,
          150,
          150,
          122,
          120,
          130,
          160,
          98,
          130,
          120,
          105,
          120,
          180,
          180,
          135,
          130,
          120,
          150,
          110,
          140,
          110,
          140,
          120,
          133,
          120,
          110,
          140,
          130,
          95,
          110,
          110,
          160,
          140,
          125,
          95,
          115,
          130,
          115,
          95,
          155,
          125,
          125,
          115,
          145,
          105,
          130,
          145,
          125,
          100,
          105,
          100,
          110,
          115,
          115,
          100,
          95,
          130,
          120,
          160,
          150,
          140,
          95,
          100,
          110,
          130,
          120,
          135,
          120,
          115,
          120,
          120,
          145,
          120,
          105,
          155,
          120,
          120,
          160,
          160,
          110,
          120,
          140,
          160,
          140,
          130,
          135,
          140,
          200,
          160,
          130,
          145,
          110,
          150,
          180,
          125,
          155,
          130,
          120,
          160,
          126,
          120,
          126,
          116,
          120,
          138,
          128,
          130,
          0,
          125,
          134,
          104,
          128,
          134,
          132,
          124,
          126,
          131,
          132,
          140,
          142,
          110,
          140,
          170,
          130,
          132,
          132,
          120,
          110,
          136,
          123,
          122,
          130,
          150,
          130,
          150,
          130,
          139,
          116,
          110,
          104,
          132,
          132,
          142,
          112,
          139,
          172,
          120,
          155,
          133,
          132,
          160,
          142,
          180,
          118,
          140,
          136,
          100,
          130,
          122,
          133,
          130,
          114,
          134,
          127,
          135,
          122,
          140,
          130,
          115,
          124,
          120,
          140,
          150,
          135,
          140,
          134,
          128,
          112,
          130,
          115,
          112,
          130,
          120,
          112,
          110,
          128,
          160,
          120,
          160,
          130,
          122,
          152,
          124,
          101,
          126,
          140,
          118,
          110,
          150,
          128,
          140,
          140,
          130,
          105,
          120,
          120,
          150,
          120,
          150,
          145,
          136,
          118,
          108,
          156,
          140,
          106,
          94,
          120,
          120,
          146,
          130,
          148,
          128,
          178,
          126,
          150,
          130,
          125,
          120,
          100,
          140,
          120,
          108,
          120,
          130,
          165,
          130,
          124,
          150,
          112,
          110,
          158,
          135,
          120,
          134,
          120,
          150,
          120,
          160,
          125,
          160,
          136,
          134,
          140,
          150,
          152,
          118,
          145,
          138,
          140,
          192,
          112,
          132,
          112,
          120,
          108,
          130,
          130,
          105,
          128,
          120,
          130,
          110,
          110,
          130,
          138,
          160,
          140,
          120,
          118,
          138,
          150,
          125,
          129,
          120,
          110,
          102,
          130,
          130,
          108,
          140,
          140,
          108,
          124,
          135,
          100,
          110,
          140,
          118,
          125,
          152,
          102,
          130,
          170,
          125,
          122,
          130,
          130,
          135,
          120,
          120,
          135,
          150,
          138,
          135,
          130,
          150,
          118,
          118,
          115,
          130,
          160,
          138,
          138,
          120,
          140,
          130,
          140,
          140,
          110,
          155,
          140,
          120,
          130,
          112,
          110,
          150,
          160,
          140,
          150,
          120,
          120,
          130,
          110,
          172,
          120,
          140,
          140,
          128,
          138,
          134,
          170,
          146,
          138,
          154,
          130,
          130,
          122,
          148,
          114,
          125,
          130,
          120,
          152,
          132,
          120,
          164,
          110,
          144,
          130,
          138
         ],
         "y0": " ",
         "yaxis": "y"
        },
        {
         "alignmentgroup": "True",
         "hovertemplate": "Exercise Angina(N=No,Y=Yes)=Y<br>ChestPainType=%{x}<br>RestingBP=%{y}<extra></extra>",
         "legendgroup": "Y",
         "marker": {
          "color": "#EF553B"
         },
         "name": "Y",
         "notched": false,
         "offsetgroup": "Y",
         "orientation": "v",
         "showlegend": true,
         "type": "box",
         "x": [
          "ASY",
          "ASY",
          "ATA",
          "ASY",
          "ATA",
          "ASY",
          "ASY",
          "ASY",
          "NAP",
          "ASY",
          "NAP",
          "ASY",
          "ASY",
          "ASY",
          "ASY",
          "ASY",
          "ASY",
          "ASY",
          "ATA",
          "ASY",
          "ATA",
          "ASY",
          "ASY",
          "ASY",
          "ATA",
          "ASY",
          "ASY",
          "ASY",
          "ASY",
          "ASY",
          "ASY",
          "ASY",
          "ASY",
          "ASY",
          "ATA",
          "NAP",
          "ASY",
          "ASY",
          "ASY",
          "ASY",
          "ASY",
          "ASY",
          "ASY",
          "ASY",
          "ASY",
          "ASY",
          "ASY",
          "ASY",
          "ASY",
          "ASY",
          "ASY",
          "ASY",
          "ASY",
          "ASY",
          "ASY",
          "ASY",
          "ASY",
          "ASY",
          "ASY",
          "ASY",
          "ASY",
          "ASY",
          "NAP",
          "NAP",
          "ASY",
          "ASY",
          "ASY",
          "ATA",
          "ASY",
          "ASY",
          "ASY",
          "ASY",
          "ATA",
          "ASY",
          "NAP",
          "ASY",
          "ASY",
          "ASY",
          "ASY",
          "ASY",
          "ATA",
          "ASY",
          "NAP",
          "ASY",
          "ASY",
          "ASY",
          "ASY",
          "ASY",
          "NAP",
          "ASY",
          "ASY",
          "ASY",
          "ASY",
          "ASY",
          "ASY",
          "ASY",
          "ASY",
          "ASY",
          "ASY",
          "ASY",
          "ASY",
          "ASY",
          "ASY",
          "ASY",
          "ASY",
          "ASY",
          "ASY",
          "ASY",
          "ASY",
          "NAP",
          "NAP",
          "ASY",
          "ASY",
          "ASY",
          "ASY",
          "ASY",
          "ASY",
          "ASY",
          "ASY",
          "ASY",
          "ASY",
          "ASY",
          "NAP",
          "ASY",
          "ASY",
          "ASY",
          "ASY",
          "ASY",
          "ASY",
          "ASY",
          "ASY",
          "ASY",
          "ASY",
          "ASY",
          "ASY",
          "ASY",
          "ASY",
          "NAP",
          "ASY",
          "ASY",
          "ASY",
          "NAP",
          "ASY",
          "ASY",
          "ASY",
          "ASY",
          "ASY",
          "NAP",
          "ASY",
          "NAP",
          "NAP",
          "ASY",
          "ASY",
          "NAP",
          "ASY",
          "ASY",
          "ASY",
          "ASY",
          "NAP",
          "ASY",
          "ASY",
          "ASY",
          "NAP",
          "ASY",
          "ASY",
          "ASY",
          "NAP",
          "ASY",
          "ASY",
          "ASY",
          "ASY",
          "ASY",
          "NAP",
          "ASY",
          "ASY",
          "ASY",
          "NAP",
          "NAP",
          "ASY",
          "ASY",
          "ASY",
          "NAP",
          "ASY",
          "ASY",
          "ASY",
          "NAP",
          "ATA",
          "ASY",
          "ASY",
          "ATA",
          "ASY",
          "ASY",
          "NAP",
          "NAP",
          "ASY",
          "ASY",
          "ASY",
          "ASY",
          "ASY",
          "ASY",
          "ASY",
          "ASY",
          "ASY",
          "NAP",
          "ASY",
          "NAP",
          "ASY",
          "TA",
          "ASY",
          "NAP",
          "ASY",
          "ASY",
          "ASY",
          "ASY",
          "ASY",
          "NAP",
          "ASY",
          "ASY",
          "ASY",
          "ASY",
          "ASY",
          "ASY",
          "NAP",
          "ASY",
          "ASY",
          "NAP",
          "ASY",
          "ASY",
          "ATA",
          "NAP",
          "TA",
          "NAP",
          "ASY",
          "NAP",
          "NAP",
          "ASY",
          "ASY",
          "ASY",
          "ASY",
          "ASY",
          "ASY",
          "ASY",
          "ASY",
          "ASY",
          "ASY",
          "ASY",
          "ASY",
          "ASY",
          "ASY",
          "ASY",
          "ASY",
          "ASY",
          "ASY",
          "ASY",
          "ASY",
          "ASY",
          "ASY",
          "ASY",
          "ASY",
          "ASY",
          "ASY",
          "ASY",
          "ASY",
          "ASY",
          "NAP",
          "NAP",
          "ASY",
          "NAP",
          "ASY",
          "ASY",
          "ASY",
          "ATA",
          "ASY",
          "ATA",
          "NAP",
          "ASY",
          "ASY",
          "ASY",
          "ASY",
          "TA",
          "TA",
          "ASY",
          "ATA",
          "ASY",
          "ASY",
          "ASY",
          "ASY",
          "ASY",
          "NAP",
          "ATA",
          "ASY",
          "ASY",
          "ASY",
          "ASY",
          "ASY",
          "ASY",
          "ASY",
          "ASY",
          "ASY",
          "ASY",
          "ASY",
          "ASY",
          "ASY",
          "ATA",
          "ASY",
          "ASY",
          "ASY",
          "NAP",
          "ASY",
          "ASY",
          "ASY",
          "ASY",
          "ASY",
          "ASY",
          "ASY",
          "ASY",
          "ASY",
          "ASY",
          "ASY",
          "NAP",
          "ASY",
          "ASY",
          "TA",
          "ASY",
          "ASY",
          "NAP",
          "ASY",
          "ASY",
          "TA",
          "ASY",
          "ASY",
          "ASY",
          "ASY",
          "ASY",
          "ASY",
          "ASY",
          "ASY",
          "NAP",
          "ASY",
          "ASY",
          "ASY",
          "ASY",
          "ASY",
          "ASY",
          "NAP",
          "NAP",
          "ASY",
          "NAP",
          "ASY",
          "ASY",
          "ASY",
          "ASY",
          "ASY",
          "ASY",
          "NAP",
          "ASY",
          "ASY",
          "NAP",
          "ASY",
          "ASY",
          "ASY",
          "ASY",
          "ASY",
          "ASY",
          "ASY",
          "ASY",
          "ASY",
          "ASY",
          "ASY",
          "ASY",
          "ASY"
         ],
         "x0": " ",
         "xaxis": "x",
         "y": [
          138,
          140,
          136,
          140,
          150,
          124,
          140,
          150,
          130,
          120,
          130,
          130,
          120,
          130,
          120,
          112,
          120,
          160,
          140,
          140,
          140,
          150,
          140,
          170,
          140,
          140,
          160,
          130,
          130,
          120,
          150,
          140,
          100,
          130,
          180,
          120,
          110,
          170,
          150,
          130,
          140,
          150,
          160,
          140,
          160,
          130,
          155,
          110,
          130,
          140,
          128,
          140,
          140,
          140,
          130,
          140,
          110,
          120,
          120,
          180,
          120,
          150,
          140,
          130,
          150,
          160,
          92,
          120,
          120,
          160,
          160,
          200,
          160,
          160,
          120,
          122,
          130,
          130,
          125,
          145,
          140,
          120,
          140,
          130,
          130,
          140,
          170,
          180,
          130,
          115,
          105,
          145,
          110,
          120,
          120,
          80,
          140,
          115,
          105,
          125,
          95,
          130,
          110,
          137,
          110,
          140,
          120,
          130,
          115,
          115,
          160,
          160,
          200,
          150,
          135,
          140,
          150,
          135,
          150,
          185,
          135,
          125,
          155,
          140,
          120,
          160,
          115,
          115,
          150,
          145,
          130,
          115,
          150,
          160,
          170,
          165,
          135,
          110,
          120,
          140,
          115,
          160,
          125,
          130,
          140,
          132,
          142,
          110,
          150,
          180,
          120,
          140,
          110,
          133,
          128,
          170,
          110,
          152,
          130,
          128,
          130,
          120,
          136,
          130,
          124,
          160,
          122,
          144,
          140,
          120,
          136,
          154,
          120,
          139,
          136,
          122,
          131,
          120,
          152,
          138,
          154,
          141,
          178,
          110,
          130,
          170,
          126,
          120,
          134,
          139,
          140,
          136,
          120,
          137,
          142,
          142,
          146,
          160,
          135,
          136,
          130,
          140,
          158,
          136,
          136,
          106,
          160,
          112,
          150,
          102,
          96,
          120,
          144,
          124,
          144,
          131,
          143,
          133,
          143,
          110,
          125,
          130,
          133,
          150,
          130,
          138,
          138,
          170,
          140,
          144,
          145,
          150,
          160,
          137,
          137,
          134,
          140,
          135,
          144,
          141,
          150,
          130,
          110,
          158,
          128,
          140,
          150,
          142,
          137,
          139,
          146,
          156,
          145,
          131,
          140,
          122,
          141,
          124,
          140,
          190,
          160,
          130,
          120,
          130,
          140,
          120,
          155,
          134,
          160,
          144,
          158,
          120,
          128,
          120,
          130,
          110,
          142,
          140,
          140,
          110,
          140,
          120,
          132,
          138,
          170,
          144,
          130,
          140,
          130,
          160,
          136,
          138,
          174,
          130,
          150,
          140,
          120,
          120,
          142,
          104,
          120,
          150,
          110,
          140,
          124,
          110,
          110,
          100,
          140,
          180,
          200,
          130,
          122,
          152,
          120,
          117,
          108,
          112,
          120,
          142,
          125,
          132,
          125,
          123,
          110,
          112,
          140,
          178,
          120,
          150,
          128,
          180,
          138,
          100,
          140,
          134,
          132,
          160,
          145,
          126,
          125,
          125,
          140,
          160,
          105,
          125,
          128,
          94,
          110,
          130,
          132,
          145,
          128,
          120,
          180,
          130,
          145,
          150,
          132,
          130,
          160,
          132,
          128,
          110,
          128,
          170,
          120,
          140,
          124,
          140,
          130
         ],
         "y0": " ",
         "yaxis": "y"
        }
       ],
       "layout": {
        "boxmode": "group",
        "height": 400,
        "legend": {
         "title": {
          "text": "Exercise Angina(N=No,Y=Yes)"
         },
         "tracegroupgap": 0
        },
        "template": {
         "data": {
          "bar": [
           {
            "error_x": {
             "color": "#2a3f5f"
            },
            "error_y": {
             "color": "#2a3f5f"
            },
            "marker": {
             "line": {
              "color": "#E5ECF6",
              "width": 0.5
             },
             "pattern": {
              "fillmode": "overlay",
              "size": 10,
              "solidity": 0.2
             }
            },
            "type": "bar"
           }
          ],
          "barpolar": [
           {
            "marker": {
             "line": {
              "color": "#E5ECF6",
              "width": 0.5
             },
             "pattern": {
              "fillmode": "overlay",
              "size": 10,
              "solidity": 0.2
             }
            },
            "type": "barpolar"
           }
          ],
          "carpet": [
           {
            "aaxis": {
             "endlinecolor": "#2a3f5f",
             "gridcolor": "white",
             "linecolor": "white",
             "minorgridcolor": "white",
             "startlinecolor": "#2a3f5f"
            },
            "baxis": {
             "endlinecolor": "#2a3f5f",
             "gridcolor": "white",
             "linecolor": "white",
             "minorgridcolor": "white",
             "startlinecolor": "#2a3f5f"
            },
            "type": "carpet"
           }
          ],
          "choropleth": [
           {
            "colorbar": {
             "outlinewidth": 0,
             "ticks": ""
            },
            "type": "choropleth"
           }
          ],
          "contour": [
           {
            "colorbar": {
             "outlinewidth": 0,
             "ticks": ""
            },
            "colorscale": [
             [
              0,
              "#0d0887"
             ],
             [
              0.1111111111111111,
              "#46039f"
             ],
             [
              0.2222222222222222,
              "#7201a8"
             ],
             [
              0.3333333333333333,
              "#9c179e"
             ],
             [
              0.4444444444444444,
              "#bd3786"
             ],
             [
              0.5555555555555556,
              "#d8576b"
             ],
             [
              0.6666666666666666,
              "#ed7953"
             ],
             [
              0.7777777777777778,
              "#fb9f3a"
             ],
             [
              0.8888888888888888,
              "#fdca26"
             ],
             [
              1,
              "#f0f921"
             ]
            ],
            "type": "contour"
           }
          ],
          "contourcarpet": [
           {
            "colorbar": {
             "outlinewidth": 0,
             "ticks": ""
            },
            "type": "contourcarpet"
           }
          ],
          "heatmap": [
           {
            "colorbar": {
             "outlinewidth": 0,
             "ticks": ""
            },
            "colorscale": [
             [
              0,
              "#0d0887"
             ],
             [
              0.1111111111111111,
              "#46039f"
             ],
             [
              0.2222222222222222,
              "#7201a8"
             ],
             [
              0.3333333333333333,
              "#9c179e"
             ],
             [
              0.4444444444444444,
              "#bd3786"
             ],
             [
              0.5555555555555556,
              "#d8576b"
             ],
             [
              0.6666666666666666,
              "#ed7953"
             ],
             [
              0.7777777777777778,
              "#fb9f3a"
             ],
             [
              0.8888888888888888,
              "#fdca26"
             ],
             [
              1,
              "#f0f921"
             ]
            ],
            "type": "heatmap"
           }
          ],
          "heatmapgl": [
           {
            "colorbar": {
             "outlinewidth": 0,
             "ticks": ""
            },
            "colorscale": [
             [
              0,
              "#0d0887"
             ],
             [
              0.1111111111111111,
              "#46039f"
             ],
             [
              0.2222222222222222,
              "#7201a8"
             ],
             [
              0.3333333333333333,
              "#9c179e"
             ],
             [
              0.4444444444444444,
              "#bd3786"
             ],
             [
              0.5555555555555556,
              "#d8576b"
             ],
             [
              0.6666666666666666,
              "#ed7953"
             ],
             [
              0.7777777777777778,
              "#fb9f3a"
             ],
             [
              0.8888888888888888,
              "#fdca26"
             ],
             [
              1,
              "#f0f921"
             ]
            ],
            "type": "heatmapgl"
           }
          ],
          "histogram": [
           {
            "marker": {
             "pattern": {
              "fillmode": "overlay",
              "size": 10,
              "solidity": 0.2
             }
            },
            "type": "histogram"
           }
          ],
          "histogram2d": [
           {
            "colorbar": {
             "outlinewidth": 0,
             "ticks": ""
            },
            "colorscale": [
             [
              0,
              "#0d0887"
             ],
             [
              0.1111111111111111,
              "#46039f"
             ],
             [
              0.2222222222222222,
              "#7201a8"
             ],
             [
              0.3333333333333333,
              "#9c179e"
             ],
             [
              0.4444444444444444,
              "#bd3786"
             ],
             [
              0.5555555555555556,
              "#d8576b"
             ],
             [
              0.6666666666666666,
              "#ed7953"
             ],
             [
              0.7777777777777778,
              "#fb9f3a"
             ],
             [
              0.8888888888888888,
              "#fdca26"
             ],
             [
              1,
              "#f0f921"
             ]
            ],
            "type": "histogram2d"
           }
          ],
          "histogram2dcontour": [
           {
            "colorbar": {
             "outlinewidth": 0,
             "ticks": ""
            },
            "colorscale": [
             [
              0,
              "#0d0887"
             ],
             [
              0.1111111111111111,
              "#46039f"
             ],
             [
              0.2222222222222222,
              "#7201a8"
             ],
             [
              0.3333333333333333,
              "#9c179e"
             ],
             [
              0.4444444444444444,
              "#bd3786"
             ],
             [
              0.5555555555555556,
              "#d8576b"
             ],
             [
              0.6666666666666666,
              "#ed7953"
             ],
             [
              0.7777777777777778,
              "#fb9f3a"
             ],
             [
              0.8888888888888888,
              "#fdca26"
             ],
             [
              1,
              "#f0f921"
             ]
            ],
            "type": "histogram2dcontour"
           }
          ],
          "mesh3d": [
           {
            "colorbar": {
             "outlinewidth": 0,
             "ticks": ""
            },
            "type": "mesh3d"
           }
          ],
          "parcoords": [
           {
            "line": {
             "colorbar": {
              "outlinewidth": 0,
              "ticks": ""
             }
            },
            "type": "parcoords"
           }
          ],
          "pie": [
           {
            "automargin": true,
            "type": "pie"
           }
          ],
          "scatter": [
           {
            "fillpattern": {
             "fillmode": "overlay",
             "size": 10,
             "solidity": 0.2
            },
            "type": "scatter"
           }
          ],
          "scatter3d": [
           {
            "line": {
             "colorbar": {
              "outlinewidth": 0,
              "ticks": ""
             }
            },
            "marker": {
             "colorbar": {
              "outlinewidth": 0,
              "ticks": ""
             }
            },
            "type": "scatter3d"
           }
          ],
          "scattercarpet": [
           {
            "marker": {
             "colorbar": {
              "outlinewidth": 0,
              "ticks": ""
             }
            },
            "type": "scattercarpet"
           }
          ],
          "scattergeo": [
           {
            "marker": {
             "colorbar": {
              "outlinewidth": 0,
              "ticks": ""
             }
            },
            "type": "scattergeo"
           }
          ],
          "scattergl": [
           {
            "marker": {
             "colorbar": {
              "outlinewidth": 0,
              "ticks": ""
             }
            },
            "type": "scattergl"
           }
          ],
          "scattermapbox": [
           {
            "marker": {
             "colorbar": {
              "outlinewidth": 0,
              "ticks": ""
             }
            },
            "type": "scattermapbox"
           }
          ],
          "scatterpolar": [
           {
            "marker": {
             "colorbar": {
              "outlinewidth": 0,
              "ticks": ""
             }
            },
            "type": "scatterpolar"
           }
          ],
          "scatterpolargl": [
           {
            "marker": {
             "colorbar": {
              "outlinewidth": 0,
              "ticks": ""
             }
            },
            "type": "scatterpolargl"
           }
          ],
          "scatterternary": [
           {
            "marker": {
             "colorbar": {
              "outlinewidth": 0,
              "ticks": ""
             }
            },
            "type": "scatterternary"
           }
          ],
          "surface": [
           {
            "colorbar": {
             "outlinewidth": 0,
             "ticks": ""
            },
            "colorscale": [
             [
              0,
              "#0d0887"
             ],
             [
              0.1111111111111111,
              "#46039f"
             ],
             [
              0.2222222222222222,
              "#7201a8"
             ],
             [
              0.3333333333333333,
              "#9c179e"
             ],
             [
              0.4444444444444444,
              "#bd3786"
             ],
             [
              0.5555555555555556,
              "#d8576b"
             ],
             [
              0.6666666666666666,
              "#ed7953"
             ],
             [
              0.7777777777777778,
              "#fb9f3a"
             ],
             [
              0.8888888888888888,
              "#fdca26"
             ],
             [
              1,
              "#f0f921"
             ]
            ],
            "type": "surface"
           }
          ],
          "table": [
           {
            "cells": {
             "fill": {
              "color": "#EBF0F8"
             },
             "line": {
              "color": "white"
             }
            },
            "header": {
             "fill": {
              "color": "#C8D4E3"
             },
             "line": {
              "color": "white"
             }
            },
            "type": "table"
           }
          ]
         },
         "layout": {
          "annotationdefaults": {
           "arrowcolor": "#2a3f5f",
           "arrowhead": 0,
           "arrowwidth": 1
          },
          "autotypenumbers": "strict",
          "coloraxis": {
           "colorbar": {
            "outlinewidth": 0,
            "ticks": ""
           }
          },
          "colorscale": {
           "diverging": [
            [
             0,
             "#8e0152"
            ],
            [
             0.1,
             "#c51b7d"
            ],
            [
             0.2,
             "#de77ae"
            ],
            [
             0.3,
             "#f1b6da"
            ],
            [
             0.4,
             "#fde0ef"
            ],
            [
             0.5,
             "#f7f7f7"
            ],
            [
             0.6,
             "#e6f5d0"
            ],
            [
             0.7,
             "#b8e186"
            ],
            [
             0.8,
             "#7fbc41"
            ],
            [
             0.9,
             "#4d9221"
            ],
            [
             1,
             "#276419"
            ]
           ],
           "sequential": [
            [
             0,
             "#0d0887"
            ],
            [
             0.1111111111111111,
             "#46039f"
            ],
            [
             0.2222222222222222,
             "#7201a8"
            ],
            [
             0.3333333333333333,
             "#9c179e"
            ],
            [
             0.4444444444444444,
             "#bd3786"
            ],
            [
             0.5555555555555556,
             "#d8576b"
            ],
            [
             0.6666666666666666,
             "#ed7953"
            ],
            [
             0.7777777777777778,
             "#fb9f3a"
            ],
            [
             0.8888888888888888,
             "#fdca26"
            ],
            [
             1,
             "#f0f921"
            ]
           ],
           "sequentialminus": [
            [
             0,
             "#0d0887"
            ],
            [
             0.1111111111111111,
             "#46039f"
            ],
            [
             0.2222222222222222,
             "#7201a8"
            ],
            [
             0.3333333333333333,
             "#9c179e"
            ],
            [
             0.4444444444444444,
             "#bd3786"
            ],
            [
             0.5555555555555556,
             "#d8576b"
            ],
            [
             0.6666666666666666,
             "#ed7953"
            ],
            [
             0.7777777777777778,
             "#fb9f3a"
            ],
            [
             0.8888888888888888,
             "#fdca26"
            ],
            [
             1,
             "#f0f921"
            ]
           ]
          },
          "colorway": [
           "#636efa",
           "#EF553B",
           "#00cc96",
           "#ab63fa",
           "#FFA15A",
           "#19d3f3",
           "#FF6692",
           "#B6E880",
           "#FF97FF",
           "#FECB52"
          ],
          "font": {
           "color": "#2a3f5f"
          },
          "geo": {
           "bgcolor": "white",
           "lakecolor": "white",
           "landcolor": "#E5ECF6",
           "showlakes": true,
           "showland": true,
           "subunitcolor": "white"
          },
          "hoverlabel": {
           "align": "left"
          },
          "hovermode": "closest",
          "mapbox": {
           "style": "light"
          },
          "paper_bgcolor": "white",
          "plot_bgcolor": "#E5ECF6",
          "polar": {
           "angularaxis": {
            "gridcolor": "white",
            "linecolor": "white",
            "ticks": ""
           },
           "bgcolor": "#E5ECF6",
           "radialaxis": {
            "gridcolor": "white",
            "linecolor": "white",
            "ticks": ""
           }
          },
          "scene": {
           "xaxis": {
            "backgroundcolor": "#E5ECF6",
            "gridcolor": "white",
            "gridwidth": 2,
            "linecolor": "white",
            "showbackground": true,
            "ticks": "",
            "zerolinecolor": "white"
           },
           "yaxis": {
            "backgroundcolor": "#E5ECF6",
            "gridcolor": "white",
            "gridwidth": 2,
            "linecolor": "white",
            "showbackground": true,
            "ticks": "",
            "zerolinecolor": "white"
           },
           "zaxis": {
            "backgroundcolor": "#E5ECF6",
            "gridcolor": "white",
            "gridwidth": 2,
            "linecolor": "white",
            "showbackground": true,
            "ticks": "",
            "zerolinecolor": "white"
           }
          },
          "shapedefaults": {
           "line": {
            "color": "#2a3f5f"
           }
          },
          "ternary": {
           "aaxis": {
            "gridcolor": "white",
            "linecolor": "white",
            "ticks": ""
           },
           "baxis": {
            "gridcolor": "white",
            "linecolor": "white",
            "ticks": ""
           },
           "bgcolor": "#E5ECF6",
           "caxis": {
            "gridcolor": "white",
            "linecolor": "white",
            "ticks": ""
           }
          },
          "title": {
           "x": 0.05
          },
          "xaxis": {
           "automargin": true,
           "gridcolor": "white",
           "linecolor": "white",
           "ticks": "",
           "title": {
            "standoff": 15
           },
           "zerolinecolor": "white",
           "zerolinewidth": 2
          },
          "yaxis": {
           "automargin": true,
           "gridcolor": "white",
           "linecolor": "white",
           "ticks": "",
           "title": {
            "standoff": 15
           },
           "zerolinecolor": "white",
           "zerolinewidth": 2
          }
         }
        },
        "title": {
         "text": "Resting Blood Pressure by Chest Pain Type"
        },
        "width": 700,
        "xaxis": {
         "anchor": "y",
         "autorange": true,
         "domain": [
          0,
          1
         ],
         "range": [
          -0.5319148936170213,
          3.5319148936170213
         ],
         "title": {
          "text": "ChestPainType"
         },
         "type": "category"
        },
        "yaxis": {
         "anchor": "x",
         "autorange": true,
         "domain": [
          0,
          1
         ],
         "range": [
          -11.111111111111112,
          211.11111111111111
         ],
         "title": {
          "text": "RestingBP"
         },
         "type": "linear"
        }
       }
      },
      "image/png": "[encoded data removed]",
      "text/html": [
       "<div>                            <div id=\"00ff5dac-1eb5-4ac4-a8bd-052b9212b388\" class=\"plotly-graph-div\" style=\"height:400px; width:700px;\"></div>            <script type=\"text/javascript\">                require([\"plotly\"], function(Plotly) {                    window.PLOTLYENV=window.PLOTLYENV || {};                                    if (document.getElementById(\"00ff5dac-1eb5-4ac4-a8bd-052b9212b388\")) {                    Plotly.newPlot(                        \"00ff5dac-1eb5-4ac4-a8bd-052b9212b388\",                        [{\"alignmentgroup\":\"True\",\"hovertemplate\":\"Exercise Angina(N=No,Y=Yes)=N\\u003cbr\\u003eChestPainType=%{x}\\u003cbr\\u003eRestingBP=%{y}\\u003cextra\\u003e\\u003c\\u002fextra\\u003e\",\"legendgroup\":\"N\",\"marker\":{\"color\":\"#636efa\"},\"name\":\"N\",\"notched\":false,\"offsetgroup\":\"N\",\"orientation\":\"v\",\"showlegend\":true,\"x\":[\"ATA\",\"NAP\",\"ATA\",\"NAP\",\"NAP\",\"ATA\",\"ATA\",\"ATA\",\"NAP\",\"ATA\",\"NAP\",\"ATA\",\"ASY\",\"ATA\",\"ASY\",\"ATA\",\"TA\",\"ATA\",\"ATA\",\"NAP\",\"NAP\",\"ATA\",\"ATA\",\"ATA\",\"NAP\",\"NAP\",\"ASY\",\"ASY\",\"ATA\",\"ATA\",\"ATA\",\"ATA\",\"ATA\",\"ATA\",\"NAP\",\"ASY\",\"ATA\",\"NAP\",\"ASY\",\"ATA\",\"ATA\",\"ATA\",\"NAP\",\"ASY\",\"ATA\",\"NAP\",\"ASY\",\"ATA\",\"ATA\",\"ASY\",\"ATA\",\"ASY\",\"ATA\",\"ASY\",\"ASY\",\"NAP\",\"ASY\",\"ASY\",\"ASY\",\"NAP\",\"ATA\",\"ASY\",\"ATA\",\"TA\",\"ATA\",\"ASY\",\"ATA\",\"NAP\",\"ATA\",\"NAP\",\"ASY\",\"ATA\",\"ASY\",\"ASY\",\"ASY\",\"ATA\",\"ASY\",\"ATA\",\"ASY\",\"ATA\",\"ATA\",\"ATA\",\"NAP\",\"ASY\",\"TA\",\"TA\",\"NAP\",\"NAP\",\"ASY\",\"ATA\",\"ATA\",\"ATA\",\"ASY\",\"ATA\",\"NAP\",\"NAP\",\"ATA\",\"ATA\",\"ASY\",\"ATA\",\"ASY\",\"ATA\",\"ATA\",\"ATA\",\"ATA\",\"ATA\",\"ATA\",\"ASY\",\"ATA\",\"ASY\",\"ATA\",\"ATA\",\"ATA\",\"ATA\",\"TA\",\"ATA\",\"ASY\",\"NAP\",\"ATA\",\"NAP\",\"ATA\",\"NAP\",\"ASY\",\"ATA\",\"NAP\",\"ASY\",\"ATA\",\"ATA\",\"NAP\",\"ATA\",\"ASY\",\"ATA\",\"ATA\",\"NAP\",\"ATA\",\"TA\",\"ASY\",\"ATA\",\"TA\",\"TA\",\"NAP\",\"NAP\",\"ATA\",\"ATA\",\"ATA\",\"ATA\",\"ATA\",\"ASY\",\"ASY\",\"NAP\",\"TA\",\"ASY\",\"NAP\",\"ATA\",\"ATA\",\"ASY\",\"NAP\",\"NAP\",\"ATA\",\"ASY\",\"NAP\",\"ATA\",\"ASY\",\"ASY\",\"NAP\",\"ATA\",\"ASY\",\"ATA\",\"TA\",\"ATA\",\"ATA\",\"TA\",\"ASY\",\"ASY\",\"ATA\",\"NAP\",\"ATA\",\"NAP\",\"NAP\",\"ATA\",\"ATA\",\"ASY\",\"ATA\",\"ATA\",\"NAP\",\"ASY\",\"ATA\",\"NAP\",\"ATA\",\"NAP\",\"NAP\",\"ATA\",\"NAP\",\"ASY\",\"ATA\",\"ASY\",\"NAP\",\"ASY\",\"ATA\",\"ATA\",\"ATA\",\"NAP\",\"ATA\",\"ASY\",\"TA\",\"ASY\",\"ASY\",\"ASY\",\"ATA\",\"ASY\",\"ASY\",\"ASY\",\"ATA\",\"ASY\",\"ASY\",\"ASY\",\"ASY\",\"ASY\",\"ASY\",\"ATA\",\"NAP\",\"ASY\",\"ASY\",\"NAP\",\"ASY\",\"ASY\",\"ASY\",\"NAP\",\"NAP\",\"ASY\",\"NAP\",\"ASY\",\"ASY\",\"TA\",\"NAP\",\"ASY\",\"ASY\",\"ASY\",\"ASY\",\"ASY\",\"ASY\",\"ASY\",\"ASY\",\"ASY\",\"ASY\",\"ASY\",\"ASY\",\"TA\",\"ATA\",\"NAP\",\"NAP\",\"ASY\",\"NAP\",\"NAP\",\"ASY\",\"ASY\",\"ASY\",\"ASY\",\"ASY\",\"ASY\",\"ASY\",\"ASY\",\"TA\",\"NAP\",\"ASY\",\"ASY\",\"ASY\",\"ASY\",\"ASY\",\"ASY\",\"NAP\",\"ASY\",\"ASY\",\"NAP\",\"ATA\",\"ATA\",\"ASY\",\"ASY\",\"ASY\",\"ASY\",\"NAP\",\"NAP\",\"ASY\",\"NAP\",\"ASY\",\"ASY\",\"ASY\",\"ASY\",\"NAP\",\"ATA\",\"ATA\",\"ASY\",\"ATA\",\"ASY\",\"NAP\",\"TA\",\"ATA\",\"TA\",\"ASY\",\"TA\",\"ASY\",\"ASY\",\"ASY\",\"ASY\",\"ASY\",\"NAP\",\"ASY\",\"NAP\",\"NAP\",\"ASY\",\"ASY\",\"NAP\",\"ATA\",\"ASY\",\"ASY\",\"NAP\",\"ASY\",\"NAP\",\"TA\",\"ASY\",\"TA\",\"ASY\",\"NAP\",\"NAP\",\"NAP\",\"ATA\",\"ASY\",\"NAP\",\"ATA\",\"NAP\",\"NAP\",\"ATA\",\"ASY\",\"ASY\",\"ASY\",\"NAP\",\"ASY\",\"ASY\",\"ASY\",\"ASY\",\"TA\",\"ASY\",\"ASY\",\"ASY\",\"NAP\",\"ATA\",\"ASY\",\"ASY\",\"ASY\",\"ASY\",\"NAP\",\"TA\",\"ASY\",\"ASY\",\"ATA\",\"ASY\",\"ASY\",\"NAP\",\"NAP\",\"NAP\",\"NAP\",\"NAP\",\"ASY\",\"NAP\",\"TA\",\"NAP\",\"ASY\",\"ASY\",\"ASY\",\"ATA\",\"NAP\",\"NAP\",\"NAP\",\"ASY\",\"ASY\",\"ATA\",\"NAP\",\"ATA\",\"ATA\",\"ATA\",\"NAP\",\"ATA\",\"NAP\",\"NAP\",\"TA\",\"TA\",\"ATA\",\"NAP\",\"NAP\",\"ATA\",\"NAP\",\"ASY\",\"NAP\",\"NAP\",\"ATA\",\"ASY\",\"NAP\",\"TA\",\"ATA\",\"TA\",\"ATA\",\"ASY\",\"ASY\",\"ASY\",\"ASY\",\"ASY\",\"NAP\",\"ATA\",\"NAP\",\"ASY\",\"ASY\",\"ASY\",\"ASY\",\"ASY\",\"ASY\",\"ATA\",\"ATA\",\"ASY\",\"NAP\",\"ATA\",\"ATA\",\"ASY\",\"TA\",\"NAP\",\"NAP\",\"NAP\",\"NAP\",\"NAP\",\"ATA\",\"ASY\",\"NAP\",\"NAP\",\"ATA\",\"ASY\",\"ASY\",\"NAP\",\"ATA\",\"ASY\",\"NAP\",\"NAP\",\"NAP\",\"NAP\",\"ASY\",\"NAP\",\"ATA\",\"ATA\",\"TA\",\"ATA\",\"ASY\",\"ASY\",\"NAP\",\"TA\",\"TA\",\"NAP\",\"NAP\",\"TA\",\"ASY\",\"NAP\",\"ASY\",\"NAP\",\"NAP\",\"ASY\",\"ASY\",\"NAP\",\"NAP\",\"ASY\",\"ASY\",\"ASY\",\"ATA\",\"NAP\",\"ATA\",\"ASY\",\"NAP\",\"TA\",\"NAP\",\"ASY\",\"TA\",\"NAP\",\"NAP\",\"TA\",\"NAP\",\"NAP\",\"ATA\",\"ATA\",\"NAP\",\"NAP\",\"ATA\",\"ASY\",\"NAP\",\"ASY\",\"ATA\",\"NAP\",\"TA\",\"TA\",\"ASY\",\"ASY\",\"NAP\",\"ASY\",\"ASY\",\"NAP\",\"ATA\",\"NAP\",\"ASY\",\"ASY\",\"NAP\",\"ASY\",\"NAP\",\"NAP\",\"ASY\",\"ATA\",\"ASY\",\"NAP\",\"NAP\",\"ATA\",\"NAP\",\"ASY\",\"NAP\",\"ATA\",\"ATA\",\"ATA\",\"NAP\",\"ATA\",\"ATA\",\"ASY\",\"NAP\",\"NAP\",\"TA\",\"TA\",\"NAP\",\"NAP\",\"ATA\",\"ASY\",\"NAP\",\"ATA\",\"ASY\",\"ASY\",\"ATA\",\"ATA\",\"ATA\",\"NAP\",\"ATA\",\"ATA\",\"ASY\",\"TA\",\"ASY\",\"ATA\",\"NAP\"],\"x0\":\" \",\"xaxis\":\"x\",\"y\":[140,160,130,150,120,130,110,120,130,120,115,120,110,120,100,120,100,120,124,130,130,120,113,125,145,130,125,130,150,125,110,120,150,150,140,120,140,112,110,140,130,160,130,150,100,150,140,110,120,132,110,150,130,120,120,150,118,140,130,110,120,150,160,120,110,130,120,110,142,160,120,125,130,150,118,140,120,150,140,190,130,140,130,120,120,140,135,125,110,130,120,130,108,120,145,115,120,120,140,120,110,120,120,120,130,100,130,120,120,140,160,160,120,140,140,140,135,140,120,140,140,140,140,140,130,130,130,160,160,130,180,170,130,135,125,160,120,150,130,110,120,160,100,130,120,110,130,125,106,130,170,110,120,140,140,130,120,120,120,145,120,120,130,130,130,120,112,140,140,145,120,120,135,120,140,120,130,150,150,122,120,130,160,98,130,120,105,120,180,180,135,130,120,150,110,140,110,140,120,133,120,110,140,130,95,110,110,160,140,125,95,115,130,115,95,155,125,125,115,145,105,130,145,125,100,105,100,110,115,115,100,95,130,120,160,150,140,95,100,110,130,120,135,120,115,120,120,145,120,105,155,120,120,160,160,110,120,140,160,140,130,135,140,200,160,130,145,110,150,180,125,155,130,120,160,126,120,126,116,120,138,128,130,0,125,134,104,128,134,132,124,126,131,132,140,142,110,140,170,130,132,132,120,110,136,123,122,130,150,130,150,130,139,116,110,104,132,132,142,112,139,172,120,155,133,132,160,142,180,118,140,136,100,130,122,133,130,114,134,127,135,122,140,130,115,124,120,140,150,135,140,134,128,112,130,115,112,130,120,112,110,128,160,120,160,130,122,152,124,101,126,140,118,110,150,128,140,140,130,105,120,120,150,120,150,145,136,118,108,156,140,106,94,120,120,146,130,148,128,178,126,150,130,125,120,100,140,120,108,120,130,165,130,124,150,112,110,158,135,120,134,120,150,120,160,125,160,136,134,140,150,152,118,145,138,140,192,112,132,112,120,108,130,130,105,128,120,130,110,110,130,138,160,140,120,118,138,150,125,129,120,110,102,130,130,108,140,140,108,124,135,100,110,140,118,125,152,102,130,170,125,122,130,130,135,120,120,135,150,138,135,130,150,118,118,115,130,160,138,138,120,140,130,140,140,110,155,140,120,130,112,110,150,160,140,150,120,120,130,110,172,120,140,140,128,138,134,170,146,138,154,130,130,122,148,114,125,130,120,152,132,120,164,110,144,130,138],\"y0\":\" \",\"yaxis\":\"y\",\"type\":\"box\"},{\"alignmentgroup\":\"True\",\"hovertemplate\":\"Exercise Angina(N=No,Y=Yes)=Y\\u003cbr\\u003eChestPainType=%{x}\\u003cbr\\u003eRestingBP=%{y}\\u003cextra\\u003e\\u003c\\u002fextra\\u003e\",\"legendgroup\":\"Y\",\"marker\":{\"color\":\"#EF553B\"},\"name\":\"Y\",\"notched\":false,\"offsetgroup\":\"Y\",\"orientation\":\"v\",\"showlegend\":true,\"x\":[\"ASY\",\"ASY\",\"ATA\",\"ASY\",\"ATA\",\"ASY\",\"ASY\",\"ASY\",\"NAP\",\"ASY\",\"NAP\",\"ASY\",\"ASY\",\"ASY\",\"ASY\",\"ASY\",\"ASY\",\"ASY\",\"ATA\",\"ASY\",\"ATA\",\"ASY\",\"ASY\",\"ASY\",\"ATA\",\"ASY\",\"ASY\",\"ASY\",\"ASY\",\"ASY\",\"ASY\",\"ASY\",\"ASY\",\"ASY\",\"ATA\",\"NAP\",\"ASY\",\"ASY\",\"ASY\",\"ASY\",\"ASY\",\"ASY\",\"ASY\",\"ASY\",\"ASY\",\"ASY\",\"ASY\",\"ASY\",\"ASY\",\"ASY\",\"ASY\",\"ASY\",\"ASY\",\"ASY\",\"ASY\",\"ASY\",\"ASY\",\"ASY\",\"ASY\",\"ASY\",\"ASY\",\"ASY\",\"NAP\",\"NAP\",\"ASY\",\"ASY\",\"ASY\",\"ATA\",\"ASY\",\"ASY\",\"ASY\",\"ASY\",\"ATA\",\"ASY\",\"NAP\",\"ASY\",\"ASY\",\"ASY\",\"ASY\",\"ASY\",\"ATA\",\"ASY\",\"NAP\",\"ASY\",\"ASY\",\"ASY\",\"ASY\",\"ASY\",\"NAP\",\"ASY\",\"ASY\",\"ASY\",\"ASY\",\"ASY\",\"ASY\",\"ASY\",\"ASY\",\"ASY\",\"ASY\",\"ASY\",\"ASY\",\"ASY\",\"ASY\",\"ASY\",\"ASY\",\"ASY\",\"ASY\",\"ASY\",\"ASY\",\"NAP\",\"NAP\",\"ASY\",\"ASY\",\"ASY\",\"ASY\",\"ASY\",\"ASY\",\"ASY\",\"ASY\",\"ASY\",\"ASY\",\"ASY\",\"NAP\",\"ASY\",\"ASY\",\"ASY\",\"ASY\",\"ASY\",\"ASY\",\"ASY\",\"ASY\",\"ASY\",\"ASY\",\"ASY\",\"ASY\",\"ASY\",\"ASY\",\"NAP\",\"ASY\",\"ASY\",\"ASY\",\"NAP\",\"ASY\",\"ASY\",\"ASY\",\"ASY\",\"ASY\",\"NAP\",\"ASY\",\"NAP\",\"NAP\",\"ASY\",\"ASY\",\"NAP\",\"ASY\",\"ASY\",\"ASY\",\"ASY\",\"NAP\",\"ASY\",\"ASY\",\"ASY\",\"NAP\",\"ASY\",\"ASY\",\"ASY\",\"NAP\",\"ASY\",\"ASY\",\"ASY\",\"ASY\",\"ASY\",\"NAP\",\"ASY\",\"ASY\",\"ASY\",\"NAP\",\"NAP\",\"ASY\",\"ASY\",\"ASY\",\"NAP\",\"ASY\",\"ASY\",\"ASY\",\"NAP\",\"ATA\",\"ASY\",\"ASY\",\"ATA\",\"ASY\",\"ASY\",\"NAP\",\"NAP\",\"ASY\",\"ASY\",\"ASY\",\"ASY\",\"ASY\",\"ASY\",\"ASY\",\"ASY\",\"ASY\",\"NAP\",\"ASY\",\"NAP\",\"ASY\",\"TA\",\"ASY\",\"NAP\",\"ASY\",\"ASY\",\"ASY\",\"ASY\",\"ASY\",\"NAP\",\"ASY\",\"ASY\",\"ASY\",\"ASY\",\"ASY\",\"ASY\",\"NAP\",\"ASY\",\"ASY\",\"NAP\",\"ASY\",\"ASY\",\"ATA\",\"NAP\",\"TA\",\"NAP\",\"ASY\",\"NAP\",\"NAP\",\"ASY\",\"ASY\",\"ASY\",\"ASY\",\"ASY\",\"ASY\",\"ASY\",\"ASY\",\"ASY\",\"ASY\",\"ASY\",\"ASY\",\"ASY\",\"ASY\",\"ASY\",\"ASY\",\"ASY\",\"ASY\",\"ASY\",\"ASY\",\"ASY\",\"ASY\",\"ASY\",\"ASY\",\"ASY\",\"ASY\",\"ASY\",\"ASY\",\"ASY\",\"NAP\",\"NAP\",\"ASY\",\"NAP\",\"ASY\",\"ASY\",\"ASY\",\"ATA\",\"ASY\",\"ATA\",\"NAP\",\"ASY\",\"ASY\",\"ASY\",\"ASY\",\"TA\",\"TA\",\"ASY\",\"ATA\",\"ASY\",\"ASY\",\"ASY\",\"ASY\",\"ASY\",\"NAP\",\"ATA\",\"ASY\",\"ASY\",\"ASY\",\"ASY\",\"ASY\",\"ASY\",\"ASY\",\"ASY\",\"ASY\",\"ASY\",\"ASY\",\"ASY\",\"ASY\",\"ATA\",\"ASY\",\"ASY\",\"ASY\",\"NAP\",\"ASY\",\"ASY\",\"ASY\",\"ASY\",\"ASY\",\"ASY\",\"ASY\",\"ASY\",\"ASY\",\"ASY\",\"ASY\",\"NAP\",\"ASY\",\"ASY\",\"TA\",\"ASY\",\"ASY\",\"NAP\",\"ASY\",\"ASY\",\"TA\",\"ASY\",\"ASY\",\"ASY\",\"ASY\",\"ASY\",\"ASY\",\"ASY\",\"ASY\",\"NAP\",\"ASY\",\"ASY\",\"ASY\",\"ASY\",\"ASY\",\"ASY\",\"NAP\",\"NAP\",\"ASY\",\"NAP\",\"ASY\",\"ASY\",\"ASY\",\"ASY\",\"ASY\",\"ASY\",\"NAP\",\"ASY\",\"ASY\",\"NAP\",\"ASY\",\"ASY\",\"ASY\",\"ASY\",\"ASY\",\"ASY\",\"ASY\",\"ASY\",\"ASY\",\"ASY\",\"ASY\",\"ASY\",\"ASY\"],\"x0\":\" \",\"xaxis\":\"x\",\"y\":[138,140,136,140,150,124,140,150,130,120,130,130,120,130,120,112,120,160,140,140,140,150,140,170,140,140,160,130,130,120,150,140,100,130,180,120,110,170,150,130,140,150,160,140,160,130,155,110,130,140,128,140,140,140,130,140,110,120,120,180,120,150,140,130,150,160,92,120,120,160,160,200,160,160,120,122,130,130,125,145,140,120,140,130,130,140,170,180,130,115,105,145,110,120,120,80,140,115,105,125,95,130,110,137,110,140,120,130,115,115,160,160,200,150,135,140,150,135,150,185,135,125,155,140,120,160,115,115,150,145,130,115,150,160,170,165,135,110,120,140,115,160,125,130,140,132,142,110,150,180,120,140,110,133,128,170,110,152,130,128,130,120,136,130,124,160,122,144,140,120,136,154,120,139,136,122,131,120,152,138,154,141,178,110,130,170,126,120,134,139,140,136,120,137,142,142,146,160,135,136,130,140,158,136,136,106,160,112,150,102,96,120,144,124,144,131,143,133,143,110,125,130,133,150,130,138,138,170,140,144,145,150,160,137,137,134,140,135,144,141,150,130,110,158,128,140,150,142,137,139,146,156,145,131,140,122,141,124,140,190,160,130,120,130,140,120,155,134,160,144,158,120,128,120,130,110,142,140,140,110,140,120,132,138,170,144,130,140,130,160,136,138,174,130,150,140,120,120,142,104,120,150,110,140,124,110,110,100,140,180,200,130,122,152,120,117,108,112,120,142,125,132,125,123,110,112,140,178,120,150,128,180,138,100,140,134,132,160,145,126,125,125,140,160,105,125,128,94,110,130,132,145,128,120,180,130,145,150,132,130,160,132,128,110,128,170,120,140,124,140,130],\"y0\":\" \",\"yaxis\":\"y\",\"type\":\"box\"}],                        {\"template\":{\"data\":{\"histogram2dcontour\":[{\"type\":\"histogram2dcontour\",\"colorbar\":{\"outlinewidth\":0,\"ticks\":\"\"},\"colorscale\":[[0.0,\"#0d0887\"],[0.1111111111111111,\"#46039f\"],[0.2222222222222222,\"#7201a8\"],[0.3333333333333333,\"#9c179e\"],[0.4444444444444444,\"#bd3786\"],[0.5555555555555556,\"#d8576b\"],[0.6666666666666666,\"#ed7953\"],[0.7777777777777778,\"#fb9f3a\"],[0.8888888888888888,\"#fdca26\"],[1.0,\"#f0f921\"]]}],\"choropleth\":[{\"type\":\"choropleth\",\"colorbar\":{\"outlinewidth\":0,\"ticks\":\"\"}}],\"histogram2d\":[{\"type\":\"histogram2d\",\"colorbar\":{\"outlinewidth\":0,\"ticks\":\"\"},\"colorscale\":[[0.0,\"#0d0887\"],[0.1111111111111111,\"#46039f\"],[0.2222222222222222,\"#7201a8\"],[0.3333333333333333,\"#9c179e\"],[0.4444444444444444,\"#bd3786\"],[0.5555555555555556,\"#d8576b\"],[0.6666666666666666,\"#ed7953\"],[0.7777777777777778,\"#fb9f3a\"],[0.8888888888888888,\"#fdca26\"],[1.0,\"#f0f921\"]]}],\"heatmap\":[{\"type\":\"heatmap\",\"colorbar\":{\"outlinewidth\":0,\"ticks\":\"\"},\"colorscale\":[[0.0,\"#0d0887\"],[0.1111111111111111,\"#46039f\"],[0.2222222222222222,\"#7201a8\"],[0.3333333333333333,\"#9c179e\"],[0.4444444444444444,\"#bd3786\"],[0.5555555555555556,\"#d8576b\"],[0.6666666666666666,\"#ed7953\"],[0.7777777777777778,\"#fb9f3a\"],[0.8888888888888888,\"#fdca26\"],[1.0,\"#f0f921\"]]}],\"heatmapgl\":[{\"type\":\"heatmapgl\",\"colorbar\":{\"outlinewidth\":0,\"ticks\":\"\"},\"colorscale\":[[0.0,\"#0d0887\"],[0.1111111111111111,\"#46039f\"],[0.2222222222222222,\"#7201a8\"],[0.3333333333333333,\"#9c179e\"],[0.4444444444444444,\"#bd3786\"],[0.5555555555555556,\"#d8576b\"],[0.6666666666666666,\"#ed7953\"],[0.7777777777777778,\"#fb9f3a\"],[0.8888888888888888,\"#fdca26\"],[1.0,\"#f0f921\"]]}],\"contourcarpet\":[{\"type\":\"contourcarpet\",\"colorbar\":{\"outlinewidth\":0,\"ticks\":\"\"}}],\"contour\":[{\"type\":\"contour\",\"colorbar\":{\"outlinewidth\":0,\"ticks\":\"\"},\"colorscale\":[[0.0,\"#0d0887\"],[0.1111111111111111,\"#46039f\"],[0.2222222222222222,\"#7201a8\"],[0.3333333333333333,\"#9c179e\"],[0.4444444444444444,\"#bd3786\"],[0.5555555555555556,\"#d8576b\"],[0.6666666666666666,\"#ed7953\"],[0.7777777777777778,\"#fb9f3a\"],[0.8888888888888888,\"#fdca26\"],[1.0,\"#f0f921\"]]}],\"surface\":[{\"type\":\"surface\",\"colorbar\":{\"outlinewidth\":0,\"ticks\":\"\"},\"colorscale\":[[0.0,\"#0d0887\"],[0.1111111111111111,\"#46039f\"],[0.2222222222222222,\"#7201a8\"],[0.3333333333333333,\"#9c179e\"],[0.4444444444444444,\"#bd3786\"],[0.5555555555555556,\"#d8576b\"],[0.6666666666666666,\"#ed7953\"],[0.7777777777777778,\"#fb9f3a\"],[0.8888888888888888,\"#fdca26\"],[1.0,\"#f0f921\"]]}],\"mesh3d\":[{\"type\":\"mesh3d\",\"colorbar\":{\"outlinewidth\":0,\"ticks\":\"\"}}],\"scatter\":[{\"fillpattern\":{\"fillmode\":\"overlay\",\"size\":10,\"solidity\":0.2},\"type\":\"scatter\"}],\"parcoords\":[{\"type\":\"parcoords\",\"line\":{\"colorbar\":{\"outlinewidth\":0,\"ticks\":\"\"}}}],\"scatterpolargl\":[{\"type\":\"scatterpolargl\",\"marker\":{\"colorbar\":{\"outlinewidth\":0,\"ticks\":\"\"}}}],\"bar\":[{\"error_x\":{\"color\":\"#2a3f5f\"},\"error_y\":{\"color\":\"#2a3f5f\"},\"marker\":{\"line\":{\"color\":\"#E5ECF6\",\"width\":0.5},\"pattern\":{\"fillmode\":\"overlay\",\"size\":10,\"solidity\":0.2}},\"type\":\"bar\"}],\"scattergeo\":[{\"type\":\"scattergeo\",\"marker\":{\"colorbar\":{\"outlinewidth\":0,\"ticks\":\"\"}}}],\"scatterpolar\":[{\"type\":\"scatterpolar\",\"marker\":{\"colorbar\":{\"outlinewidth\":0,\"ticks\":\"\"}}}],\"histogram\":[{\"marker\":{\"pattern\":{\"fillmode\":\"overlay\",\"size\":10,\"solidity\":0.2}},\"type\":\"histogram\"}],\"scattergl\":[{\"type\":\"scattergl\",\"marker\":{\"colorbar\":{\"outlinewidth\":0,\"ticks\":\"\"}}}],\"scatter3d\":[{\"type\":\"scatter3d\",\"line\":{\"colorbar\":{\"outlinewidth\":0,\"ticks\":\"\"}},\"marker\":{\"colorbar\":{\"outlinewidth\":0,\"ticks\":\"\"}}}],\"scattermapbox\":[{\"type\":\"scattermapbox\",\"marker\":{\"colorbar\":{\"outlinewidth\":0,\"ticks\":\"\"}}}],\"scatterternary\":[{\"type\":\"scatterternary\",\"marker\":{\"colorbar\":{\"outlinewidth\":0,\"ticks\":\"\"}}}],\"scattercarpet\":[{\"type\":\"scattercarpet\",\"marker\":{\"colorbar\":{\"outlinewidth\":0,\"ticks\":\"\"}}}],\"carpet\":[{\"aaxis\":{\"endlinecolor\":\"#2a3f5f\",\"gridcolor\":\"white\",\"linecolor\":\"white\",\"minorgridcolor\":\"white\",\"startlinecolor\":\"#2a3f5f\"},\"baxis\":{\"endlinecolor\":\"#2a3f5f\",\"gridcolor\":\"white\",\"linecolor\":\"white\",\"minorgridcolor\":\"white\",\"startlinecolor\":\"#2a3f5f\"},\"type\":\"carpet\"}],\"table\":[{\"cells\":{\"fill\":{\"color\":\"#EBF0F8\"},\"line\":{\"color\":\"white\"}},\"header\":{\"fill\":{\"color\":\"#C8D4E3\"},\"line\":{\"color\":\"white\"}},\"type\":\"table\"}],\"barpolar\":[{\"marker\":{\"line\":{\"color\":\"#E5ECF6\",\"width\":0.5},\"pattern\":{\"fillmode\":\"overlay\",\"size\":10,\"solidity\":0.2}},\"type\":\"barpolar\"}],\"pie\":[{\"automargin\":true,\"type\":\"pie\"}]},\"layout\":{\"autotypenumbers\":\"strict\",\"colorway\":[\"#636efa\",\"#EF553B\",\"#00cc96\",\"#ab63fa\",\"#FFA15A\",\"#19d3f3\",\"#FF6692\",\"#B6E880\",\"#FF97FF\",\"#FECB52\"],\"font\":{\"color\":\"#2a3f5f\"},\"hovermode\":\"closest\",\"hoverlabel\":{\"align\":\"left\"},\"paper_bgcolor\":\"white\",\"plot_bgcolor\":\"#E5ECF6\",\"polar\":{\"bgcolor\":\"#E5ECF6\",\"angularaxis\":{\"gridcolor\":\"white\",\"linecolor\":\"white\",\"ticks\":\"\"},\"radialaxis\":{\"gridcolor\":\"white\",\"linecolor\":\"white\",\"ticks\":\"\"}},\"ternary\":{\"bgcolor\":\"#E5ECF6\",\"aaxis\":{\"gridcolor\":\"white\",\"linecolor\":\"white\",\"ticks\":\"\"},\"baxis\":{\"gridcolor\":\"white\",\"linecolor\":\"white\",\"ticks\":\"\"},\"caxis\":{\"gridcolor\":\"white\",\"linecolor\":\"white\",\"ticks\":\"\"}},\"coloraxis\":{\"colorbar\":{\"outlinewidth\":0,\"ticks\":\"\"}},\"colorscale\":{\"sequential\":[[0.0,\"#0d0887\"],[0.1111111111111111,\"#46039f\"],[0.2222222222222222,\"#7201a8\"],[0.3333333333333333,\"#9c179e\"],[0.4444444444444444,\"#bd3786\"],[0.5555555555555556,\"#d8576b\"],[0.6666666666666666,\"#ed7953\"],[0.7777777777777778,\"#fb9f3a\"],[0.8888888888888888,\"#fdca26\"],[1.0,\"#f0f921\"]],\"sequentialminus\":[[0.0,\"#0d0887\"],[0.1111111111111111,\"#46039f\"],[0.2222222222222222,\"#7201a8\"],[0.3333333333333333,\"#9c179e\"],[0.4444444444444444,\"#bd3786\"],[0.5555555555555556,\"#d8576b\"],[0.6666666666666666,\"#ed7953\"],[0.7777777777777778,\"#fb9f3a\"],[0.8888888888888888,\"#fdca26\"],[1.0,\"#f0f921\"]],\"diverging\":[[0,\"#8e0152\"],[0.1,\"#c51b7d\"],[0.2,\"#de77ae\"],[0.3,\"#f1b6da\"],[0.4,\"#fde0ef\"],[0.5,\"#f7f7f7\"],[0.6,\"#e6f5d0\"],[0.7,\"#b8e186\"],[0.8,\"#7fbc41\"],[0.9,\"#4d9221\"],[1,\"#276419\"]]},\"xaxis\":{\"gridcolor\":\"white\",\"linecolor\":\"white\",\"ticks\":\"\",\"title\":{\"standoff\":15},\"zerolinecolor\":\"white\",\"automargin\":true,\"zerolinewidth\":2},\"yaxis\":{\"gridcolor\":\"white\",\"linecolor\":\"white\",\"ticks\":\"\",\"title\":{\"standoff\":15},\"zerolinecolor\":\"white\",\"automargin\":true,\"zerolinewidth\":2},\"scene\":{\"xaxis\":{\"backgroundcolor\":\"#E5ECF6\",\"gridcolor\":\"white\",\"linecolor\":\"white\",\"showbackground\":true,\"ticks\":\"\",\"zerolinecolor\":\"white\",\"gridwidth\":2},\"yaxis\":{\"backgroundcolor\":\"#E5ECF6\",\"gridcolor\":\"white\",\"linecolor\":\"white\",\"showbackground\":true,\"ticks\":\"\",\"zerolinecolor\":\"white\",\"gridwidth\":2},\"zaxis\":{\"backgroundcolor\":\"#E5ECF6\",\"gridcolor\":\"white\",\"linecolor\":\"white\",\"showbackground\":true,\"ticks\":\"\",\"zerolinecolor\":\"white\",\"gridwidth\":2}},\"shapedefaults\":{\"line\":{\"color\":\"#2a3f5f\"}},\"annotationdefaults\":{\"arrowcolor\":\"#2a3f5f\",\"arrowhead\":0,\"arrowwidth\":1},\"geo\":{\"bgcolor\":\"white\",\"landcolor\":\"#E5ECF6\",\"subunitcolor\":\"white\",\"showland\":true,\"showlakes\":true,\"lakecolor\":\"white\"},\"title\":{\"x\":0.05},\"mapbox\":{\"style\":\"light\"}}},\"xaxis\":{\"anchor\":\"y\",\"domain\":[0.0,1.0],\"title\":{\"text\":\"ChestPainType\"}},\"yaxis\":{\"anchor\":\"x\",\"domain\":[0.0,1.0],\"title\":{\"text\":\"RestingBP\"}},\"legend\":{\"title\":{\"text\":\"Exercise Angina(N=No,Y=Yes)\"},\"tracegroupgap\":0},\"title\":{\"text\":\"Resting Blood Pressure by Chest Pain Type\"},\"boxmode\":\"group\",\"width\":700,\"height\":400},                        {\"responsive\": true}                    ).then(function(){\n",
       "                            \n",
       "var gd = document.getElementById('00ff5dac-1eb5-4ac4-a8bd-052b9212b388');\n",
       "var x = new MutationObserver(function (mutations, observer) {{\n",
       "        var display = window.getComputedStyle(gd).display;\n",
       "        if (!display || display === 'none') {{\n",
       "            console.log([gd, 'removed!']);\n",
       "            Plotly.purge(gd);\n",
       "            observer.disconnect();\n",
       "        }}\n",
       "}});\n",
       "\n",
       "// Listen for the removal of the full notebook cells\n",
       "var notebookContainer = gd.closest('#notebook-container');\n",
       "if (notebookContainer) {{\n",
       "    x.observe(notebookContainer, {childList: true});\n",
       "}}\n",
       "\n",
       "// Listen for the clearing of the current output cell\n",
       "var outputEl = gd.closest('.output');\n",
       "if (outputEl) {{\n",
       "    x.observe(outputEl, {childList: true});\n",
       "}}\n",
       "\n",
       "                        })                };                });            </script>        </div>"
      ]
     },
     "metadata": {},
     "output_type": "display_data"
    }
   ],
   "source": [
    "# box plot of RestingBP by ChestPainType\n",
    "fig = px.box(df,x='ChestPainType',y='RestingBP',color='ExerciseAngina',title='Resting Blood Pressure by Chest Pain Type',labels={'ExerciseAngina':'Exercise Angina(N=No,Y=Yes)'})\n",
    "fig.update_layout(width=700,height=400)\n",
    "fig.show()"
   ]
  },
  {
   "cell_type": "markdown",
   "id": "bd90cc6d-50fa-4348-a5bc-a79bd9ad5972",
   "metadata": {},
   "source": [
    "### Pie Chart"
   ]
  },
  {
   "cell_type": "code",
   "execution_count": 155,
   "id": "68d4c701-98c7-4b08-bb12-463f88bce423",
   "metadata": {},
   "outputs": [
    {
     "data": {
      "application/vnd.plotly.v1+json": {
       "config": {
        "plotlyServerURL": "https://plot.ly"
       },
       "data": [
        {
         "domain": {
          "x": [
           0,
           1
          ],
          "y": [
           0,
           1
          ]
         },
         "hovertemplate": "label=%{label}<br>value=%{value}<extra></extra>",
         "labels": [
          "No Heart Disease (0)",
          "Heart Disease (1)"
         ],
         "legendgroup": "",
         "name": "",
         "showlegend": true,
         "type": "pie",
         "values": [
          508,
          410
         ]
        }
       ],
       "layout": {
        "height": 600,
        "legend": {
         "tracegroupgap": 0
        },
        "piecolorway": [
         "seagreen",
         "red"
        ],
        "template": {
         "data": {
          "bar": [
           {
            "error_x": {
             "color": "#2a3f5f"
            },
            "error_y": {
             "color": "#2a3f5f"
            },
            "marker": {
             "line": {
              "color": "#E5ECF6",
              "width": 0.5
             },
             "pattern": {
              "fillmode": "overlay",
              "size": 10,
              "solidity": 0.2
             }
            },
            "type": "bar"
           }
          ],
          "barpolar": [
           {
            "marker": {
             "line": {
              "color": "#E5ECF6",
              "width": 0.5
             },
             "pattern": {
              "fillmode": "overlay",
              "size": 10,
              "solidity": 0.2
             }
            },
            "type": "barpolar"
           }
          ],
          "carpet": [
           {
            "aaxis": {
             "endlinecolor": "#2a3f5f",
             "gridcolor": "white",
             "linecolor": "white",
             "minorgridcolor": "white",
             "startlinecolor": "#2a3f5f"
            },
            "baxis": {
             "endlinecolor": "#2a3f5f",
             "gridcolor": "white",
             "linecolor": "white",
             "minorgridcolor": "white",
             "startlinecolor": "#2a3f5f"
            },
            "type": "carpet"
           }
          ],
          "choropleth": [
           {
            "colorbar": {
             "outlinewidth": 0,
             "ticks": ""
            },
            "type": "choropleth"
           }
          ],
          "contour": [
           {
            "colorbar": {
             "outlinewidth": 0,
             "ticks": ""
            },
            "colorscale": [
             [
              0,
              "#0d0887"
             ],
             [
              0.1111111111111111,
              "#46039f"
             ],
             [
              0.2222222222222222,
              "#7201a8"
             ],
             [
              0.3333333333333333,
              "#9c179e"
             ],
             [
              0.4444444444444444,
              "#bd3786"
             ],
             [
              0.5555555555555556,
              "#d8576b"
             ],
             [
              0.6666666666666666,
              "#ed7953"
             ],
             [
              0.7777777777777778,
              "#fb9f3a"
             ],
             [
              0.8888888888888888,
              "#fdca26"
             ],
             [
              1,
              "#f0f921"
             ]
            ],
            "type": "contour"
           }
          ],
          "contourcarpet": [
           {
            "colorbar": {
             "outlinewidth": 0,
             "ticks": ""
            },
            "type": "contourcarpet"
           }
          ],
          "heatmap": [
           {
            "colorbar": {
             "outlinewidth": 0,
             "ticks": ""
            },
            "colorscale": [
             [
              0,
              "#0d0887"
             ],
             [
              0.1111111111111111,
              "#46039f"
             ],
             [
              0.2222222222222222,
              "#7201a8"
             ],
             [
              0.3333333333333333,
              "#9c179e"
             ],
             [
              0.4444444444444444,
              "#bd3786"
             ],
             [
              0.5555555555555556,
              "#d8576b"
             ],
             [
              0.6666666666666666,
              "#ed7953"
             ],
             [
              0.7777777777777778,
              "#fb9f3a"
             ],
             [
              0.8888888888888888,
              "#fdca26"
             ],
             [
              1,
              "#f0f921"
             ]
            ],
            "type": "heatmap"
           }
          ],
          "heatmapgl": [
           {
            "colorbar": {
             "outlinewidth": 0,
             "ticks": ""
            },
            "colorscale": [
             [
              0,
              "#0d0887"
             ],
             [
              0.1111111111111111,
              "#46039f"
             ],
             [
              0.2222222222222222,
              "#7201a8"
             ],
             [
              0.3333333333333333,
              "#9c179e"
             ],
             [
              0.4444444444444444,
              "#bd3786"
             ],
             [
              0.5555555555555556,
              "#d8576b"
             ],
             [
              0.6666666666666666,
              "#ed7953"
             ],
             [
              0.7777777777777778,
              "#fb9f3a"
             ],
             [
              0.8888888888888888,
              "#fdca26"
             ],
             [
              1,
              "#f0f921"
             ]
            ],
            "type": "heatmapgl"
           }
          ],
          "histogram": [
           {
            "marker": {
             "pattern": {
              "fillmode": "overlay",
              "size": 10,
              "solidity": 0.2
             }
            },
            "type": "histogram"
           }
          ],
          "histogram2d": [
           {
            "colorbar": {
             "outlinewidth": 0,
             "ticks": ""
            },
            "colorscale": [
             [
              0,
              "#0d0887"
             ],
             [
              0.1111111111111111,
              "#46039f"
             ],
             [
              0.2222222222222222,
              "#7201a8"
             ],
             [
              0.3333333333333333,
              "#9c179e"
             ],
             [
              0.4444444444444444,
              "#bd3786"
             ],
             [
              0.5555555555555556,
              "#d8576b"
             ],
             [
              0.6666666666666666,
              "#ed7953"
             ],
             [
              0.7777777777777778,
              "#fb9f3a"
             ],
             [
              0.8888888888888888,
              "#fdca26"
             ],
             [
              1,
              "#f0f921"
             ]
            ],
            "type": "histogram2d"
           }
          ],
          "histogram2dcontour": [
           {
            "colorbar": {
             "outlinewidth": 0,
             "ticks": ""
            },
            "colorscale": [
             [
              0,
              "#0d0887"
             ],
             [
              0.1111111111111111,
              "#46039f"
             ],
             [
              0.2222222222222222,
              "#7201a8"
             ],
             [
              0.3333333333333333,
              "#9c179e"
             ],
             [
              0.4444444444444444,
              "#bd3786"
             ],
             [
              0.5555555555555556,
              "#d8576b"
             ],
             [
              0.6666666666666666,
              "#ed7953"
             ],
             [
              0.7777777777777778,
              "#fb9f3a"
             ],
             [
              0.8888888888888888,
              "#fdca26"
             ],
             [
              1,
              "#f0f921"
             ]
            ],
            "type": "histogram2dcontour"
           }
          ],
          "mesh3d": [
           {
            "colorbar": {
             "outlinewidth": 0,
             "ticks": ""
            },
            "type": "mesh3d"
           }
          ],
          "parcoords": [
           {
            "line": {
             "colorbar": {
              "outlinewidth": 0,
              "ticks": ""
             }
            },
            "type": "parcoords"
           }
          ],
          "pie": [
           {
            "automargin": true,
            "type": "pie"
           }
          ],
          "scatter": [
           {
            "fillpattern": {
             "fillmode": "overlay",
             "size": 10,
             "solidity": 0.2
            },
            "type": "scatter"
           }
          ],
          "scatter3d": [
           {
            "line": {
             "colorbar": {
              "outlinewidth": 0,
              "ticks": ""
             }
            },
            "marker": {
             "colorbar": {
              "outlinewidth": 0,
              "ticks": ""
             }
            },
            "type": "scatter3d"
           }
          ],
          "scattercarpet": [
           {
            "marker": {
             "colorbar": {
              "outlinewidth": 0,
              "ticks": ""
             }
            },
            "type": "scattercarpet"
           }
          ],
          "scattergeo": [
           {
            "marker": {
             "colorbar": {
              "outlinewidth": 0,
              "ticks": ""
             }
            },
            "type": "scattergeo"
           }
          ],
          "scattergl": [
           {
            "marker": {
             "colorbar": {
              "outlinewidth": 0,
              "ticks": ""
             }
            },
            "type": "scattergl"
           }
          ],
          "scattermapbox": [
           {
            "marker": {
             "colorbar": {
              "outlinewidth": 0,
              "ticks": ""
             }
            },
            "type": "scattermapbox"
           }
          ],
          "scatterpolar": [
           {
            "marker": {
             "colorbar": {
              "outlinewidth": 0,
              "ticks": ""
             }
            },
            "type": "scatterpolar"
           }
          ],
          "scatterpolargl": [
           {
            "marker": {
             "colorbar": {
              "outlinewidth": 0,
              "ticks": ""
             }
            },
            "type": "scatterpolargl"
           }
          ],
          "scatterternary": [
           {
            "marker": {
             "colorbar": {
              "outlinewidth": 0,
              "ticks": ""
             }
            },
            "type": "scatterternary"
           }
          ],
          "surface": [
           {
            "colorbar": {
             "outlinewidth": 0,
             "ticks": ""
            },
            "colorscale": [
             [
              0,
              "#0d0887"
             ],
             [
              0.1111111111111111,
              "#46039f"
             ],
             [
              0.2222222222222222,
              "#7201a8"
             ],
             [
              0.3333333333333333,
              "#9c179e"
             ],
             [
              0.4444444444444444,
              "#bd3786"
             ],
             [
              0.5555555555555556,
              "#d8576b"
             ],
             [
              0.6666666666666666,
              "#ed7953"
             ],
             [
              0.7777777777777778,
              "#fb9f3a"
             ],
             [
              0.8888888888888888,
              "#fdca26"
             ],
             [
              1,
              "#f0f921"
             ]
            ],
            "type": "surface"
           }
          ],
          "table": [
           {
            "cells": {
             "fill": {
              "color": "#EBF0F8"
             },
             "line": {
              "color": "white"
             }
            },
            "header": {
             "fill": {
              "color": "#C8D4E3"
             },
             "line": {
              "color": "white"
             }
            },
            "type": "table"
           }
          ]
         },
         "layout": {
          "annotationdefaults": {
           "arrowcolor": "#2a3f5f",
           "arrowhead": 0,
           "arrowwidth": 1
          },
          "autotypenumbers": "strict",
          "coloraxis": {
           "colorbar": {
            "outlinewidth": 0,
            "ticks": ""
           }
          },
          "colorscale": {
           "diverging": [
            [
             0,
             "#8e0152"
            ],
            [
             0.1,
             "#c51b7d"
            ],
            [
             0.2,
             "#de77ae"
            ],
            [
             0.3,
             "#f1b6da"
            ],
            [
             0.4,
             "#fde0ef"
            ],
            [
             0.5,
             "#f7f7f7"
            ],
            [
             0.6,
             "#e6f5d0"
            ],
            [
             0.7,
             "#b8e186"
            ],
            [
             0.8,
             "#7fbc41"
            ],
            [
             0.9,
             "#4d9221"
            ],
            [
             1,
             "#276419"
            ]
           ],
           "sequential": [
            [
             0,
             "#0d0887"
            ],
            [
             0.1111111111111111,
             "#46039f"
            ],
            [
             0.2222222222222222,
             "#7201a8"
            ],
            [
             0.3333333333333333,
             "#9c179e"
            ],
            [
             0.4444444444444444,
             "#bd3786"
            ],
            [
             0.5555555555555556,
             "#d8576b"
            ],
            [
             0.6666666666666666,
             "#ed7953"
            ],
            [
             0.7777777777777778,
             "#fb9f3a"
            ],
            [
             0.8888888888888888,
             "#fdca26"
            ],
            [
             1,
             "#f0f921"
            ]
           ],
           "sequentialminus": [
            [
             0,
             "#0d0887"
            ],
            [
             0.1111111111111111,
             "#46039f"
            ],
            [
             0.2222222222222222,
             "#7201a8"
            ],
            [
             0.3333333333333333,
             "#9c179e"
            ],
            [
             0.4444444444444444,
             "#bd3786"
            ],
            [
             0.5555555555555556,
             "#d8576b"
            ],
            [
             0.6666666666666666,
             "#ed7953"
            ],
            [
             0.7777777777777778,
             "#fb9f3a"
            ],
            [
             0.8888888888888888,
             "#fdca26"
            ],
            [
             1,
             "#f0f921"
            ]
           ]
          },
          "colorway": [
           "#636efa",
           "#EF553B",
           "#00cc96",
           "#ab63fa",
           "#FFA15A",
           "#19d3f3",
           "#FF6692",
           "#B6E880",
           "#FF97FF",
           "#FECB52"
          ],
          "font": {
           "color": "#2a3f5f"
          },
          "geo": {
           "bgcolor": "white",
           "lakecolor": "white",
           "landcolor": "#E5ECF6",
           "showlakes": true,
           "showland": true,
           "subunitcolor": "white"
          },
          "hoverlabel": {
           "align": "left"
          },
          "hovermode": "closest",
          "mapbox": {
           "style": "light"
          },
          "paper_bgcolor": "white",
          "plot_bgcolor": "#E5ECF6",
          "polar": {
           "angularaxis": {
            "gridcolor": "white",
            "linecolor": "white",
            "ticks": ""
           },
           "bgcolor": "#E5ECF6",
           "radialaxis": {
            "gridcolor": "white",
            "linecolor": "white",
            "ticks": ""
           }
          },
          "scene": {
           "xaxis": {
            "backgroundcolor": "#E5ECF6",
            "gridcolor": "white",
            "gridwidth": 2,
            "linecolor": "white",
            "showbackground": true,
            "ticks": "",
            "zerolinecolor": "white"
           },
           "yaxis": {
            "backgroundcolor": "#E5ECF6",
            "gridcolor": "white",
            "gridwidth": 2,
            "linecolor": "white",
            "showbackground": true,
            "ticks": "",
            "zerolinecolor": "white"
           },
           "zaxis": {
            "backgroundcolor": "#E5ECF6",
            "gridcolor": "white",
            "gridwidth": 2,
            "linecolor": "white",
            "showbackground": true,
            "ticks": "",
            "zerolinecolor": "white"
           }
          },
          "shapedefaults": {
           "line": {
            "color": "#2a3f5f"
           }
          },
          "ternary": {
           "aaxis": {
            "gridcolor": "white",
            "linecolor": "white",
            "ticks": ""
           },
           "baxis": {
            "gridcolor": "white",
            "linecolor": "white",
            "ticks": ""
           },
           "bgcolor": "#E5ECF6",
           "caxis": {
            "gridcolor": "white",
            "linecolor": "white",
            "ticks": ""
           }
          },
          "title": {
           "x": 0.05
          },
          "xaxis": {
           "automargin": true,
           "gridcolor": "white",
           "linecolor": "white",
           "ticks": "",
           "title": {
            "standoff": 15
           },
           "zerolinecolor": "white",
           "zerolinewidth": 2
          },
          "yaxis": {
           "automargin": true,
           "gridcolor": "white",
           "linecolor": "white",
           "ticks": "",
           "title": {
            "standoff": 15
           },
           "zerolinecolor": "white",
           "zerolinewidth": 2
          }
         }
        },
        "title": {
         "text": "Proportion of Patients by Heart Disease Status"
        },
        "width": 500
       }
      },
      "image/png": "[encoded data removed]",
      "text/html": [
       "<div>                            <div id=\"9c7b83a2-fa53-4142-b980-28b38a29b968\" class=\"plotly-graph-div\" style=\"height:600px; width:500px;\"></div>            <script type=\"text/javascript\">                require([\"plotly\"], function(Plotly) {                    window.PLOTLYENV=window.PLOTLYENV || {};                                    if (document.getElementById(\"9c7b83a2-fa53-4142-b980-28b38a29b968\")) {                    Plotly.newPlot(                        \"9c7b83a2-fa53-4142-b980-28b38a29b968\",                        [{\"domain\":{\"x\":[0.0,1.0],\"y\":[0.0,1.0]},\"hovertemplate\":\"label=%{label}\\u003cbr\\u003evalue=%{value}\\u003cextra\\u003e\\u003c\\u002fextra\\u003e\",\"labels\":[\"No Heart Disease (0)\",\"Heart Disease (1)\"],\"legendgroup\":\"\",\"name\":\"\",\"showlegend\":true,\"values\":[508,410],\"type\":\"pie\"}],                        {\"template\":{\"data\":{\"histogram2dcontour\":[{\"type\":\"histogram2dcontour\",\"colorbar\":{\"outlinewidth\":0,\"ticks\":\"\"},\"colorscale\":[[0.0,\"#0d0887\"],[0.1111111111111111,\"#46039f\"],[0.2222222222222222,\"#7201a8\"],[0.3333333333333333,\"#9c179e\"],[0.4444444444444444,\"#bd3786\"],[0.5555555555555556,\"#d8576b\"],[0.6666666666666666,\"#ed7953\"],[0.7777777777777778,\"#fb9f3a\"],[0.8888888888888888,\"#fdca26\"],[1.0,\"#f0f921\"]]}],\"choropleth\":[{\"type\":\"choropleth\",\"colorbar\":{\"outlinewidth\":0,\"ticks\":\"\"}}],\"histogram2d\":[{\"type\":\"histogram2d\",\"colorbar\":{\"outlinewidth\":0,\"ticks\":\"\"},\"colorscale\":[[0.0,\"#0d0887\"],[0.1111111111111111,\"#46039f\"],[0.2222222222222222,\"#7201a8\"],[0.3333333333333333,\"#9c179e\"],[0.4444444444444444,\"#bd3786\"],[0.5555555555555556,\"#d8576b\"],[0.6666666666666666,\"#ed7953\"],[0.7777777777777778,\"#fb9f3a\"],[0.8888888888888888,\"#fdca26\"],[1.0,\"#f0f921\"]]}],\"heatmap\":[{\"type\":\"heatmap\",\"colorbar\":{\"outlinewidth\":0,\"ticks\":\"\"},\"colorscale\":[[0.0,\"#0d0887\"],[0.1111111111111111,\"#46039f\"],[0.2222222222222222,\"#7201a8\"],[0.3333333333333333,\"#9c179e\"],[0.4444444444444444,\"#bd3786\"],[0.5555555555555556,\"#d8576b\"],[0.6666666666666666,\"#ed7953\"],[0.7777777777777778,\"#fb9f3a\"],[0.8888888888888888,\"#fdca26\"],[1.0,\"#f0f921\"]]}],\"heatmapgl\":[{\"type\":\"heatmapgl\",\"colorbar\":{\"outlinewidth\":0,\"ticks\":\"\"},\"colorscale\":[[0.0,\"#0d0887\"],[0.1111111111111111,\"#46039f\"],[0.2222222222222222,\"#7201a8\"],[0.3333333333333333,\"#9c179e\"],[0.4444444444444444,\"#bd3786\"],[0.5555555555555556,\"#d8576b\"],[0.6666666666666666,\"#ed7953\"],[0.7777777777777778,\"#fb9f3a\"],[0.8888888888888888,\"#fdca26\"],[1.0,\"#f0f921\"]]}],\"contourcarpet\":[{\"type\":\"contourcarpet\",\"colorbar\":{\"outlinewidth\":0,\"ticks\":\"\"}}],\"contour\":[{\"type\":\"contour\",\"colorbar\":{\"outlinewidth\":0,\"ticks\":\"\"},\"colorscale\":[[0.0,\"#0d0887\"],[0.1111111111111111,\"#46039f\"],[0.2222222222222222,\"#7201a8\"],[0.3333333333333333,\"#9c179e\"],[0.4444444444444444,\"#bd3786\"],[0.5555555555555556,\"#d8576b\"],[0.6666666666666666,\"#ed7953\"],[0.7777777777777778,\"#fb9f3a\"],[0.8888888888888888,\"#fdca26\"],[1.0,\"#f0f921\"]]}],\"surface\":[{\"type\":\"surface\",\"colorbar\":{\"outlinewidth\":0,\"ticks\":\"\"},\"colorscale\":[[0.0,\"#0d0887\"],[0.1111111111111111,\"#46039f\"],[0.2222222222222222,\"#7201a8\"],[0.3333333333333333,\"#9c179e\"],[0.4444444444444444,\"#bd3786\"],[0.5555555555555556,\"#d8576b\"],[0.6666666666666666,\"#ed7953\"],[0.7777777777777778,\"#fb9f3a\"],[0.8888888888888888,\"#fdca26\"],[1.0,\"#f0f921\"]]}],\"mesh3d\":[{\"type\":\"mesh3d\",\"colorbar\":{\"outlinewidth\":0,\"ticks\":\"\"}}],\"scatter\":[{\"fillpattern\":{\"fillmode\":\"overlay\",\"size\":10,\"solidity\":0.2},\"type\":\"scatter\"}],\"parcoords\":[{\"type\":\"parcoords\",\"line\":{\"colorbar\":{\"outlinewidth\":0,\"ticks\":\"\"}}}],\"scatterpolargl\":[{\"type\":\"scatterpolargl\",\"marker\":{\"colorbar\":{\"outlinewidth\":0,\"ticks\":\"\"}}}],\"bar\":[{\"error_x\":{\"color\":\"#2a3f5f\"},\"error_y\":{\"color\":\"#2a3f5f\"},\"marker\":{\"line\":{\"color\":\"#E5ECF6\",\"width\":0.5},\"pattern\":{\"fillmode\":\"overlay\",\"size\":10,\"solidity\":0.2}},\"type\":\"bar\"}],\"scattergeo\":[{\"type\":\"scattergeo\",\"marker\":{\"colorbar\":{\"outlinewidth\":0,\"ticks\":\"\"}}}],\"scatterpolar\":[{\"type\":\"scatterpolar\",\"marker\":{\"colorbar\":{\"outlinewidth\":0,\"ticks\":\"\"}}}],\"histogram\":[{\"marker\":{\"pattern\":{\"fillmode\":\"overlay\",\"size\":10,\"solidity\":0.2}},\"type\":\"histogram\"}],\"scattergl\":[{\"type\":\"scattergl\",\"marker\":{\"colorbar\":{\"outlinewidth\":0,\"ticks\":\"\"}}}],\"scatter3d\":[{\"type\":\"scatter3d\",\"line\":{\"colorbar\":{\"outlinewidth\":0,\"ticks\":\"\"}},\"marker\":{\"colorbar\":{\"outlinewidth\":0,\"ticks\":\"\"}}}],\"scattermapbox\":[{\"type\":\"scattermapbox\",\"marker\":{\"colorbar\":{\"outlinewidth\":0,\"ticks\":\"\"}}}],\"scatterternary\":[{\"type\":\"scatterternary\",\"marker\":{\"colorbar\":{\"outlinewidth\":0,\"ticks\":\"\"}}}],\"scattercarpet\":[{\"type\":\"scattercarpet\",\"marker\":{\"colorbar\":{\"outlinewidth\":0,\"ticks\":\"\"}}}],\"carpet\":[{\"aaxis\":{\"endlinecolor\":\"#2a3f5f\",\"gridcolor\":\"white\",\"linecolor\":\"white\",\"minorgridcolor\":\"white\",\"startlinecolor\":\"#2a3f5f\"},\"baxis\":{\"endlinecolor\":\"#2a3f5f\",\"gridcolor\":\"white\",\"linecolor\":\"white\",\"minorgridcolor\":\"white\",\"startlinecolor\":\"#2a3f5f\"},\"type\":\"carpet\"}],\"table\":[{\"cells\":{\"fill\":{\"color\":\"#EBF0F8\"},\"line\":{\"color\":\"white\"}},\"header\":{\"fill\":{\"color\":\"#C8D4E3\"},\"line\":{\"color\":\"white\"}},\"type\":\"table\"}],\"barpolar\":[{\"marker\":{\"line\":{\"color\":\"#E5ECF6\",\"width\":0.5},\"pattern\":{\"fillmode\":\"overlay\",\"size\":10,\"solidity\":0.2}},\"type\":\"barpolar\"}],\"pie\":[{\"automargin\":true,\"type\":\"pie\"}]},\"layout\":{\"autotypenumbers\":\"strict\",\"colorway\":[\"#636efa\",\"#EF553B\",\"#00cc96\",\"#ab63fa\",\"#FFA15A\",\"#19d3f3\",\"#FF6692\",\"#B6E880\",\"#FF97FF\",\"#FECB52\"],\"font\":{\"color\":\"#2a3f5f\"},\"hovermode\":\"closest\",\"hoverlabel\":{\"align\":\"left\"},\"paper_bgcolor\":\"white\",\"plot_bgcolor\":\"#E5ECF6\",\"polar\":{\"bgcolor\":\"#E5ECF6\",\"angularaxis\":{\"gridcolor\":\"white\",\"linecolor\":\"white\",\"ticks\":\"\"},\"radialaxis\":{\"gridcolor\":\"white\",\"linecolor\":\"white\",\"ticks\":\"\"}},\"ternary\":{\"bgcolor\":\"#E5ECF6\",\"aaxis\":{\"gridcolor\":\"white\",\"linecolor\":\"white\",\"ticks\":\"\"},\"baxis\":{\"gridcolor\":\"white\",\"linecolor\":\"white\",\"ticks\":\"\"},\"caxis\":{\"gridcolor\":\"white\",\"linecolor\":\"white\",\"ticks\":\"\"}},\"coloraxis\":{\"colorbar\":{\"outlinewidth\":0,\"ticks\":\"\"}},\"colorscale\":{\"sequential\":[[0.0,\"#0d0887\"],[0.1111111111111111,\"#46039f\"],[0.2222222222222222,\"#7201a8\"],[0.3333333333333333,\"#9c179e\"],[0.4444444444444444,\"#bd3786\"],[0.5555555555555556,\"#d8576b\"],[0.6666666666666666,\"#ed7953\"],[0.7777777777777778,\"#fb9f3a\"],[0.8888888888888888,\"#fdca26\"],[1.0,\"#f0f921\"]],\"sequentialminus\":[[0.0,\"#0d0887\"],[0.1111111111111111,\"#46039f\"],[0.2222222222222222,\"#7201a8\"],[0.3333333333333333,\"#9c179e\"],[0.4444444444444444,\"#bd3786\"],[0.5555555555555556,\"#d8576b\"],[0.6666666666666666,\"#ed7953\"],[0.7777777777777778,\"#fb9f3a\"],[0.8888888888888888,\"#fdca26\"],[1.0,\"#f0f921\"]],\"diverging\":[[0,\"#8e0152\"],[0.1,\"#c51b7d\"],[0.2,\"#de77ae\"],[0.3,\"#f1b6da\"],[0.4,\"#fde0ef\"],[0.5,\"#f7f7f7\"],[0.6,\"#e6f5d0\"],[0.7,\"#b8e186\"],[0.8,\"#7fbc41\"],[0.9,\"#4d9221\"],[1,\"#276419\"]]},\"xaxis\":{\"gridcolor\":\"white\",\"linecolor\":\"white\",\"ticks\":\"\",\"title\":{\"standoff\":15},\"zerolinecolor\":\"white\",\"automargin\":true,\"zerolinewidth\":2},\"yaxis\":{\"gridcolor\":\"white\",\"linecolor\":\"white\",\"ticks\":\"\",\"title\":{\"standoff\":15},\"zerolinecolor\":\"white\",\"automargin\":true,\"zerolinewidth\":2},\"scene\":{\"xaxis\":{\"backgroundcolor\":\"#E5ECF6\",\"gridcolor\":\"white\",\"linecolor\":\"white\",\"showbackground\":true,\"ticks\":\"\",\"zerolinecolor\":\"white\",\"gridwidth\":2},\"yaxis\":{\"backgroundcolor\":\"#E5ECF6\",\"gridcolor\":\"white\",\"linecolor\":\"white\",\"showbackground\":true,\"ticks\":\"\",\"zerolinecolor\":\"white\",\"gridwidth\":2},\"zaxis\":{\"backgroundcolor\":\"#E5ECF6\",\"gridcolor\":\"white\",\"linecolor\":\"white\",\"showbackground\":true,\"ticks\":\"\",\"zerolinecolor\":\"white\",\"gridwidth\":2}},\"shapedefaults\":{\"line\":{\"color\":\"#2a3f5f\"}},\"annotationdefaults\":{\"arrowcolor\":\"#2a3f5f\",\"arrowhead\":0,\"arrowwidth\":1},\"geo\":{\"bgcolor\":\"white\",\"landcolor\":\"#E5ECF6\",\"subunitcolor\":\"white\",\"showland\":true,\"showlakes\":true,\"lakecolor\":\"white\"},\"title\":{\"x\":0.05},\"mapbox\":{\"style\":\"light\"}}},\"legend\":{\"tracegroupgap\":0},\"title\":{\"text\":\"Proportion of Patients by Heart Disease Status\"},\"piecolorway\":[\"seagreen\",\"red\"],\"height\":600,\"width\":500},                        {\"responsive\": true}                    ).then(function(){\n",
       "                            \n",
       "var gd = document.getElementById('9c7b83a2-fa53-4142-b980-28b38a29b968');\n",
       "var x = new MutationObserver(function (mutations, observer) {{\n",
       "        var display = window.getComputedStyle(gd).display;\n",
       "        if (!display || display === 'none') {{\n",
       "            console.log([gd, 'removed!']);\n",
       "            Plotly.purge(gd);\n",
       "            observer.disconnect();\n",
       "        }}\n",
       "}});\n",
       "\n",
       "// Listen for the removal of the full notebook cells\n",
       "var notebookContainer = gd.closest('#notebook-container');\n",
       "if (notebookContainer) {{\n",
       "    x.observe(notebookContainer, {childList: true});\n",
       "}}\n",
       "\n",
       "// Listen for the clearing of the current output cell\n",
       "var outputEl = gd.closest('.output');\n",
       "if (outputEl) {{\n",
       "    x.observe(outputEl, {childList: true});\n",
       "}}\n",
       "\n",
       "                        })                };                });            </script>        </div>"
      ]
     },
     "metadata": {},
     "output_type": "display_data"
    }
   ],
   "source": [
    "#Pie Chart for Heart Disease Breakdown\n",
    "count = df['HeartDisease'].value_counts()\n",
    "fig_pie=px.pie(values=count.values,names=['No Heart Disease (0)', 'Heart Disease (1)'],title='Proportion of Patients by Heart Disease Status',color_discrete_sequence=['seagreen', 'red'],width=500,height=600)\n",
    "fig_pie.show()"
   ]
  },
  {
   "cell_type": "markdown",
   "id": "a1790260-b811-4359-ae90-6a8e4b3e9675",
   "metadata": {},
   "source": [
    "## Trend Analysis"
   ]
  },
  {
   "cell_type": "code",
   "execution_count": 168,
   "id": "82a8ab38-9e82-497e-b552-ef9693c81fd3",
   "metadata": {},
   "outputs": [
    {
     "name": "stdout",
     "output_type": "stream",
     "text": [
      "AgeGroup\n",
      "20-30    0.000000\n",
      "30-40    0.342105\n",
      "40-50    0.402844\n",
      "50-60    0.566845\n",
      "60-70    0.734234\n",
      "70-80    0.709677\n",
      "Name: HeartDisease, dtype: float64\n"
     ]
    }
   ],
   "source": [
    "#Analyze and visualize how heart disease prevalence trends with age\n",
    "age_bins=[20,30,40,50,60,70,80]\n",
    "age_labels = ['20-30','30-40','40-50','50-60','60-70','70-80']\n",
    "df['AgeGroup']= pd.cut(df['Age'],bins=age_bins,labels=age_labels,right=False)\n",
    "age_trend = df.groupby('AgeGroup',observed=True)['HeartDisease'].mean()\n",
    "print(age_trend)"
   ]
  },
  {
   "cell_type": "code",
   "execution_count": 176,
   "id": "4d249260-2d1e-4128-b666-e0a1c62f1b90",
   "metadata": {},
   "outputs": [
    {
     "name": "stdout",
     "output_type": "stream",
     "text": [
      "Sex              F         M\n",
      "AgeGroup                    \n",
      "20-30          NaN  0.000000\n",
      "30-40     0.157895  0.403509\n",
      "40-50     0.115385  0.496855\n",
      "50-60     0.277778  0.635762\n",
      "60-70     0.454545  0.803371\n",
      "70-80     0.166667  0.840000\n"
     ]
    },
    {
     "data": {
      "image/png": "[encoded data removed]",
      "text/plain": [
       "<Figure size 700x300 with 1 Axes>"
      ]
     },
     "metadata": {},
     "output_type": "display_data"
    }
   ],
   "source": [
    "age_sex_trend = df.groupby(['AgeGroup', 'Sex'], observed=True)['HeartDisease'].mean().unstack()\n",
    "print(age_sex_trend)\n",
    "\n",
    "# Plot with matplotlib\n",
    "plt.figure(figsize=(7, 3))\n",
    "plt.plot(age_sex_trend.index, age_sex_trend['F'], marker='o', label='Female', color='salmon')\n",
    "plt.plot(age_sex_trend.index, age_sex_trend['M'], marker='o', label='Male', color='skyblue')\n",
    "plt.title('Heart Disease Prevalence by Age Group and Sex')\n",
    "plt.xlabel('Age Group')\n",
    "plt.ylabel('Proportion with Heart Disease')\n",
    "plt.legend()\n",
    "plt.grid(True, linestyle='--', alpha=0.7)\n",
    "plt.show()"
   ]
  },
  {
   "cell_type": "markdown",
   "id": "d2d18546-70ab-4634-8978-c4babcb2a33a",
   "metadata": {},
   "source": [
    "## Prediction Model"
   ]
  },
  {
   "cell_type": "code",
   "execution_count": 222,
   "id": "9e772a23-8056-4e9e-bc46-c8f4abbef009",
   "metadata": {},
   "outputs": [],
   "source": [
    "#Predict HeartDisease with two approaches - NumPy (DIY) and scikit-learn (Standard)\n",
    "#importing required libraries\n",
    "import pandas as pd\n",
    "import numpy as np\n",
    "import matplotlib.pyplot as plt\n",
    "from sklearn.model_selection import train_test_split\n",
    "from sklearn.linear_model import LogisticRegression\n",
    "from sklearn.metrics import accuracy_score, confusion_matrix"
   ]
  },
  {
   "cell_type": "code",
   "execution_count": 234,
   "id": "4c330ca1-fb12-4796-b42c-dfe7a0d73084",
   "metadata": {},
   "outputs": [
    {
     "name": "stdout",
     "output_type": "stream",
     "text": [
      "X shape: (918, 15)\n",
      "X_train shape: (734, 15)\n",
      "X_test shape: (184, 15)\n"
     ]
    }
   ],
   "source": [
    "# 4.1: Data Preparation\n",
    "df_encoded = pd.get_dummies(df, columns=['Sex', 'ChestPainType', 'RestingECG', 'ExerciseAngina', 'ST_Slope'], drop_first=True)\n",
    "\n",
    "# Features (X) and target (y) for scikit-learn\n",
    "X = df_encoded.drop(columns=['HeartDisease', 'AgeGroup'])  \n",
    "y = df_encoded['HeartDisease']  \n",
    "\n",
    "# Split into train and test sets, preserving indices\n",
    "X_train, X_test, y_train, y_test = train_test_split(X, y, test_size=0.2, random_state=42)\n",
    "\n",
    "# Convert X to NumPy for scikit-learn later, but keep indices\n",
    "X_train_np = X_train.to_numpy()\n",
    "X_test_np = X_test.to_numpy()\n",
    "\n",
    "\n",
    "print(\"X shape:\", X.shape)\n",
    "print(\"X_train shape:\", X_train.shape)\n",
    "print(\"X_test shape:\", X_test.shape)\n"
   ]
  },
  {
   "cell_type": "markdown",
   "id": "6b8fe8e9-6128-48ad-9b70-666a002c7d37",
   "metadata": {},
   "source": [
    "### Option 1: NumPy (DIY)"
   ]
  },
  {
   "cell_type": "code",
   "execution_count": 236,
   "id": "85740540-571e-496a-ace5-e4bfc0d77cce",
   "metadata": {},
   "outputs": [
    {
     "name": "stdout",
     "output_type": "stream",
     "text": [
      "\n",
      "Simple Rule-Based Model Accuracy\n",
      "Accuracy: 0.53\n"
     ]
    }
   ],
   "source": [
    "#Predict HeartDisease = 1 if Age > 50 AND Cholesterol > 200\n",
    "def simple_rule_prediction(df_subset):\n",
    "    predictions = np.where((df_subset['Age'] > 50) & (df_subset['Cholesterol'] > 200), 1, 0)\n",
    "    return predictions\n",
    "\n",
    "# Align with train/test split using pandas indices\n",
    "train_df = df.loc[X_train.index]  \n",
    "test_df = df.loc[X_test.index]    \n",
    "\n",
    "y_pred_rule_train = simple_rule_prediction(train_df)\n",
    "y_pred_rule_test = simple_rule_prediction(test_df)\n",
    "\n",
    "# Accuracy\n",
    "accuracy_rule = np.mean(y_pred_rule_test == y_test)\n",
    "print(\"\\nSimple Rule-Based Model Accuracy\")\n",
    "print(f\"Accuracy: {accuracy_rule:.2f}\")"
   ]
  },
  {
   "cell_type": "markdown",
   "id": "93496dae-84c4-4a78-9f1c-e05f9fa1c35f",
   "metadata": {},
   "source": [
    "### Option 2: Scikit-learn"
   ]
  },
  {
   "cell_type": "code",
   "execution_count": 238,
   "id": "ef53cd30-8f8d-44ba-9e5b-e3347a9f7efd",
   "metadata": {},
   "outputs": [
    {
     "name": "stdout",
     "output_type": "stream",
     "text": [
      "\n",
      "Scikit-learn Model Accuracy\n",
      "Accuracy: 0.85\n"
     ]
    }
   ],
   "source": [
    "#Logistic Regression with Scikit-learn\n",
    "model = LogisticRegression(max_iter=1000, random_state=42)\n",
    "model.fit(X_train_np, y_train)  \n",
    "y_pred_sklearn = model.predict(X_test_np)\n",
    "\n",
    "accuracy_sklearn = accuracy_score(y_test, y_pred_sklearn)\n",
    "print(\"\\nScikit-learn Model Accuracy\")\n",
    "print(f\"Accuracy: {accuracy_sklearn:.2f}\")"
   ]
  },
  {
   "cell_type": "code",
   "execution_count": 242,
   "id": "58e971ad-d6f5-4913-9c00-9bb018acaff8",
   "metadata": {},
   "outputs": [
    {
     "data": {
      "image/png": "[encoded data removed]",
      "text/plain": [
       "<Figure size 800x500 with 1 Axes>"
      ]
     },
     "metadata": {},
     "output_type": "display_data"
    },
    {
     "data": {
      "image/png": "[encoded data removed]",
      "text/plain": [
       "<Figure size 1200x500 with 2 Axes>"
      ]
     },
     "metadata": {},
     "output_type": "display_data"
    }
   ],
   "source": [
    "#Visualize Results\n",
    "#Bar Plot of Accuracies\n",
    "plt.figure(figsize=(8, 5))\n",
    "plt.bar(['Rule-Based', 'Scikit-learn'], [accuracy_rule, accuracy_sklearn], color=['skyblue', 'salmon'],width=0.2)\n",
    "plt.title('Model Accuracy Comparison')\n",
    "plt.ylabel('Accuracy')\n",
    "plt.ylim(0, 1)\n",
    "for i, v in enumerate([accuracy_rule, accuracy_sklearn]):\n",
    "    plt.text(i, v + 0.01, f\"{v:.2f}\", ha='center')\n",
    "plt.show()\n",
    "\n",
    "#Confusion Matrices\n",
    "cm_rule = confusion_matrix(y_test, y_pred_rule_test)\n",
    "cm_sklearn = confusion_matrix(y_test, y_pred_sklearn)\n",
    "\n",
    "fig, (ax1, ax2) = plt.subplots(1, 2, figsize=(12, 5))\n",
    "ax1.imshow(cm_rule, cmap='Blues')\n",
    "ax1.set_title('Confusion Matrix - Rule-Based')\n",
    "ax1.set_xticks([0, 1], ['No HD', 'HD'])\n",
    "ax1.set_yticks([0, 1], ['No HD', 'HD'])\n",
    "ax1.set_xlabel('Predicted')\n",
    "ax1.set_ylabel('Actual')\n",
    "for i in range(2):\n",
    "    for j in range(2):\n",
    "        ax1.text(j, i, cm_rule[i, j], ha='center', va='center', color='black')\n",
    "\n",
    "ax2.imshow(cm_sklearn, cmap='Blues')\n",
    "ax2.set_title('Confusion Matrix - Scikit-learn')\n",
    "ax2.set_xticks([0, 1], ['No HD', 'HD'])\n",
    "ax2.set_yticks([0, 1], ['No HD', 'HD'])\n",
    "ax2.set_xlabel('Predicted')\n",
    "ax2.set_ylabel('Actual')\n",
    "for i in range(2):\n",
    "    for j in range(2):\n",
    "        ax2.text(j, i, cm_sklearn[i, j], ha='center', va='center', color='black')\n",
    "\n",
    "plt.tight_layout()\n",
    "plt.show()"
   ]
  },
  {
   "cell_type": "markdown",
   "id": "460241d8-f97d-4947-8f70-d45dc6472bdf",
   "metadata": {},
   "source": [
    "# THE END"
   ]
  }
 ],
 "metadata": {
  "kernelspec": {
   "display_name": "Python [conda env:base] *",
   "language": "python",
   "name": "conda-base-py"
  },
  "language_info": {
   "codemirror_mode": {
    "name": "ipython",
    "version": 3
   },
   "file_extension": ".py",
   "mimetype": "text/x-python",
   "name": "python",
   "nbconvert_exporter": "python",
   "pygments_lexer": "ipython3",
   "version": "3.12.7"
  }
 },
 "nbformat": 4,
 "nbformat_minor": 5
}
